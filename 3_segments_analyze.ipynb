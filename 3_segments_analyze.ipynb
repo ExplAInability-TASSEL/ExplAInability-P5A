{
 "cells": [
  {
   "cell_type": "markdown",
   "metadata": {},
   "source": []
  },
  {
   "cell_type": "markdown",
   "metadata": {},
   "source": [
    "***Import necessary libraries***"
   ]
  },
  {
   "cell_type": "code",
   "execution_count": 1,
   "metadata": {},
   "outputs": [],
   "source": [
    "import rioxarray as rxr\n",
    "import os\n",
    "from rasterio.plot import show\n",
    "from PIL import Image\n",
    "import matplotlib.pyplot as plt\n",
    "import xarray as xr\n",
    "import numpy as np\n",
    "import matplotlib.pyplot as plt\n",
    "import rasterio\n",
    "import geopandas as gpd\n",
    "import rasterio.features\n",
    "from shapely.geometry import shape\n",
    "import pandas as pd\n",
    "import re"
   ]
  },
  {
   "cell_type": "markdown",
   "metadata": {},
   "source": [
    "Lets create the files variables"
   ]
  },
  {
   "cell_type": "code",
   "execution_count": 2,
   "metadata": {},
   "outputs": [],
   "source": [
    "# retreive some infos on fully contained segments\n",
    "contained_file_50 = 'data/contained_segments_50.txt'\n",
    "contained_file_0001 = 'data/contained_segments_0001.txt'\n",
    "contained_file_100 = 'data/contained_segments_100.txt'"
   ]
  },
  {
   "cell_type": "markdown",
   "metadata": {},
   "source": [
    "# Create necessary functions"
   ]
  },
  {
   "cell_type": "markdown",
   "metadata": {},
   "source": [
    "First lets create the function that transform the file of contained segments into a dataframe."
   ]
  },
  {
   "cell_type": "code",
   "execution_count": 89,
   "metadata": {},
   "outputs": [],
   "source": [
    "def open_included_segments(contained_file):\n",
    "    # load the data\n",
    "    with open(contained_file) as f:\n",
    "        lines = f.readlines()\n",
    "        # reteive line infos\n",
    "        segment_id = []\n",
    "        polygon_id = []\n",
    "        class_id = []\n",
    "        pixels = []\n",
    "        for line in lines:\n",
    "            # retrieve segment id\n",
    "            segment_id.append(line.split(',')[0].split(':')[1].strip())\n",
    "            # retrieve polygon id\n",
    "            polygon_id.append(line.split(',')[1].split(':')[1].strip())\n",
    "            # retrieve class id\n",
    "            class_id.append(line.split(',')[2].split(':')[1].strip())\n",
    "            # retrieve pixels\n",
    "            pixel_list_str = line.split(':')[4]\n",
    "            pixel_list_str = pixel_list_str[3:-3]\n",
    "            pixel_list = list(pixel_list_str.split('], ['))\n",
    "            pixel_list = [pixel.split(', ') for pixel in pixel_list]\n",
    "            pixel_list = [[int(pixel[0]), int(pixel[1])] for pixel in pixel_list]\n",
    "            pixels.append(pixel_list)\n",
    "        \n",
    "        # create a dataframe\n",
    "        df_full = pd.DataFrame()\n",
    "        df_full['segment_id'] = segment_id\n",
    "        df_full['polygon_id'] = polygon_id\n",
    "        df_full['class_id'] = class_id\n",
    "        df_full['pixels'] = pixels\n",
    "        return df_full"
   ]
  },
  {
   "cell_type": "markdown",
   "metadata": {},
   "source": [
    "Now create the function that shows infos on the included segments and display the distribution of the classes and the distributino of segments per polygon.  "
   ]
  },
  {
   "cell_type": "code",
   "execution_count": null,
   "metadata": {},
   "outputs": [],
   "source": [
    "def show_info_on_segments(df):\n",
    "    # show repartition, infos\n",
    "    print('Number of segments: ', len(df))\n",
    "    # show mean number of pixels per segment\n",
    "    print('Mean number of pixels per segment: ', np.mean([len(pixels) for pixels in df['pixels']]))\n",
    "\n",
    "    print('Number of fully contained segments per class: ')\n",
    "    print(df.groupby('class_id').count()['segment_id'])\n",
    "    # show the repartition using histogram\n",
    "    plt.hist(df['class_id'])\n",
    "    plt.show()\n",
    "\n",
    "    print('Number of fully contained segments per polygon: ')\n",
    "    #print(fully_contained_segments_df.groupby('polygon_id').count()['segment_id'])\n",
    "    # show the repartition using histogram\n",
    "    plt.hist(df['polygon_id'])\n",
    "    # remove x labels\n",
    "    plt.xticks([])\n",
    "    plt.show()"
   ]
  },
  {
   "cell_type": "markdown",
   "metadata": {},
   "source": [
    "# Use the function"
   ]
  },
  {
   "cell_type": "code",
   "execution_count": null,
   "metadata": {},
   "outputs": [],
   "source": [
    "dataframe_50 = open_included_segments(contained_file_50)\n",
    "dataframe_0001 = open_included_segments(contained_file_0001)\n",
    "dataframe_100 = open_included_segments(contained_file_100)\n",
    "\n",
    "show_info_on_segments(dataframe_50)\n",
    "show_info_on_segments(dataframe_0001)\n",
    "show_info_on_segments(dataframe_100)"
   ]
  },
  {
   "cell_type": "markdown",
   "metadata": {},
   "source": [
    "Results are the following :\n",
    "* **Results for `0.001%`**  \n",
    "Number of segments:  8916\n",
    "Mean number of pixels per segment:  16.270300583221175\n",
    "Number of fully contained segments per class:\n",
    "class_id\n",
    "1.0    1364\n",
    "2.0     925\n",
    "3.0    1277\n",
    "4.0    1436\n",
    "5.0    1986\n",
    "6.0    1597\n",
    "7.0     203\n",
    "8.0     128  \n",
    "<img src=\"assets\\segment_0001_1.png\" width=500>\n",
    "<img src=\"assets\\segment_0001_2.png\" width=500>\n",
    "\n",
    "* **Results for `50%`**  \n",
    "Number of fully contained segments:  4794\n",
    "Number of fully contained segments per class:\n",
    "class_id\n",
    "1.0     544\n",
    "2.0     409\n",
    "3.0     427\n",
    "4.0     794\n",
    "5.0    1403\n",
    "6.0    1089\n",
    "7.0      56\n",
    "8.0      72  \n",
    "<img src=\"assets\\segment_50_1.png\" width=500>\n",
    "<img src=\"assets\\segment_50_2.png\" width=500>\n",
    "\n",
    "* **Results for `100%`**  \n",
    "Number of fully contained segments:  2324\n",
    "Number of fully contained segments per class:\n",
    "class_id\n",
    "1.0    165\n",
    "2.0    125\n",
    "3.0     74\n",
    "4.0    334\n",
    "5.0    920\n",
    "6.0    661\n",
    "7.0      8\n",
    "8.0     37  \n",
    "<img src=\"assets\\segment_100_1.png\" width=500>\n",
    "<img src=\"assets\\segment_100_2.png\" width=500>\n",
    "\n",
    "\n",
    "That lead to the conclusion that we should use 50% for the rest of the project, as it is a good compromise between the number of segments and the class distribution."
   ]
  },
  {
   "cell_type": "markdown",
   "metadata": {},
   "source": [
    "Next step is to normalize the raster images."
   ]
  }
 ],
 "metadata": {
  "kernelspec": {
   "display_name": "Python 3",
   "language": "python",
   "name": "python3"
  },
  "language_info": {
   "codemirror_mode": {
    "name": "ipython",
    "version": 3
   },
   "file_extension": ".py",
   "mimetype": "text/x-python",
   "name": "python",
   "nbconvert_exporter": "python",
   "pygments_lexer": "ipython3",
   "version": "3.8.7"
  }
 },
 "nbformat": 4,
 "nbformat_minor": 2
}
