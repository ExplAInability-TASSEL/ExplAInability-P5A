{
 "cells": [
  {
   "cell_type": "markdown",
   "metadata": {},
   "source": [
    "***Import necessary libraries***"
   ]
  },
  {
   "cell_type": "code",
   "execution_count": 1,
   "metadata": {},
   "outputs": [
    {
     "name": "stderr",
     "output_type": "stream",
     "text": [
      "c:\\Users\\antoi\\Anaconda3\\lib\\site-packages\\numpy\\_distributor_init.py:32: UserWarning: loaded more than 1 DLL from .libs:\n",
      "c:\\Users\\antoi\\Anaconda3\\lib\\site-packages\\numpy\\.libs\\libopenblas.TXA6YQSD3GCQQC22GEQ54J2UDCXDXHWN.gfortran-win_amd64.dll\n",
      "c:\\Users\\antoi\\Anaconda3\\lib\\site-packages\\numpy\\.libs\\libopenblas.XWYDX2IKJW2NMTWSFYNGFUWKQU3LYTCZ.gfortran-win_amd64.dll\n",
      "  stacklevel=1)\n"
     ]
    }
   ],
   "source": [
    "import ast\n",
    "import re\n",
    "from tqdm import tqdm\n",
    "import json\n",
    "import pandas as pd\n",
    "import numpy as np"
   ]
  },
  {
   "cell_type": "markdown",
   "metadata": {},
   "source": [
    "## **Files Name**"
   ]
  },
  {
   "cell_type": "code",
   "execution_count": 2,
   "metadata": {},
   "outputs": [],
   "source": [
    "\n",
    "# Specify the path to your file\n",
    "input_filename = \"D:/General/ExaplAInability_Data/transfer_6060512_files_e989f8bb/segment_entier/contained_all_segments.txt\"\n",
    "output_filename = \"D:/General/ExaplAInability_Data/transfer_6060512_files_e989f8bb/segment_entier/filtered_segments.txt\"\n",
    "output_filename_20 = \"D:/General/ExaplAInability_Data/transfer_6060512_files_e989f8bb/segment_entier/filtered_segments_20.txt\"\n",
    "\n",
    "output_file = \"D:/General/ExaplAInability_Data/transfer_6060512_files_e989f8bb/segment_entier/contained_all_segments_ordered.txt\"\n",
    "\n",
    "test_input = \"data/segment_test_filter.txt\"\n",
    "test_output = \"data/segment_test_filter_output.txt\""
   ]
  },
  {
   "cell_type": "markdown",
   "metadata": {},
   "source": [
    "## Extract upper left corner of the image"
   ]
  },
  {
   "cell_type": "code",
   "execution_count": null,
   "metadata": {},
   "outputs": [],
   "source": [
    "# Open the input file for reading\n",
    "with open(input_filename, 'r') as input_file:\n",
    "    # Open the output file for writing\n",
    "    with open(output_filename, 'w') as output_file:\n",
    "        for line_num, line in enumerate(input_file, 1):\n",
    "            # Extract relevant information from the line\n",
    "            segment_info = line.strip().split(', ')\n",
    "            print(segment_info)\n",
    "            segment_id = int(segment_info[0].split(': ')[1])\n",
    "            print(segment_id)\n",
    "\n",
    "            # Extract the pixel coordinates using regular expression\n",
    "            pixels_str = re.search(r'Pixels: \\[\\[(.*?)\\]\\]', line)\n",
    "            print(pixels_str)\n",
    "            if pixels_str:\n",
    "                pixels_str = pixels_str.group(1)\n",
    "                pixels = [list(map(int, coord.split(', '))) for coord in pixels_str.split('], [')]\n",
    "\n",
    "                # Check if the segment is in the upper-left corner\n",
    "                if all(0 <= x <= 2256 and 0 <= y <= 2591 for x, y in pixels):\n",
    "                    # Write the line to the new file\n",
    "                    output_file.write(line)\n",
    "\n",
    "            # Update Progress Bar\n",
    "print(f\"\\nFiltered segments saved to {output_filename}\")"
   ]
  },
  {
   "cell_type": "markdown",
   "metadata": {},
   "source": [
    "## Verifications"
   ]
  },
  {
   "cell_type": "markdown",
   "metadata": {},
   "source": [
    "Check if the max and min values correspond to the x and y boundaries"
   ]
  },
  {
   "cell_type": "code",
   "execution_count": null,
   "metadata": {},
   "outputs": [],
   "source": [
    "import pandas as pd\n",
    "\n",
    "# Load the filtered segments into a DataFrame\n",
    "filtered_df = pd.read_csv(output_filename_20, sep=',', header=None, low_memory=False, on_bad_lines='skip')\n",
    "# Drop columns 0, 1, and 2\n",
    "filtered_df = filtered_df.drop(columns=[0, 1, 2])\n",
    "# Concatenate the remaining columns into one\n",
    "filtered_df['Concatenated Pixels'] = filtered_df.apply(lambda row: ''.join(map(str, row)), axis=1)\n",
    "filtered_df = filtered_df[['Concatenated Pixels']]"
   ]
  },
  {
   "cell_type": "code",
   "execution_count": 8,
   "metadata": {},
   "outputs": [],
   "source": [
    "# Remove the 'Pixels: ' prefix and convert the remaining string to a list\n",
    "filtered_df['Pixels'] = filtered_df['Concatenated Pixels'].str.replace('Pixels: ', '')\n",
    "filtered_df = filtered_df[['Pixels']]"
   ]
  },
  {
   "cell_type": "code",
   "execution_count": 9,
   "metadata": {},
   "outputs": [],
   "source": [
    "def convert_to_tuple_list(pixel_str):\n",
    "    if isinstance(pixel_str, float) and np.isnan(pixel_str):\n",
    "        return []\n",
    "    pixel_str = pixel_str.replace('[', '').replace(']', '').replace('nan', '')\n",
    "    pixel_list = pixel_str.split()\n",
    "    return [(int(pixel_list[i]), int(pixel_list[i + 1])) for i in range(0, len(pixel_list), 2) if 'nan' not in pixel_list[i]]\n",
    "\n",
    "filtered_df['Pixels'] = filtered_df['Pixels'].apply(convert_to_tuple_list)"
   ]
  },
  {
   "cell_type": "code",
   "execution_count": 10,
   "metadata": {},
   "outputs": [
    {
     "name": "stdout",
     "output_type": "stream",
     "text": [
      "Max X: 225, Max Y: 259\n"
     ]
    }
   ],
   "source": [
    "max_x = max_y = 0\n",
    "\n",
    "for pixel_list in filtered_df['Pixels']:\n",
    "    for pixel in pixel_list:\n",
    "        x, y = pixel\n",
    "        max_x = max(max_x, x)\n",
    "        max_y = max(max_y, y)\n",
    "\n",
    "print(f\"Max X: {max_x}, Max Y: {max_y}\")"
   ]
  },
  {
   "cell_type": "markdown",
   "metadata": {},
   "source": [
    "## Create the perimeter"
   ]
  },
  {
   "cell_type": "markdown",
   "metadata": {},
   "source": [
    "We want to create a new column giving the pixels of the perimeter of each segment, ordered clockwise."
   ]
  },
  {
   "cell_type": "code",
   "execution_count": 14,
   "metadata": {},
   "outputs": [],
   "source": [
    "# Read the file and split lines\n",
    "with open(test_input, 'r') as file:\n",
    "    lines = file.read().splitlines()"
   ]
  },
  {
   "cell_type": "markdown",
   "metadata": {},
   "source": [
    "Create the dataframe from the file"
   ]
  },
  {
   "cell_type": "code",
   "execution_count": 15,
   "metadata": {},
   "outputs": [],
   "source": [
    "# Initialize empty lists to store data\n",
    "segment_ids, polygon_ids, class_ids, pixels_list = [], [], [], []\n",
    "\n",
    "# Iterate through lines and extract information\n",
    "for line in lines:\n",
    "    if line.strip():  # Check if the line is not empty\n",
    "        segments = line.split(', ')\n",
    "        # Extract values using string manipulation\n",
    "        segment_id = int(segments[0].split(': ')[1])\n",
    "        polygon_id = 0\n",
    "        class_id = 0\n",
    "        # pixels are the concatenation of all other elements after the first 3\n",
    "        # remove the 'Pixels: '\n",
    "        pixels_str = ', '.join(segments[3:])\n",
    "        pixels_str = pixels_str.replace('Pixels: ', '').replace('[', '').replace(']', '').replace(',', '').split()\n",
    "        pixels_str = [(int(pixels_str[i]), int(pixels_str[i + 1])) for i in range(0, len(pixels_str), 2)]\n",
    "        \n",
    "        # Append values to lists\n",
    "        segment_ids.append(segment_id)\n",
    "        polygon_ids.append(polygon_id)\n",
    "        class_ids.append(class_id)\n",
    "        pixels_list.append(pixels_str)\n",
    "\n",
    "# Create DataFrame\n",
    "df = pd.DataFrame({\n",
    "    'Segment ID': segment_ids,\n",
    "    'Polygon ID': polygon_ids,\n",
    "    'Class ID': class_ids,\n",
    "    'Pixels': pixels_list\n",
    "})"
   ]
  },
  {
   "cell_type": "markdown",
   "metadata": {},
   "source": [
    "Create the new column"
   ]
  },
  {
   "cell_type": "markdown",
   "metadata": {},
   "source": [
    "First get the perimeter"
   ]
  },
  {
   "cell_type": "code",
   "execution_count": 16,
   "metadata": {},
   "outputs": [],
   "source": [
    "def get_perimeter_pixels(pixels):\n",
    "    rows = {}\n",
    "    for pixel in pixels:\n",
    "        row, col = pixel\n",
    "        if row not in rows:\n",
    "            rows[row] = []\n",
    "        rows[row].append(col)\n",
    "    perimeter_pixels = []\n",
    "    for row, cols in rows.items():\n",
    "        perimeter_pixels.append((row, min(cols)))\n",
    "        perimeter_pixels.append((row, max(cols)))\n",
    "    return perimeter_pixels"
   ]
  },
  {
   "cell_type": "code",
   "execution_count": 17,
   "metadata": {},
   "outputs": [],
   "source": [
    "df['Perimeter Pixels'] = df['Pixels'].apply(get_perimeter_pixels)\n"
   ]
  },
  {
   "cell_type": "markdown",
   "metadata": {},
   "source": [
    "Then order the perimeter clockwise"
   ]
  },
  {
   "cell_type": "code",
   "execution_count": 18,
   "metadata": {},
   "outputs": [],
   "source": [
    "def order_pixels_clockwise(pixels):\n",
    "    # Calculate the centroid of the pixels\n",
    "    centroid = [sum(pixel[0] for pixel in pixels)/len(pixels), sum(pixel[1] for pixel in pixels)/len(pixels)]\n",
    "    \n",
    "    # Sort the pixels by the angle each pixel makes with the centroid\n",
    "    sorted_pixels = sorted(pixels, key=lambda pixel: np.arctan2(pixel[1] - centroid[1], pixel[0] - centroid[0]))\n",
    "    \n",
    "    # Convert the result back to a list of tuples\n",
    "    return [tuple(pixel) for pixel in sorted_pixels]"
   ]
  },
  {
   "cell_type": "code",
   "execution_count": 19,
   "metadata": {},
   "outputs": [],
   "source": [
    "df['Perimeter Pixels'] = df['Perimeter Pixels'].apply(lambda x: order_pixels_clockwise(np.array(x)))"
   ]
  },
  {
   "cell_type": "code",
   "execution_count": 21,
   "metadata": {},
   "outputs": [
    {
     "data": {
      "text/html": [
       "<div>\n",
       "<style scoped>\n",
       "    .dataframe tbody tr th:only-of-type {\n",
       "        vertical-align: middle;\n",
       "    }\n",
       "\n",
       "    .dataframe tbody tr th {\n",
       "        vertical-align: top;\n",
       "    }\n",
       "\n",
       "    .dataframe thead th {\n",
       "        text-align: right;\n",
       "    }\n",
       "</style>\n",
       "<table border=\"1\" class=\"dataframe\">\n",
       "  <thead>\n",
       "    <tr style=\"text-align: right;\">\n",
       "      <th></th>\n",
       "      <th>Segment ID</th>\n",
       "      <th>Polygon ID</th>\n",
       "      <th>Class ID</th>\n",
       "      <th>Pixels</th>\n",
       "      <th>Perimeter Pixels</th>\n",
       "    </tr>\n",
       "  </thead>\n",
       "  <tbody>\n",
       "    <tr>\n",
       "      <th>0</th>\n",
       "      <td>0</td>\n",
       "      <td>0</td>\n",
       "      <td>0</td>\n",
       "      <td>[(0, 0), (0, 1), (0, 2), (0, 3), (0, 4), (1, 0...</td>\n",
       "      <td>[(0, 0), (1, 0), (2, 0), (3, 0), (4, 4), (4, 4...</td>\n",
       "    </tr>\n",
       "    <tr>\n",
       "      <th>1</th>\n",
       "      <td>1</td>\n",
       "      <td>0</td>\n",
       "      <td>0</td>\n",
       "      <td>[(0, 0), (0, 1), (0, 2), (0, 3), (0, 4), (1, 0...</td>\n",
       "      <td>[(0, 0), (1, 0), (2, 0), (4, 2), (4, 2), (2, 4...</td>\n",
       "    </tr>\n",
       "    <tr>\n",
       "      <th>2</th>\n",
       "      <td>2</td>\n",
       "      <td>0</td>\n",
       "      <td>0</td>\n",
       "      <td>[(0, 0), (0, 1), (0, 2), (0, 3), (0, 4), (1, 0...</td>\n",
       "      <td>[(0, 0), (1, 0), (2, 0), (3, 0), (4, 0), (4, 4...</td>\n",
       "    </tr>\n",
       "    <tr>\n",
       "      <th>3</th>\n",
       "      <td>3</td>\n",
       "      <td>0</td>\n",
       "      <td>0</td>\n",
       "      <td>[(0, 0), (0, 1), (0, 2), (0, 3), (0, 4), (1, 0...</td>\n",
       "      <td>[(0, 0), (1, 0), (2, 0), (3, 0), (4, 0), (4, 4...</td>\n",
       "    </tr>\n",
       "    <tr>\n",
       "      <th>4</th>\n",
       "      <td>4</td>\n",
       "      <td>0</td>\n",
       "      <td>0</td>\n",
       "      <td>[(0, 0), (0, 1), (0, 2), (0, 3), (0, 4), (1, 0...</td>\n",
       "      <td>[(0, 0), (1, 0), (2, 0), (3, 0), (4, 0), (4, 4...</td>\n",
       "    </tr>\n",
       "    <tr>\n",
       "      <th>5</th>\n",
       "      <td>5</td>\n",
       "      <td>0</td>\n",
       "      <td>0</td>\n",
       "      <td>[(0, 2), (2, 0), (2, 4), (4, 2)]</td>\n",
       "      <td>[(2, 0), (4, 2), (4, 2), (2, 4), (0, 2), (0, 2)]</td>\n",
       "    </tr>\n",
       "  </tbody>\n",
       "</table>\n",
       "</div>"
      ],
      "text/plain": [
       "   Segment ID  Polygon ID  Class ID  \\\n",
       "0           0           0         0   \n",
       "1           1           0         0   \n",
       "2           2           0         0   \n",
       "3           3           0         0   \n",
       "4           4           0         0   \n",
       "5           5           0         0   \n",
       "\n",
       "                                              Pixels  \\\n",
       "0  [(0, 0), (0, 1), (0, 2), (0, 3), (0, 4), (1, 0...   \n",
       "1  [(0, 0), (0, 1), (0, 2), (0, 3), (0, 4), (1, 0...   \n",
       "2  [(0, 0), (0, 1), (0, 2), (0, 3), (0, 4), (1, 0...   \n",
       "3  [(0, 0), (0, 1), (0, 2), (0, 3), (0, 4), (1, 0...   \n",
       "4  [(0, 0), (0, 1), (0, 2), (0, 3), (0, 4), (1, 0...   \n",
       "5                   [(0, 2), (2, 0), (2, 4), (4, 2)]   \n",
       "\n",
       "                                    Perimeter Pixels  \n",
       "0  [(0, 0), (1, 0), (2, 0), (3, 0), (4, 4), (4, 4...  \n",
       "1  [(0, 0), (1, 0), (2, 0), (4, 2), (4, 2), (2, 4...  \n",
       "2  [(0, 0), (1, 0), (2, 0), (3, 0), (4, 0), (4, 4...  \n",
       "3  [(0, 0), (1, 0), (2, 0), (3, 0), (4, 0), (4, 4...  \n",
       "4  [(0, 0), (1, 0), (2, 0), (3, 0), (4, 0), (4, 4...  \n",
       "5   [(2, 0), (4, 2), (4, 2), (2, 4), (0, 2), (0, 2)]  "
      ]
     },
     "execution_count": 21,
     "metadata": {},
     "output_type": "execute_result"
    }
   ],
   "source": [
    "df"
   ]
  },
  {
   "cell_type": "markdown",
   "metadata": {},
   "source": [
    "Now we can save the dataframe"
   ]
  },
  {
   "cell_type": "code",
   "execution_count": 12,
   "metadata": {},
   "outputs": [],
   "source": [
    "# save the dataframe in a csv file\n",
    "df.to_csv(test_output, index=False)"
   ]
  },
  {
   "cell_type": "code",
   "execution_count": null,
   "metadata": {},
   "outputs": [],
   "source": []
  }
 ],
 "metadata": {
  "kernelspec": {
   "display_name": "my_notebook_env",
   "language": "python",
   "name": "my_notebook_env"
  },
  "language_info": {
   "codemirror_mode": {
    "name": "ipython",
    "version": 3
   },
   "file_extension": ".py",
   "mimetype": "text/x-python",
   "name": "python",
   "nbconvert_exporter": "python",
   "pygments_lexer": "ipython3",
   "version": "3.7.3"
  }
 },
 "nbformat": 4,
 "nbformat_minor": 2
}
