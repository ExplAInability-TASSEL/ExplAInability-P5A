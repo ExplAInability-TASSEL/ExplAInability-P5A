{
 "cells": [
  {
   "cell_type": "code",
   "execution_count": 1,
   "metadata": {},
   "outputs": [],
   "source": [
    "import ast\n",
    "import re\n",
    "from tqdm import tqdm\n",
    "import json"
   ]
  },
  {
   "cell_type": "code",
   "execution_count": 2,
   "metadata": {},
   "outputs": [],
   "source": [
    "\n",
    "# Specify the path to your file\n",
    "input_filename = \"D:/General/ExaplAInability_Data/transfer_6060512_files_e989f8bb/segment_entier/contained_all_segments.txt\"\n",
    "output_filename = \"D:/General/ExaplAInability_Data/transfer_6060512_files_e989f8bb/segment_entier/filtered_segments.txt\"\n",
    "output_filename_20 = \"D:/General/ExaplAInability_Data/transfer_6060512_files_e989f8bb/segment_entier/filtered_segments_20.txt\""
   ]
  },
  {
   "cell_type": "code",
   "execution_count": 5,
   "metadata": {},
   "outputs": [],
   "source": [
    "import time\n",
    "\n",
    "def print_progress_bar(iteration, total, prefix='', suffix='', length=50, fill='█'):\n",
    "    percent = (\"{0:.1f}\").format(100 * (iteration / float(total)))\n",
    "    filled_length = int(length * iteration // total)\n",
    "    bar = fill * filled_length + '-' * (length - filled_length)\n",
    "    print(f'\\r{prefix} |{bar}| {percent}% {suffix}', end='\\r')\n",
    "    # Print New Line on Complete\n",
    "    if iteration == total:\n",
    "        print()"
   ]
  },
  {
   "cell_type": "code",
   "execution_count": null,
   "metadata": {},
   "outputs": [],
   "source": [
    "# Open the input file for reading\n",
    "with open(input_filename, 'r') as input_file:\n",
    "    # Open the output file for writing\n",
    "    with open(output_filename, 'w') as output_file:\n",
    "        for line_num, line in enumerate(input_file, 1):\n",
    "            # Extract relevant information from the line\n",
    "            segment_info = line.strip().split(', ')\n",
    "            print(segment_info)\n",
    "            segment_id = int(segment_info[0].split(': ')[1])\n",
    "            print(segment_id)\n",
    "\n",
    "            # Extract the pixel coordinates using regular expression\n",
    "            pixels_str = re.search(r'Pixels: \\[\\[(.*?)\\]\\]', line)\n",
    "            print(pixels_str)\n",
    "            if pixels_str:\n",
    "                pixels_str = pixels_str.group(1)\n",
    "                pixels = [list(map(int, coord.split(', '))) for coord in pixels_str.split('], [')]\n",
    "\n",
    "                # Check if the segment is in the upper-left corner\n",
    "                if all(0 <= x <= 2256 and 0 <= y <= 2591 for x, y in pixels):\n",
    "                    # Write the line to the new file\n",
    "                    output_file.write(line)\n",
    "\n",
    "            # Update Progress Bar\n",
    "            #print_progress_bar(line_num, total_lines, prefix='Progress:', suffix='Complete', length=50)\n",
    "\n",
    "print(f\"\\nFiltered segments saved to {output_filename}\")"
   ]
  },
  {
   "cell_type": "code",
   "execution_count": 7,
   "metadata": {},
   "outputs": [],
   "source": [
    "import pandas as pd\n",
    "\n",
    "# Load the filtered segments into a DataFrame\n",
    "filtered_df = pd.read_csv(output_filename_20, sep=',', header=None, low_memory=False, on_bad_lines='skip')\n",
    "# Drop columns 0, 1, and 2\n",
    "filtered_df = filtered_df.drop(columns=[0, 1, 2])\n",
    "# Concatenate the remaining columns into one\n",
    "filtered_df['Concatenated Pixels'] = filtered_df.apply(lambda row: ''.join(map(str, row)), axis=1)\n",
    "filtered_df = filtered_df[['Concatenated Pixels']]"
   ]
  },
  {
   "cell_type": "code",
   "execution_count": 8,
   "metadata": {},
   "outputs": [],
   "source": [
    "# Remove the 'Pixels: ' prefix and convert the remaining string to a list\n",
    "filtered_df['Pixels'] = filtered_df['Concatenated Pixels'].str.replace('Pixels: ', '')\n",
    "filtered_df = filtered_df[['Pixels']]"
   ]
  },
  {
   "cell_type": "code",
   "execution_count": 9,
   "metadata": {},
   "outputs": [],
   "source": [
    "def convert_to_tuple_list(pixel_str):\n",
    "    if isinstance(pixel_str, float) and np.isnan(pixel_str):\n",
    "        return []\n",
    "    pixel_str = pixel_str.replace('[', '').replace(']', '').replace('nan', '')\n",
    "    pixel_list = pixel_str.split()\n",
    "    return [(int(pixel_list[i]), int(pixel_list[i + 1])) for i in range(0, len(pixel_list), 2) if 'nan' not in pixel_list[i]]\n",
    "\n",
    "filtered_df['Pixels'] = filtered_df['Pixels'].apply(convert_to_tuple_list)"
   ]
  },
  {
   "cell_type": "code",
   "execution_count": 10,
   "metadata": {},
   "outputs": [
    {
     "name": "stdout",
     "output_type": "stream",
     "text": [
      "Max X: 225, Max Y: 259\n"
     ]
    }
   ],
   "source": [
    "max_x = max_y = 0\n",
    "\n",
    "for pixel_list in filtered_df['Pixels']:\n",
    "    for pixel in pixel_list:\n",
    "        x, y = pixel\n",
    "        max_x = max(max_x, x)\n",
    "        max_y = max(max_y, y)\n",
    "\n",
    "print(f\"Max X: {max_x}, Max Y: {max_y}\")"
   ]
  },
  {
   "cell_type": "code",
   "execution_count": 57,
   "metadata": {},
   "outputs": [
    {
     "data": {
      "text/html": [
       "<div>\n",
       "<style scoped>\n",
       "    .dataframe tbody tr th:only-of-type {\n",
       "        vertical-align: middle;\n",
       "    }\n",
       "\n",
       "    .dataframe tbody tr th {\n",
       "        vertical-align: top;\n",
       "    }\n",
       "\n",
       "    .dataframe thead th {\n",
       "        text-align: right;\n",
       "    }\n",
       "</style>\n",
       "<table border=\"1\" class=\"dataframe\">\n",
       "  <thead>\n",
       "    <tr style=\"text-align: right;\">\n",
       "      <th></th>\n",
       "      <th>Pixels</th>\n",
       "    </tr>\n",
       "  </thead>\n",
       "  <tbody>\n",
       "    <tr>\n",
       "      <th>0</th>\n",
       "      <td>[(0, 0), (0, 1), (0, 2), (0, 3), (0, 4), (1, 0...</td>\n",
       "    </tr>\n",
       "    <tr>\n",
       "      <th>1</th>\n",
       "      <td>[(0, 5), (0, 6), (0, 7), (0, 8), (1, 5), (1, 6...</td>\n",
       "    </tr>\n",
       "    <tr>\n",
       "      <th>2</th>\n",
       "      <td>[(0, 9), (0, 10), (0, 11), (0, 12), (1, 9), (1...</td>\n",
       "    </tr>\n",
       "    <tr>\n",
       "      <th>3</th>\n",
       "      <td>[(0, 13), (0, 14), (0, 15), (0, 16), (1, 13), ...</td>\n",
       "    </tr>\n",
       "    <tr>\n",
       "      <th>4</th>\n",
       "      <td>[(0, 17), (0, 18), (0, 19), (1, 16), (1, 17), ...</td>\n",
       "    </tr>\n",
       "  </tbody>\n",
       "</table>\n",
       "</div>"
      ],
      "text/plain": [
       "                                              Pixels\n",
       "0  [(0, 0), (0, 1), (0, 2), (0, 3), (0, 4), (1, 0...\n",
       "1  [(0, 5), (0, 6), (0, 7), (0, 8), (1, 5), (1, 6...\n",
       "2  [(0, 9), (0, 10), (0, 11), (0, 12), (1, 9), (1...\n",
       "3  [(0, 13), (0, 14), (0, 15), (0, 16), (1, 13), ...\n",
       "4  [(0, 17), (0, 18), (0, 19), (1, 16), (1, 17), ..."
      ]
     },
     "execution_count": 57,
     "metadata": {},
     "output_type": "execute_result"
    }
   ],
   "source": [
    "\n",
    "filtered_df.head()"
   ]
  }
 ],
 "metadata": {
  "kernelspec": {
   "display_name": "my_notebook_env",
   "language": "python",
   "name": "my_notebook_env"
  },
  "language_info": {
   "codemirror_mode": {
    "name": "ipython",
    "version": 3
   },
   "file_extension": ".py",
   "mimetype": "text/x-python",
   "name": "python",
   "nbconvert_exporter": "python",
   "pygments_lexer": "ipython3",
   "version": "3.7.3"
  }
 },
 "nbformat": 4,
 "nbformat_minor": 2
}
