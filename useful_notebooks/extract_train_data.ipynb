{
 "cells": [
  {
   "cell_type": "markdown",
   "metadata": {},
   "source": [
    "Extract the training data for the map."
   ]
  },
  {
   "cell_type": "markdown",
   "metadata": {},
   "source": [
    "***Import necessary libraries***"
   ]
  },
  {
   "cell_type": "code",
   "execution_count": 18,
   "metadata": {},
   "outputs": [],
   "source": [
    "import os\n",
    "from rasterio.plot import show\n",
    "import numpy as np\n",
    "import rasterio\n",
    "import rasterio.features\n",
    "import pandas as pd\n",
    "import time\n",
    "import tifffile as tiff\n",
    "import random\n",
    "import feather"
   ]
  },
  {
   "cell_type": "markdown",
   "metadata": {},
   "source": [
    "Lets create the files variables"
   ]
  },
  {
   "cell_type": "code",
   "execution_count": 19,
   "metadata": {},
   "outputs": [],
   "source": [
    "contained_file_50 = 'data\\contained_segments\\contained_segments_50.txt'\n",
    "contained_file_0001 = 'data\\contained_segments\\contained_segments_0001.txt'\n",
    "contained_file_100 = 'data\\contained_segments\\contained_segments_100.txt'\n",
    "contained_all_segments = 'data/contained_all_segments.txt'"
   ]
  },
  {
   "cell_type": "markdown",
   "metadata": {},
   "source": [
    "# Input and Output dataframe"
   ]
  },
  {
   "cell_type": "markdown",
   "metadata": {},
   "source": [
    "Create the function to load the segments."
   ]
  },
  {
   "cell_type": "code",
   "execution_count": 20,
   "metadata": {},
   "outputs": [],
   "source": [
    "def load_data_from_file(contained_file):\n",
    "    # load the data\n",
    "    with open(contained_file) as f:\n",
    "        lines = f.readlines()\n",
    "        # reteive line infos\n",
    "        segment_id = []\n",
    "        polygon_id = []\n",
    "        class_id = []\n",
    "        pixels = []\n",
    "        for line in lines:\n",
    "            # retrieve segment id\n",
    "            segment_id.append(line.split(',')[0].split(':')[1].strip())\n",
    "            # retrieve polygon id\n",
    "            polygon_id.append(line.split(',')[1].split(':')[1].strip())\n",
    "            # retrieve class id\n",
    "            class_id.append(line.split(',')[2].split(':')[1].strip())\n",
    "            # retrieve pixels\n",
    "            pixel_list_str = line.split(':')[4]\n",
    "            pixel_list_str = pixel_list_str[3:-3]\n",
    "            pixel_list = list(pixel_list_str.split('], ['))\n",
    "            pixel_list = [pixel.split(', ') for pixel in pixel_list]\n",
    "            pixel_list = [(int(pixel[0]), int(pixel[1])) for pixel in pixel_list]\n",
    "            pixels.append(pixel_list)\n",
    "        \n",
    "        # create a dataframe\n",
    "        df = pd.DataFrame()\n",
    "        df['segment_id'] = segment_id\n",
    "        df['polygon_id'] = polygon_id\n",
    "        df['class_id'] = class_id\n",
    "        df['pixels'] = pixels\n",
    "        \n",
    "        return df"
   ]
  },
  {
   "cell_type": "markdown",
   "metadata": {},
   "source": [
    "Load the segment dataframe."
   ]
  },
  {
   "cell_type": "code",
   "execution_count": 21,
   "metadata": {},
   "outputs": [],
   "source": [
    "dataframe_segment = load_data_from_file(contained_file_100)\n",
    "#dataframe_segment =  load_data_from_file(contained_all_segments)"
   ]
  },
  {
   "cell_type": "code",
   "execution_count": 22,
   "metadata": {},
   "outputs": [
    {
     "data": {
      "text/html": [
       "<div>\n",
       "<style scoped>\n",
       "    .dataframe tbody tr th:only-of-type {\n",
       "        vertical-align: middle;\n",
       "    }\n",
       "\n",
       "    .dataframe tbody tr th {\n",
       "        vertical-align: top;\n",
       "    }\n",
       "\n",
       "    .dataframe thead th {\n",
       "        text-align: right;\n",
       "    }\n",
       "</style>\n",
       "<table border=\"1\" class=\"dataframe\">\n",
       "  <thead>\n",
       "    <tr style=\"text-align: right;\">\n",
       "      <th></th>\n",
       "      <th>segment_id</th>\n",
       "      <th>polygon_id</th>\n",
       "      <th>class_id</th>\n",
       "      <th>pixels</th>\n",
       "    </tr>\n",
       "  </thead>\n",
       "  <tbody>\n",
       "    <tr>\n",
       "      <th>0</th>\n",
       "      <td>364025</td>\n",
       "      <td>3.0</td>\n",
       "      <td>1.0</td>\n",
       "      <td>[(1133, 2933), (1133, 2934), (1133, 2935), (11...</td>\n",
       "    </tr>\n",
       "    <tr>\n",
       "      <th>1</th>\n",
       "      <td>367183</td>\n",
       "      <td>4.0</td>\n",
       "      <td>2.0</td>\n",
       "      <td>[(1144, 2945), (1144, 2946), (1144, 2947), (11...</td>\n",
       "    </tr>\n",
       "    <tr>\n",
       "      <th>2</th>\n",
       "      <td>369134</td>\n",
       "      <td>4.0</td>\n",
       "      <td>2.0</td>\n",
       "      <td>[(1149, 2941), (1149, 2942), (1149, 2943), (11...</td>\n",
       "    </tr>\n",
       "    <tr>\n",
       "      <th>3</th>\n",
       "      <td>369135</td>\n",
       "      <td>4.0</td>\n",
       "      <td>2.0</td>\n",
       "      <td>[(1149, 2945), (1149, 2946), (1149, 2947), (11...</td>\n",
       "    </tr>\n",
       "    <tr>\n",
       "      <th>4</th>\n",
       "      <td>370405</td>\n",
       "      <td>4.0</td>\n",
       "      <td>2.0</td>\n",
       "      <td>[(1153, 2941), (1153, 2942), (1153, 2943), (11...</td>\n",
       "    </tr>\n",
       "  </tbody>\n",
       "</table>\n",
       "</div>"
      ],
      "text/plain": [
       "  segment_id polygon_id class_id  \\\n",
       "0     364025        3.0      1.0   \n",
       "1     367183        4.0      2.0   \n",
       "2     369134        4.0      2.0   \n",
       "3     369135        4.0      2.0   \n",
       "4     370405        4.0      2.0   \n",
       "\n",
       "                                              pixels  \n",
       "0  [(1133, 2933), (1133, 2934), (1133, 2935), (11...  \n",
       "1  [(1144, 2945), (1144, 2946), (1144, 2947), (11...  \n",
       "2  [(1149, 2941), (1149, 2942), (1149, 2943), (11...  \n",
       "3  [(1149, 2945), (1149, 2946), (1149, 2947), (11...  \n",
       "4  [(1153, 2941), (1153, 2942), (1153, 2943), (11...  "
      ]
     },
     "execution_count": 22,
     "metadata": {},
     "output_type": "execute_result"
    }
   ],
   "source": [
    "dataframe_segment.head()"
   ]
  },
  {
   "cell_type": "code",
   "execution_count": 13,
   "metadata": {},
   "outputs": [],
   "source": [
    "# save as text file\n",
    "output_file = 'D:/General/ExaplAInability_Data/transfer_6060512_files_e989f8bb/thibault_test_extraction/processed_data.txt'\n",
    "dataframe_segment.to_csv(output_file, sep='\\t', index=False)"
   ]
  },
  {
   "cell_type": "code",
   "execution_count": 14,
   "metadata": {},
   "outputs": [],
   "source": [
    "new_file = \"data/extraction_train/processed_data.txt\""
   ]
  },
  {
   "cell_type": "markdown",
   "metadata": {},
   "source": [
    "## Create the perimeter"
   ]
  },
  {
   "cell_type": "markdown",
   "metadata": {},
   "source": [
    "First get the perimeter"
   ]
  },
  {
   "cell_type": "code",
   "execution_count": 23,
   "metadata": {},
   "outputs": [],
   "source": [
    "def get_perimeter_pixels(pixels):\n",
    "    rows = {}\n",
    "    for pixel in pixels:\n",
    "        row, col = pixel\n",
    "        if row not in rows:\n",
    "            rows[row] = []\n",
    "        rows[row].append(col)\n",
    "    perimeter_pixels = []\n",
    "    for row, cols in rows.items():\n",
    "        perimeter_pixels.append((row, min(cols)))\n",
    "        perimeter_pixels.append((row, max(cols)))\n",
    "    return perimeter_pixels"
   ]
  },
  {
   "cell_type": "code",
   "execution_count": 25,
   "metadata": {},
   "outputs": [],
   "source": [
    "dataframe_segment['Perimeter Pixels'] = dataframe_segment['pixels'].apply(get_perimeter_pixels)\n"
   ]
  },
  {
   "cell_type": "code",
   "execution_count": 27,
   "metadata": {},
   "outputs": [
    {
     "data": {
      "text/html": [
       "<div>\n",
       "<style scoped>\n",
       "    .dataframe tbody tr th:only-of-type {\n",
       "        vertical-align: middle;\n",
       "    }\n",
       "\n",
       "    .dataframe tbody tr th {\n",
       "        vertical-align: top;\n",
       "    }\n",
       "\n",
       "    .dataframe thead th {\n",
       "        text-align: right;\n",
       "    }\n",
       "</style>\n",
       "<table border=\"1\" class=\"dataframe\">\n",
       "  <thead>\n",
       "    <tr style=\"text-align: right;\">\n",
       "      <th></th>\n",
       "      <th>segment_id</th>\n",
       "      <th>polygon_id</th>\n",
       "      <th>class_id</th>\n",
       "      <th>pixels</th>\n",
       "      <th>Perimeter Pixels</th>\n",
       "    </tr>\n",
       "  </thead>\n",
       "  <tbody>\n",
       "    <tr>\n",
       "      <th>0</th>\n",
       "      <td>364025</td>\n",
       "      <td>3.0</td>\n",
       "      <td>1.0</td>\n",
       "      <td>[(1133, 2933), (1133, 2934), (1133, 2935), (11...</td>\n",
       "      <td>[(1133, 2933), (1133, 2936), (1134, 2933), (11...</td>\n",
       "    </tr>\n",
       "    <tr>\n",
       "      <th>1</th>\n",
       "      <td>367183</td>\n",
       "      <td>4.0</td>\n",
       "      <td>2.0</td>\n",
       "      <td>[(1144, 2945), (1144, 2946), (1144, 2947), (11...</td>\n",
       "      <td>[(1144, 2945), (1144, 2947), (1145, 2945), (11...</td>\n",
       "    </tr>\n",
       "    <tr>\n",
       "      <th>2</th>\n",
       "      <td>369134</td>\n",
       "      <td>4.0</td>\n",
       "      <td>2.0</td>\n",
       "      <td>[(1149, 2941), (1149, 2942), (1149, 2943), (11...</td>\n",
       "      <td>[(1149, 2941), (1149, 2944), (1150, 2941), (11...</td>\n",
       "    </tr>\n",
       "    <tr>\n",
       "      <th>3</th>\n",
       "      <td>369135</td>\n",
       "      <td>4.0</td>\n",
       "      <td>2.0</td>\n",
       "      <td>[(1149, 2945), (1149, 2946), (1149, 2947), (11...</td>\n",
       "      <td>[(1149, 2945), (1149, 2948), (1150, 2945), (11...</td>\n",
       "    </tr>\n",
       "    <tr>\n",
       "      <th>4</th>\n",
       "      <td>370405</td>\n",
       "      <td>4.0</td>\n",
       "      <td>2.0</td>\n",
       "      <td>[(1153, 2941), (1153, 2942), (1153, 2943), (11...</td>\n",
       "      <td>[(1153, 2941), (1153, 2944), (1154, 2941), (11...</td>\n",
       "    </tr>\n",
       "  </tbody>\n",
       "</table>\n",
       "</div>"
      ],
      "text/plain": [
       "  segment_id polygon_id class_id  \\\n",
       "0     364025        3.0      1.0   \n",
       "1     367183        4.0      2.0   \n",
       "2     369134        4.0      2.0   \n",
       "3     369135        4.0      2.0   \n",
       "4     370405        4.0      2.0   \n",
       "\n",
       "                                              pixels  \\\n",
       "0  [(1133, 2933), (1133, 2934), (1133, 2935), (11...   \n",
       "1  [(1144, 2945), (1144, 2946), (1144, 2947), (11...   \n",
       "2  [(1149, 2941), (1149, 2942), (1149, 2943), (11...   \n",
       "3  [(1149, 2945), (1149, 2946), (1149, 2947), (11...   \n",
       "4  [(1153, 2941), (1153, 2942), (1153, 2943), (11...   \n",
       "\n",
       "                                    Perimeter Pixels  \n",
       "0  [(1133, 2933), (1133, 2936), (1134, 2933), (11...  \n",
       "1  [(1144, 2945), (1144, 2947), (1145, 2945), (11...  \n",
       "2  [(1149, 2941), (1149, 2944), (1150, 2941), (11...  \n",
       "3  [(1149, 2945), (1149, 2948), (1150, 2945), (11...  \n",
       "4  [(1153, 2941), (1153, 2944), (1154, 2941), (11...  "
      ]
     },
     "execution_count": 27,
     "metadata": {},
     "output_type": "execute_result"
    }
   ],
   "source": [
    "dataframe_segment.head()"
   ]
  },
  {
   "cell_type": "markdown",
   "metadata": {},
   "source": [
    "Then order the perimeter clockwise"
   ]
  },
  {
   "cell_type": "code",
   "execution_count": 28,
   "metadata": {},
   "outputs": [],
   "source": [
    "def order_pixels_clockwise(pixels):\n",
    "    # Calculate the centroid of the pixels\n",
    "    centroid = [sum(pixel[0] for pixel in pixels)/len(pixels), sum(pixel[1] for pixel in pixels)/len(pixels)]\n",
    "    \n",
    "    # Sort the pixels by the angle each pixel makes with the centroid\n",
    "    sorted_pixels = sorted(pixels, key=lambda pixel: np.arctan2(pixel[1] - centroid[1], pixel[0] - centroid[0]))\n",
    "    \n",
    "    # Convert the result back to a list of tuples\n",
    "    return [tuple(pixel) for pixel in sorted_pixels]"
   ]
  },
  {
   "cell_type": "code",
   "execution_count": 29,
   "metadata": {},
   "outputs": [],
   "source": [
    "dataframe_segment['Perimeter Pixels'] = dataframe_segment['Perimeter Pixels'].apply(lambda x: order_pixels_clockwise(np.array(x)))"
   ]
  },
  {
   "cell_type": "code",
   "execution_count": 30,
   "metadata": {},
   "outputs": [
    {
     "data": {
      "text/html": [
       "<div>\n",
       "<style scoped>\n",
       "    .dataframe tbody tr th:only-of-type {\n",
       "        vertical-align: middle;\n",
       "    }\n",
       "\n",
       "    .dataframe tbody tr th {\n",
       "        vertical-align: top;\n",
       "    }\n",
       "\n",
       "    .dataframe thead th {\n",
       "        text-align: right;\n",
       "    }\n",
       "</style>\n",
       "<table border=\"1\" class=\"dataframe\">\n",
       "  <thead>\n",
       "    <tr style=\"text-align: right;\">\n",
       "      <th></th>\n",
       "      <th>segment_id</th>\n",
       "      <th>polygon_id</th>\n",
       "      <th>class_id</th>\n",
       "      <th>pixels</th>\n",
       "      <th>Perimeter Pixels</th>\n",
       "    </tr>\n",
       "  </thead>\n",
       "  <tbody>\n",
       "    <tr>\n",
       "      <th>0</th>\n",
       "      <td>364025</td>\n",
       "      <td>3.0</td>\n",
       "      <td>1.0</td>\n",
       "      <td>[(1133, 2933), (1133, 2934), (1133, 2935), (11...</td>\n",
       "      <td>[(1133, 2933), (1134, 2933), (1135, 2933), (11...</td>\n",
       "    </tr>\n",
       "    <tr>\n",
       "      <th>1</th>\n",
       "      <td>367183</td>\n",
       "      <td>4.0</td>\n",
       "      <td>2.0</td>\n",
       "      <td>[(1144, 2945), (1144, 2946), (1144, 2947), (11...</td>\n",
       "      <td>[(1144, 2945), (1145, 2945), (1146, 2945), (11...</td>\n",
       "    </tr>\n",
       "    <tr>\n",
       "      <th>2</th>\n",
       "      <td>369134</td>\n",
       "      <td>4.0</td>\n",
       "      <td>2.0</td>\n",
       "      <td>[(1149, 2941), (1149, 2942), (1149, 2943), (11...</td>\n",
       "      <td>[(1149, 2941), (1150, 2941), (1151, 2941), (11...</td>\n",
       "    </tr>\n",
       "    <tr>\n",
       "      <th>3</th>\n",
       "      <td>369135</td>\n",
       "      <td>4.0</td>\n",
       "      <td>2.0</td>\n",
       "      <td>[(1149, 2945), (1149, 2946), (1149, 2947), (11...</td>\n",
       "      <td>[(1149, 2945), (1150, 2945), (1151, 2945), (11...</td>\n",
       "    </tr>\n",
       "    <tr>\n",
       "      <th>4</th>\n",
       "      <td>370405</td>\n",
       "      <td>4.0</td>\n",
       "      <td>2.0</td>\n",
       "      <td>[(1153, 2941), (1153, 2942), (1153, 2943), (11...</td>\n",
       "      <td>[(1153, 2941), (1154, 2941), (1155, 2941), (11...</td>\n",
       "    </tr>\n",
       "  </tbody>\n",
       "</table>\n",
       "</div>"
      ],
      "text/plain": [
       "  segment_id polygon_id class_id  \\\n",
       "0     364025        3.0      1.0   \n",
       "1     367183        4.0      2.0   \n",
       "2     369134        4.0      2.0   \n",
       "3     369135        4.0      2.0   \n",
       "4     370405        4.0      2.0   \n",
       "\n",
       "                                              pixels  \\\n",
       "0  [(1133, 2933), (1133, 2934), (1133, 2935), (11...   \n",
       "1  [(1144, 2945), (1144, 2946), (1144, 2947), (11...   \n",
       "2  [(1149, 2941), (1149, 2942), (1149, 2943), (11...   \n",
       "3  [(1149, 2945), (1149, 2946), (1149, 2947), (11...   \n",
       "4  [(1153, 2941), (1153, 2942), (1153, 2943), (11...   \n",
       "\n",
       "                                    Perimeter Pixels  \n",
       "0  [(1133, 2933), (1134, 2933), (1135, 2933), (11...  \n",
       "1  [(1144, 2945), (1145, 2945), (1146, 2945), (11...  \n",
       "2  [(1149, 2941), (1150, 2941), (1151, 2941), (11...  \n",
       "3  [(1149, 2945), (1150, 2945), (1151, 2945), (11...  \n",
       "4  [(1153, 2941), (1154, 2941), (1155, 2941), (11...  "
      ]
     },
     "execution_count": 30,
     "metadata": {},
     "output_type": "execute_result"
    }
   ],
   "source": [
    "dataframe_segment.head()"
   ]
  },
  {
   "cell_type": "code",
   "execution_count": 33,
   "metadata": {},
   "outputs": [],
   "source": [
    "# save as text file\n",
    "output_file = 'D:/General/ExaplAInability_Data/transfer_6060512_files_e989f8bb/thibault_test_extraction/processed_data_perimeter_ordered.txt'\n",
    "dataframe_segment.to_csv(output_file, sep='\\t', index=False)"
   ]
  },
  {
   "cell_type": "code",
   "execution_count": 34,
   "metadata": {},
   "outputs": [],
   "source": [
    "#load the output file back into a dataframe\n",
    "dataframe_segment = pd.read_csv(output_file, sep='\\t')"
   ]
  },
  {
   "cell_type": "code",
   "execution_count": 35,
   "metadata": {},
   "outputs": [
    {
     "data": {
      "text/html": [
       "<div>\n",
       "<style scoped>\n",
       "    .dataframe tbody tr th:only-of-type {\n",
       "        vertical-align: middle;\n",
       "    }\n",
       "\n",
       "    .dataframe tbody tr th {\n",
       "        vertical-align: top;\n",
       "    }\n",
       "\n",
       "    .dataframe thead th {\n",
       "        text-align: right;\n",
       "    }\n",
       "</style>\n",
       "<table border=\"1\" class=\"dataframe\">\n",
       "  <thead>\n",
       "    <tr style=\"text-align: right;\">\n",
       "      <th></th>\n",
       "      <th>segment_id</th>\n",
       "      <th>polygon_id</th>\n",
       "      <th>class_id</th>\n",
       "      <th>pixels</th>\n",
       "      <th>Perimeter Pixels</th>\n",
       "    </tr>\n",
       "  </thead>\n",
       "  <tbody>\n",
       "    <tr>\n",
       "      <th>0</th>\n",
       "      <td>364025</td>\n",
       "      <td>3.0</td>\n",
       "      <td>1.0</td>\n",
       "      <td>[(1133, 2933), (1133, 2934), (1133, 2935), (11...</td>\n",
       "      <td>[(1133, 2933), (1134, 2933), (1135, 2933), (11...</td>\n",
       "    </tr>\n",
       "    <tr>\n",
       "      <th>1</th>\n",
       "      <td>367183</td>\n",
       "      <td>4.0</td>\n",
       "      <td>2.0</td>\n",
       "      <td>[(1144, 2945), (1144, 2946), (1144, 2947), (11...</td>\n",
       "      <td>[(1144, 2945), (1145, 2945), (1146, 2945), (11...</td>\n",
       "    </tr>\n",
       "    <tr>\n",
       "      <th>2</th>\n",
       "      <td>369134</td>\n",
       "      <td>4.0</td>\n",
       "      <td>2.0</td>\n",
       "      <td>[(1149, 2941), (1149, 2942), (1149, 2943), (11...</td>\n",
       "      <td>[(1149, 2941), (1150, 2941), (1151, 2941), (11...</td>\n",
       "    </tr>\n",
       "    <tr>\n",
       "      <th>3</th>\n",
       "      <td>369135</td>\n",
       "      <td>4.0</td>\n",
       "      <td>2.0</td>\n",
       "      <td>[(1149, 2945), (1149, 2946), (1149, 2947), (11...</td>\n",
       "      <td>[(1149, 2945), (1150, 2945), (1151, 2945), (11...</td>\n",
       "    </tr>\n",
       "    <tr>\n",
       "      <th>4</th>\n",
       "      <td>370405</td>\n",
       "      <td>4.0</td>\n",
       "      <td>2.0</td>\n",
       "      <td>[(1153, 2941), (1153, 2942), (1153, 2943), (11...</td>\n",
       "      <td>[(1153, 2941), (1154, 2941), (1155, 2941), (11...</td>\n",
       "    </tr>\n",
       "  </tbody>\n",
       "</table>\n",
       "</div>"
      ],
      "text/plain": [
       "   segment_id  polygon_id  class_id  \\\n",
       "0      364025         3.0       1.0   \n",
       "1      367183         4.0       2.0   \n",
       "2      369134         4.0       2.0   \n",
       "3      369135         4.0       2.0   \n",
       "4      370405         4.0       2.0   \n",
       "\n",
       "                                              pixels  \\\n",
       "0  [(1133, 2933), (1133, 2934), (1133, 2935), (11...   \n",
       "1  [(1144, 2945), (1144, 2946), (1144, 2947), (11...   \n",
       "2  [(1149, 2941), (1149, 2942), (1149, 2943), (11...   \n",
       "3  [(1149, 2945), (1149, 2946), (1149, 2947), (11...   \n",
       "4  [(1153, 2941), (1153, 2942), (1153, 2943), (11...   \n",
       "\n",
       "                                    Perimeter Pixels  \n",
       "0  [(1133, 2933), (1134, 2933), (1135, 2933), (11...  \n",
       "1  [(1144, 2945), (1145, 2945), (1146, 2945), (11...  \n",
       "2  [(1149, 2941), (1150, 2941), (1151, 2941), (11...  \n",
       "3  [(1149, 2945), (1150, 2945), (1151, 2945), (11...  \n",
       "4  [(1153, 2941), (1154, 2941), (1155, 2941), (11...  "
      ]
     },
     "execution_count": 35,
     "metadata": {},
     "output_type": "execute_result"
    }
   ],
   "source": [
    "dataframe_segment.head()"
   ]
  }
 ],
 "metadata": {
  "kernelspec": {
   "display_name": "Python 3",
   "language": "python",
   "name": "python3"
  },
  "language_info": {
   "codemirror_mode": {
    "name": "ipython",
    "version": 3
   },
   "file_extension": ".py",
   "mimetype": "text/x-python",
   "name": "python",
   "nbconvert_exporter": "python",
   "pygments_lexer": "ipython3",
   "version": "3.8.7"
  }
 },
 "nbformat": 4,
 "nbformat_minor": 2
}
