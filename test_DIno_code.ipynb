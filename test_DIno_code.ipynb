{
 "cells": [
  {
   "cell_type": "code",
   "execution_count": 20,
   "metadata": {},
   "outputs": [],
   "source": [
    "import numpy as np\n",
    "import rasterio as rio\n",
    "from pyproj import Transformer"
   ]
  },
  {
   "cell_type": "code",
   "execution_count": 24,
   "metadata": {},
   "outputs": [],
   "source": [
    "image_path = \"tif_data/aquisition01_band02.tif\""
   ]
  },
  {
   "cell_type": "code",
   "execution_count": 25,
   "metadata": {},
   "outputs": [],
   "source": [
    "src = rio.open(image_path)\n",
    "data = src.read(1)"
   ]
  },
  {
   "cell_type": "code",
   "execution_count": 26,
   "metadata": {},
   "outputs": [],
   "source": [
    "nrow, ncol = data.shape\n",
    "in_epsg = src.crs\n",
    "out_epsg = \"EPSG:4326\"\n",
    "transformer = Transformer.from_crs(in_epsg, out_epsg)"
   ]
  },
  {
   "cell_type": "code",
   "execution_count": 27,
   "metadata": {},
   "outputs": [
    {
     "name": "stdout",
     "output_type": "stream",
     "text": [
      "i: 0 j: 0 -> c1: 402575.000000 c2: 1257185.000000 -> lat 11.371305 long -3.892915\n",
      "i: 0 j: 1 -> c1: 402585.000000 c2: 1257185.000000 -> lat 11.371305 long -3.892823\n",
      "i: 0 j: 2 -> c1: 402595.000000 c2: 1257185.000000 -> lat 11.371306 long -3.892732\n",
      "i: 0 j: 3 -> c1: 402605.000000 c2: 1257185.000000 -> lat 11.371306 long -3.892640\n",
      "i: 0 j: 4 -> c1: 402615.000000 c2: 1257185.000000 -> lat 11.371306 long -3.892548\n",
      "i: 1 j: 0 -> c1: 402575.000000 c2: 1257175.000000 -> lat 11.371215 long -3.892915\n",
      "i: 1 j: 1 -> c1: 402585.000000 c2: 1257175.000000 -> lat 11.371215 long -3.892823\n",
      "i: 1 j: 2 -> c1: 402595.000000 c2: 1257175.000000 -> lat 11.371215 long -3.892731\n",
      "i: 1 j: 3 -> c1: 402605.000000 c2: 1257175.000000 -> lat 11.371215 long -3.892640\n",
      "i: 1 j: 4 -> c1: 402615.000000 c2: 1257175.000000 -> lat 11.371216 long -3.892548\n"
     ]
    }
   ],
   "source": [
    "for i in range(2):\n",
    "    for j in range(5):\n",
    "        coords = src.xy(i,j)\n",
    "\n",
    "        lat, long = transformer.transform(coords[0],coords[1])\n",
    "        print(\"i: %d j: %d -> c1: %f c2: %f -> lat %f long %f\"%(i,j,coords[0],coords[1], lat, long))\n",
    "\n",
    "src.close()"
   ]
  },
  {
   "cell_type": "code",
   "execution_count": null,
   "metadata": {},
   "outputs": [],
   "source": [
    "## function to extract pixels coordinates to lat/long\n",
    "def get_lat_long(pixel0,pixel1):\n",
    "    coords = src.xy(pixel0,pixel1)\n",
    "\n",
    "    lat, long = transformer.transform(coords[0],coords[1])\n",
    "    print(\"x: %d y: %d -> c1: %f c2: %f -> lat %f long %f\"%(i,j,coords[0],coords[1], lat, long))\n",
    "    \n",
    "    return lat, long"
   ]
  }
 ],
 "metadata": {
  "kernelspec": {
   "display_name": "Python 3",
   "language": "python",
   "name": "python3"
  },
  "language_info": {
   "codemirror_mode": {
    "name": "ipython",
    "version": 3
   },
   "file_extension": ".py",
   "mimetype": "text/x-python",
   "name": "python",
   "nbconvert_exporter": "python",
   "pygments_lexer": "ipython3",
   "version": "3.8.7"
  }
 },
 "nbformat": 4,
 "nbformat_minor": 2
}
