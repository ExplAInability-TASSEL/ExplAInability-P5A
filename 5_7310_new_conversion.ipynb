{
 "cells": [
  {
   "cell_type": "code",
   "execution_count": 1,
   "metadata": {},
   "outputs": [],
   "source": [
    "import rioxarray as rxr\n",
    "import os\n",
    "from rasterio.plot import show\n",
    "from PIL import Image\n",
    "import matplotlib.pyplot as plt\n",
    "import xarray as xr\n",
    "import numpy as np\n",
    "import matplotlib.pyplot as plt\n",
    "import rasterio\n",
    "import geopandas as gpd\n",
    "import rasterio.features\n",
    "from shapely.geometry import shape\n",
    "import pandas as pd\n",
    "import time"
   ]
  },
  {
   "cell_type": "code",
   "execution_count": 2,
   "metadata": {},
   "outputs": [],
   "source": [
    "# retreive some infos on fully contained segments\n",
    "contained_file_50 = 'data/contained_segments_50.txt'\n",
    "contained_file_0001 = 'data/contained_segments_0001.txt'\n",
    "contained_file_100 = 'data/contained_segments_100.txt'"
   ]
  },
  {
   "cell_type": "code",
   "execution_count": 3,
   "metadata": {},
   "outputs": [],
   "source": [
    "folder = \"D:/General/ExaplAInability_Data/transfer_6060512_files_e989f8bb/normalized_output\"\n",
    "\n",
    "list_bands = ['02', '03', '04', '05', '06', '07', '08', '8A', '11', '12']"
   ]
  },
  {
   "cell_type": "markdown",
   "metadata": {},
   "source": [
    "- Satellite raster data (Sentinel 2)\n",
    "\t- 10 spectral bands, one per file (s2_2020_B02.tif, s2_2020_B03.tif, etc...)\n",
    "\t- Each file s2_2020_BXX.tif: contains an array of size (73, 4513, 5183)=(nb. dates, height, width)."
   ]
  },
  {
   "cell_type": "code",
   "execution_count": 4,
   "metadata": {},
   "outputs": [],
   "source": [
    "def load_data_from_file(contained_file):\n",
    "    # load the data\n",
    "    with open(contained_file) as f:\n",
    "        lines = f.readlines()\n",
    "        # reteive line infos\n",
    "        segment_id = []\n",
    "        polygon_id = []\n",
    "        class_id = []\n",
    "        pixels = []\n",
    "        for line in lines:\n",
    "            # retrieve segment id\n",
    "            segment_id.append(line.split(',')[0].split(':')[1].strip())\n",
    "            # retrieve polygon id\n",
    "            polygon_id.append(line.split(',')[1].split(':')[1].strip())\n",
    "            # retrieve class id\n",
    "            class_id.append(line.split(',')[2].split(':')[1].strip())\n",
    "            # retrieve pixels\n",
    "            pixel_list_str = line.split(':')[4]\n",
    "            pixel_list_str = pixel_list_str[3:-3]\n",
    "            pixel_list = list(pixel_list_str.split('], ['))\n",
    "            pixel_list = [pixel.split(', ') for pixel in pixel_list]\n",
    "            pixel_list = [[int(pixel[0]), int(pixel[1])] for pixel in pixel_list]\n",
    "            pixels.append(pixel_list)\n",
    "        \n",
    "        # create a dataframe\n",
    "        df = pd.DataFrame()\n",
    "        df['segment_id'] = segment_id\n",
    "        df['polygon_id'] = polygon_id\n",
    "        df['class_id'] = class_id\n",
    "        df['pixels'] = pixels\n",
    "        \n",
    "        return df"
   ]
  },
  {
   "cell_type": "code",
   "execution_count": 5,
   "metadata": {},
   "outputs": [],
   "source": [
    "dataframe_segment = load_data_from_file(contained_file_50)"
   ]
  },
  {
   "cell_type": "code",
   "execution_count": 19,
   "metadata": {},
   "outputs": [
    {
     "name": "stdout",
     "output_type": "stream",
     "text": [
      "mean lenth of segments' pixels\n",
      "16.178727841501566\n",
      "mean number of segments per polygon\n",
      "6.382157123834887\n",
      "number of polygons\n",
      "751\n",
      "total number of pixels\n",
      "77577\n"
     ]
    }
   ],
   "source": [
    "# show mean lenth of segments' pixels\n",
    "mean_lenth = []\n",
    "for pixels in dataframe_segment['pixels']:\n",
    "    mean_lenth.append(len(pixels))\n",
    "print(\"mean lenth of segments' pixels\")\n",
    "print(np.mean(mean_lenth))\n",
    "\n",
    "# show mean number of segments per polygon\n",
    "print(\"mean number of segments per polygon\")\n",
    "print(len(dataframe_segment['segment_id'].unique())/len(dataframe_segment['polygon_id'].unique()))\n",
    "\n",
    "# show number of polygons\n",
    "print(\"number of polygons\")\n",
    "print(len(dataframe_segment['polygon_id'].unique()))\n",
    "\n",
    "# show total number of pixels\n",
    "print(\"total number of pixels\")\n",
    "print(len(dataframe_segment['pixels'].sum()))"
   ]
  },
  {
   "cell_type": "code",
   "execution_count": null,
   "metadata": {},
   "outputs": [],
   "source": [
    "start = 1 # always 1\n",
    "acquisition = 73 # 73\n",
    "folder = \"D:/General/ExaplAInability_Data/transfer_6060512_files_e989f8bb/normalized_gathered_output\"\n",
    "print(f\"folder: {folder}\")\n",
    "\n",
    "for band in list_bands:\n",
    "    file_path = os.path.join(folder, f'normalized_s2_2020_B{band}.tif')\n",
    "    \n",
    "    for period in range(start, acquisition+1):\n",
    "        with rasterio.open(file_path) as src:\n",
    "            # check if all acquisitions exist as source in the file\n",
    "            print(src.count)\n"
   ]
  }
 ],
 "metadata": {
  "kernelspec": {
   "display_name": "Python 3",
   "language": "python",
   "name": "python3"
  },
  "language_info": {
   "codemirror_mode": {
    "name": "ipython",
    "version": 3
   },
   "file_extension": ".py",
   "mimetype": "text/x-python",
   "name": "python",
   "nbconvert_exporter": "python",
   "pygments_lexer": "ipython3",
   "version": "3.8.7"
  }
 },
 "nbformat": 4,
 "nbformat_minor": 2
}
