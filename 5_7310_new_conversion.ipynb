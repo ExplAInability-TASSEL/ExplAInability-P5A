{
 "cells": [
  {
   "cell_type": "markdown",
   "metadata": {},
   "source": [
    "This notebook enables to convert the pixel coordinates of each segment 50% included in polygons into its 730 vector values.  \n",
    "The output is a csv/txt/ftr file that can be loaded as a dtaframe.  "
   ]
  },
  {
   "cell_type": "markdown",
   "metadata": {},
   "source": [
    "***Import necessary libraries***"
   ]
  },
  {
   "cell_type": "code",
   "execution_count": 1,
   "metadata": {},
   "outputs": [],
   "source": [
    "import os\n",
    "from rasterio.plot import show\n",
    "import numpy as np\n",
    "import rasterio\n",
    "import rasterio.features\n",
    "import pandas as pd\n",
    "import time\n",
    "import tifffile as tiff\n",
    "import random\n",
    "import feather"
   ]
  },
  {
   "cell_type": "markdown",
   "metadata": {},
   "source": [
    "Lets create the files variables"
   ]
  },
  {
   "cell_type": "code",
   "execution_count": 2,
   "metadata": {},
   "outputs": [],
   "source": [
    "contained_file_50 = 'data/contained_segments_50.txt'\n",
    "contained_file_0001 = 'data/contained_segments_0001.txt'\n",
    "contained_file_100 = 'data/contained_segments_100.txt'\n",
    "contained_all_segments = 'data/contained_all_segments.txt'"
   ]
  },
  {
   "cell_type": "markdown",
   "metadata": {},
   "source": [
    "# Input and Output dataframe"
   ]
  },
  {
   "cell_type": "markdown",
   "metadata": {},
   "source": [
    "Create the function to load the segments."
   ]
  },
  {
   "cell_type": "code",
   "execution_count": 3,
   "metadata": {},
   "outputs": [],
   "source": [
    "def load_data_from_file(contained_file):\n",
    "    # load the data\n",
    "    with open(contained_file) as f:\n",
    "        lines = f.readlines()\n",
    "        # reteive line infos\n",
    "        segment_id = []\n",
    "        polygon_id = []\n",
    "        class_id = []\n",
    "        pixels = []\n",
    "        for line in lines:\n",
    "            # retrieve segment id\n",
    "            segment_id.append(line.split(',')[0].split(':')[1].strip())\n",
    "            # retrieve polygon id\n",
    "            polygon_id.append(line.split(',')[1].split(':')[1].strip())\n",
    "            # retrieve class id\n",
    "            class_id.append(line.split(',')[2].split(':')[1].strip())\n",
    "            # retrieve pixels\n",
    "            pixel_list_str = line.split(':')[4]\n",
    "            pixel_list_str = pixel_list_str[3:-3]\n",
    "            pixel_list = list(pixel_list_str.split('], ['))\n",
    "            pixel_list = [pixel.split(', ') for pixel in pixel_list]\n",
    "            pixel_list = [[int(pixel[0]), int(pixel[1])] for pixel in pixel_list]\n",
    "            pixels.append(pixel_list)\n",
    "        \n",
    "        # create a dataframe\n",
    "        df = pd.DataFrame()\n",
    "        df['segment_id'] = segment_id\n",
    "        df['polygon_id'] = polygon_id\n",
    "        df['class_id'] = class_id\n",
    "        df['pixels'] = pixels\n",
    "        \n",
    "        return df"
   ]
  },
  {
   "cell_type": "markdown",
   "metadata": {},
   "source": [
    "Load the segment dataframe."
   ]
  },
  {
   "cell_type": "code",
   "execution_count": 4,
   "metadata": {},
   "outputs": [],
   "source": [
    "#dataframe_segment = load_data_from_file(contained_file_50)\n",
    "dataframe_segment =  load_data_from_file(contained_all_segments)"
   ]
  },
  {
   "cell_type": "markdown",
   "metadata": {},
   "source": [
    "Create an output dataframe similar to the input except coordinates of each pixel is an empty list."
   ]
  },
  {
   "cell_type": "code",
   "execution_count": 9,
   "metadata": {},
   "outputs": [],
   "source": [
    "# create a new dataframe for output\n",
    "dataframe_segment_output = load_data_from_file(contained_file_50)\n",
    "# change each pixel of each segment to an empty list\n",
    "for index_output, row_output in dataframe_segment_output.iterrows():\n",
    "    for i_output, pixel_output in enumerate(row_output['pixels']):\n",
    "        row_output['pixels'][i_output] = []"
   ]
  },
  {
   "cell_type": "markdown",
   "metadata": {},
   "source": [
    "The objective is to replace all of the coordinates with the actual 730 vector value of each pixel (for each acquisition of each ban : 73*10 = 730)."
   ]
  },
  {
   "cell_type": "markdown",
   "metadata": {},
   "source": [
    "# Tests before processing"
   ]
  },
  {
   "cell_type": "markdown",
   "metadata": {},
   "source": [
    "First lets create necessary variables."
   ]
  },
  {
   "cell_type": "code",
   "execution_count": 5,
   "metadata": {},
   "outputs": [],
   "source": [
    "folder = \"D:/General/ExaplAInability_Data/transfer_6060512_files_e989f8bb/normalized_gathered_output\"\n",
    "list_bands = ['02', '03', '04', '05', '06', '07', '08', '8A', '11', '12']\n",
    "list_band_files = [rf'{folder}/normalized_s2_2020_B{band}.tif' for band in list_bands]"
   ]
  },
  {
   "cell_type": "markdown",
   "metadata": {},
   "source": [
    "Now we want to compare :\n",
    "- loading a raster image and then extract value for specific coordinates multiple times\n",
    "- opening and retrive coordinates multiple times."
   ]
  },
  {
   "cell_type": "code",
   "execution_count": 12,
   "metadata": {},
   "outputs": [
    {
     "name": "stdout",
     "output_type": "stream",
     "text": [
      "Time taken to read values at coordinates for 5 pixels: 16.149972915649414\n",
      "Time taken to read all values for 5 pixels: 22.662856340408325\n"
     ]
    }
   ],
   "source": [
    "# open the tif file\n",
    "band = '04'\n",
    "file_path = os.path.join(folder, f'normalized_s2_2020_B{band}.tif')\n",
    "random_5_pixels = [random.randint(0, 10) for i in range(100)]\n",
    "\n",
    "with rasterio.open(file_path) as src:\n",
    "    \n",
    "    # measure time taken to read values at coordinates for 5 pixels\n",
    "        start_time = time.time()\n",
    "        data = src.read(1)\n",
    "        for pixel in random_5_pixels:\n",
    "            x, y = pixel, pixel\n",
    "            value = data[x, y]\n",
    "            #print(value)\n",
    "        print(\"Time taken to read values at coordinates for 5 pixels:\", time.time() - start_time)\n",
    "    \n",
    "band = '03'\n",
    "file_path = os.path.join(folder, f'normalized_s2_2020_B{band}.tif')\n",
    "random_5_pixels = [random.randint(0, 10) for i in range(100)]\n",
    "\n",
    "with rasterio.open(file_path) as src:\n",
    "    # measure time taken to read all values for 5 pixels\n",
    "    start_time = time.time()\n",
    "    for pixel in random_5_pixels:\n",
    "        x, y = pixel, pixel\n",
    "        value = src.read(1)[x][y]\n",
    "        #print(value)\n",
    "    print(\"Time taken to read all values for 5 pixels:\", time.time() - start_time)\n"
   ]
  },
  {
   "cell_type": "markdown",
   "metadata": {},
   "source": [
    "Fastest way is to store the raster image in a variable and then read coordinates out of it, as expected.  "
   ]
  },
  {
   "cell_type": "markdown",
   "metadata": {},
   "source": [
    "# Conversion"
   ]
  },
  {
   "cell_type": "markdown",
   "metadata": {},
   "source": [
    "Lets do the conversion.  \n",
    "We will iterate throug all bands, and all acquisitions, and for each we iterate through all pixels of the segments.  \n",
    "We then retrieve the value and append it to the output dataframe.  \n",
    "This way is way faster than iterate through pixels and open the image for each of them.  "
   ]
  },
  {
   "cell_type": "code",
   "execution_count": null,
   "metadata": {},
   "outputs": [],
   "source": [
    "start = 1 # always 1\n",
    "acquisition = 73 # 73\n",
    "print(f\"folder: {folder}\")\n",
    "print(f\"list_bands: {list_bands}\")\n",
    "print(f\"start\")\n",
    "\n",
    "# iterate through each band file\n",
    "for band in list_bands:\n",
    "    file_path = os.path.join(folder, f'normalized_s2_2020_B{band}.tif')\n",
    "    print(f\"file_path: {file_path}\")\n",
    "    \n",
    "    with rasterio.open(file_path) as src:\n",
    "        # for each band file, iterate through all acquisition\n",
    "        for period in range(start, acquisition+1):\n",
    "            # for each acquisition, iterate through all segments\n",
    "            print(f\"period: {period}/{acquisition}\")\n",
    "            band_acquisition = src.read(period)\n",
    "            for index, row in dataframe_segment.iterrows():\n",
    "                # for all segments, iterate through all pixels and add the\n",
    "                print(index)\n",
    "                for i, pixel in enumerate(row['pixels']):\n",
    "                    x, y = pixel\n",
    "                    value = band_acquisition[x,y]\n",
    "                    # add the pixel value in the output dataframe\n",
    "                    dataframe_segment_output.at[index, 'pixels'][i].append(value)"
   ]
  },
  {
   "cell_type": "markdown",
   "metadata": {},
   "source": [
    "Lets see what we got."
   ]
  },
  {
   "cell_type": "code",
   "execution_count": 24,
   "metadata": {},
   "outputs": [
    {
     "data": {
      "text/html": [
       "<div>\n",
       "<style scoped>\n",
       "    .dataframe tbody tr th:only-of-type {\n",
       "        vertical-align: middle;\n",
       "    }\n",
       "\n",
       "    .dataframe tbody tr th {\n",
       "        vertical-align: top;\n",
       "    }\n",
       "\n",
       "    .dataframe thead th {\n",
       "        text-align: right;\n",
       "    }\n",
       "</style>\n",
       "<table border=\"1\" class=\"dataframe\">\n",
       "  <thead>\n",
       "    <tr style=\"text-align: right;\">\n",
       "      <th></th>\n",
       "      <th>segment_id</th>\n",
       "      <th>polygon_id</th>\n",
       "      <th>class_id</th>\n",
       "      <th>pixels</th>\n",
       "    </tr>\n",
       "  </thead>\n",
       "  <tbody>\n",
       "    <tr>\n",
       "      <th>0</th>\n",
       "      <td>367854</td>\n",
       "      <td>0.0</td>\n",
       "      <td>3.0</td>\n",
       "      <td>[[0.6406995, 0.59669423, 0.63548833, 0.6406995...</td>\n",
       "    </tr>\n",
       "    <tr>\n",
       "      <th>1</th>\n",
       "      <td>367855</td>\n",
       "      <td>0.0</td>\n",
       "      <td>3.0</td>\n",
       "      <td>[[0.47058824, 0.47603306, 0.42916092, 0.470588...</td>\n",
       "    </tr>\n",
       "    <tr>\n",
       "      <th>2</th>\n",
       "      <td>367856</td>\n",
       "      <td>0.0</td>\n",
       "      <td>3.0</td>\n",
       "      <td>[[0.43561208, 0.36859503, 0.3645117, 0.4356120...</td>\n",
       "    </tr>\n",
       "    <tr>\n",
       "      <th>3</th>\n",
       "      <td>369130</td>\n",
       "      <td>0.0</td>\n",
       "      <td>3.0</td>\n",
       "      <td>[[0.7837838, 0.75206614, 0.5983494, 0.7837838,...</td>\n",
       "    </tr>\n",
       "    <tr>\n",
       "      <th>4</th>\n",
       "      <td>363215</td>\n",
       "      <td>1.0</td>\n",
       "      <td>1.0</td>\n",
       "      <td>[[0.5643879, 0.57520664, 0.4621733, 0.5643879,...</td>\n",
       "    </tr>\n",
       "  </tbody>\n",
       "</table>\n",
       "</div>"
      ],
      "text/plain": [
       "  segment_id polygon_id class_id  \\\n",
       "0     367854        0.0      3.0   \n",
       "1     367855        0.0      3.0   \n",
       "2     367856        0.0      3.0   \n",
       "3     369130        0.0      3.0   \n",
       "4     363215        1.0      1.0   \n",
       "\n",
       "                                              pixels  \n",
       "0  [[0.6406995, 0.59669423, 0.63548833, 0.6406995...  \n",
       "1  [[0.47058824, 0.47603306, 0.42916092, 0.470588...  \n",
       "2  [[0.43561208, 0.36859503, 0.3645117, 0.4356120...  \n",
       "3  [[0.7837838, 0.75206614, 0.5983494, 0.7837838,...  \n",
       "4  [[0.5643879, 0.57520664, 0.4621733, 0.5643879,...  "
      ]
     },
     "execution_count": 24,
     "metadata": {},
     "output_type": "execute_result"
    }
   ],
   "source": [
    "dataframe_segment_output.head()"
   ]
  },
  {
   "cell_type": "markdown",
   "metadata": {},
   "source": [
    "# Results"
   ]
  },
  {
   "cell_type": "markdown",
   "metadata": {},
   "source": [
    "Now we can save the output dataframe in different formats."
   ]
  },
  {
   "cell_type": "code",
   "execution_count": 8,
   "metadata": {},
   "outputs": [],
   "source": [
    "# save as text file\n",
    "output_file = 'D:/General/ExaplAInability_Data/transfer_6060512_files_e989f8bb/post_process_final/post_processed_data.txt'\n",
    "datafrmae_load.to_csv(output_file, sep='\\t', index=False)"
   ]
  },
  {
   "cell_type": "code",
   "execution_count": 9,
   "metadata": {},
   "outputs": [],
   "source": [
    "# save as Excel file\n",
    "output_file = 'D:/General/ExaplAInability_Data/transfer_6060512_files_e989f8bb/post_process_final/post_processed_data.xlsx'\n",
    "datafrmae_load.to_excel(output_file, index=False)"
   ]
  },
  {
   "cell_type": "code",
   "execution_count": 10,
   "metadata": {},
   "outputs": [],
   "source": [
    "# save as csv file\n",
    "output_file = 'D:/General/ExaplAInability_Data/transfer_6060512_files_e989f8bb/post_process_final/post_processed_data.csv'\n",
    "datafrmae_load.to_csv(output_file)"
   ]
  },
  {
   "cell_type": "code",
   "execution_count": 40,
   "metadata": {},
   "outputs": [],
   "source": [
    "# save as feather file\n",
    "output_file = 'D:/General/ExaplAInability_Data/transfer_6060512_files_e989f8bb/post_process_final/post_processed_data.ftr'\n",
    "readFrame.to_feather(output_file)"
   ]
  },
  {
   "cell_type": "markdown",
   "metadata": {},
   "source": [
    "The fastest way to save and load the dataframe seems to be feather (see [here](https://towardsdatascience.com/the-best-format-to-save-pandas-data-414dca023e0d)).  \n",
    "It is also the smallest file size."
   ]
  },
  {
   "cell_type": "markdown",
   "metadata": {},
   "source": [
    "And we can load it back as follow."
   ]
  },
  {
   "cell_type": "code",
   "execution_count": 4,
   "metadata": {},
   "outputs": [
    {
     "data": {
      "text/html": [
       "<div>\n",
       "<style scoped>\n",
       "    .dataframe tbody tr th:only-of-type {\n",
       "        vertical-align: middle;\n",
       "    }\n",
       "\n",
       "    .dataframe tbody tr th {\n",
       "        vertical-align: top;\n",
       "    }\n",
       "\n",
       "    .dataframe thead th {\n",
       "        text-align: right;\n",
       "    }\n",
       "</style>\n",
       "<table border=\"1\" class=\"dataframe\">\n",
       "  <thead>\n",
       "    <tr style=\"text-align: right;\">\n",
       "      <th></th>\n",
       "      <th>segment_id</th>\n",
       "      <th>polygon_id</th>\n",
       "      <th>class_id</th>\n",
       "      <th>pixels</th>\n",
       "    </tr>\n",
       "  </thead>\n",
       "  <tbody>\n",
       "    <tr>\n",
       "      <th>0</th>\n",
       "      <td>367854</td>\n",
       "      <td>0.0</td>\n",
       "      <td>3.0</td>\n",
       "      <td>[[0.44984567, 0.49691358, 0.40354937, 0.622685...</td>\n",
       "    </tr>\n",
       "    <tr>\n",
       "      <th>1</th>\n",
       "      <td>367855</td>\n",
       "      <td>0.0</td>\n",
       "      <td>3.0</td>\n",
       "      <td>[[0.55632716, 0.5578704, 0.50848764, 0.7075617...</td>\n",
       "    </tr>\n",
       "    <tr>\n",
       "      <th>2</th>\n",
       "      <td>367856</td>\n",
       "      <td>0.0</td>\n",
       "      <td>3.0</td>\n",
       "      <td>[[0.53780866, 0.5671296, 0.4699074, 0.69058645...</td>\n",
       "    </tr>\n",
       "    <tr>\n",
       "      <th>3</th>\n",
       "      <td>369130</td>\n",
       "      <td>0.0</td>\n",
       "      <td>3.0</td>\n",
       "      <td>[[0.5231481, 0.5532407, 0.44984567, 0.6705247,...</td>\n",
       "    </tr>\n",
       "    <tr>\n",
       "      <th>4</th>\n",
       "      <td>363215</td>\n",
       "      <td>1.0</td>\n",
       "      <td>1.0</td>\n",
       "      <td>[[0.38194445, 0.43904322, 0.24845679, 0.493055...</td>\n",
       "    </tr>\n",
       "  </tbody>\n",
       "</table>\n",
       "</div>"
      ],
      "text/plain": [
       "  segment_id polygon_id class_id  \\\n",
       "0     367854        0.0      3.0   \n",
       "1     367855        0.0      3.0   \n",
       "2     367856        0.0      3.0   \n",
       "3     369130        0.0      3.0   \n",
       "4     363215        1.0      1.0   \n",
       "\n",
       "                                              pixels  \n",
       "0  [[0.44984567, 0.49691358, 0.40354937, 0.622685...  \n",
       "1  [[0.55632716, 0.5578704, 0.50848764, 0.7075617...  \n",
       "2  [[0.53780866, 0.5671296, 0.4699074, 0.69058645...  \n",
       "3  [[0.5231481, 0.5532407, 0.44984567, 0.6705247,...  \n",
       "4  [[0.38194445, 0.43904322, 0.24845679, 0.493055...  "
      ]
     },
     "execution_count": 4,
     "metadata": {},
     "output_type": "execute_result"
    }
   ],
   "source": [
    "input_file = 'D:/General/ExaplAInability_Data/transfer_6060512_files_e989f8bb/Output_Cassio/transfer_6352516_files_1d1978c6/post_processed_data.ftr'\n",
    "readFrame = pd.read_feather(input_file, columns=None, use_threads=True)\n",
    "readFrame.head()"
   ]
  },
  {
   "cell_type": "markdown",
   "metadata": {},
   "source": [
    "The below code is to test if the loaded dataframe is the same as the original one.  \n",
    "TO do so we compare a manual extraction with the values from the outputdataframe.  "
   ]
  },
  {
   "cell_type": "code",
   "execution_count": 11,
   "metadata": {},
   "outputs": [
    {
     "name": "stdout",
     "output_type": "stream",
     "text": [
      "pixels to check: [[1145, 2927], [1145, 2932], [1150, 2926], [1132, 2932], [1138, 2931]]\n",
      "Output values of pixels to check: [[0.5140496, 0.57886904, 0.5831894], [0.43636364, 0.54761904, 0.6200345], [0.71900827, 0.6770833, 0.66781807], [0.5553719, 0.71875, 0.6632124], [0.7123967, 0.8720238, 0.75187105]]\n"
     ]
    }
   ],
   "source": [
    "folder = \"D:/General/ExaplAInability_Data/transfer_6060512_files_e989f8bb/normalized_gathered_output\"\n",
    "list_bands_check = [\"02\", \"03\", \"12\"]\n",
    "pixels_in_data = [[1,2],[2,3],[3,4],[4,5],[5,6]]\n",
    "# get the values of the pixel from the dataframe_segment\n",
    "pixels = []\n",
    "pixels_values = []\n",
    "for pixel in pixels_in_data:\n",
    "    coords = dataframe_segment['pixels'][pixel[0]][pixel[1]]\n",
    "    pixels.append(coords)\n",
    "    values = [readFrame['pixels'][pixel[0]][pixel[1]][1], readFrame['pixels'][pixel[0]][pixel[1]][74], readFrame['pixels'][pixel[0]][pixel[1]][658]]\n",
    "    pixels_values.append(values)\n",
    "print(f\"pixels to check: {pixels}\")\n",
    "print(f\"Output values of pixels to check: {pixels_values}\")"
   ]
  },
  {
   "cell_type": "code",
   "execution_count": 17,
   "metadata": {},
   "outputs": [
    {
     "name": "stdout",
     "output_type": "stream",
     "text": [
      "file_path: D:/General/ExaplAInability_Data/transfer_6060512_files_e989f8bb/normalized_gathered_output\\normalized_s2_2020_B02.tif\n",
      "file_path: D:/General/ExaplAInability_Data/transfer_6060512_files_e989f8bb/normalized_gathered_output\\normalized_s2_2020_B03.tif\n",
      "file_path: D:/General/ExaplAInability_Data/transfer_6060512_files_e989f8bb/normalized_gathered_output\\normalized_s2_2020_B12.tif\n",
      "Some of true values: [0.5140496, 0.43636364, 0.71900827, 0.5553719, 0.7123967, 0.4827586, 0.4408867, 0.682266, 0.5, 0.6699507, 0.88459635, 0.79296684, 1.0, 0.7677068, 0.88261515]\n"
     ]
    }
   ],
   "source": [
    "values_true_check = []\n",
    "list_bands_check = [\"02\", \"03\", \"12\"]\n",
    "\n",
    "# iterate through each band file\n",
    "for band in list_bands_check:\n",
    "    file_path = os.path.join(folder, f'normalized_s2_2020_B{band}.tif')\n",
    "    print(f\"file_path: {file_path}\")\n",
    "    \n",
    "    with rasterio.open(file_path) as src:\n",
    "        period = 2\n",
    "        \n",
    "        band_acquisition = src.read(period)\n",
    "        for pixel in pixels:\n",
    "            x, y = pixel[0], pixel[1]\n",
    "            value = band_acquisition[x,y]\n",
    "            values_true_check.append(value)\n",
    "print(f\"Some of true values: {values_true_check}\")"
   ]
  },
  {
   "cell_type": "markdown",
   "metadata": {},
   "source": [
    "The values are matching for random pixel, random bands and random acquisition, we can say with confidence that the conversion is working.  "
   ]
  },
  {
   "cell_type": "markdown",
   "metadata": {},
   "source": []
  }
 ],
 "metadata": {
  "kernelspec": {
   "display_name": "Python 3",
   "language": "python",
   "name": "python3"
  },
  "language_info": {
   "codemirror_mode": {
    "name": "ipython",
    "version": 3
   },
   "file_extension": ".py",
   "mimetype": "text/x-python",
   "name": "python",
   "nbconvert_exporter": "python",
   "pygments_lexer": "ipython3",
   "version": "3.8.7"
  }
 },
 "nbformat": 4,
 "nbformat_minor": 2
}
