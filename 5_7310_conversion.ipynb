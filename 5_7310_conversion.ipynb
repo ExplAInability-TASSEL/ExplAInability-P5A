{
 "cells": [
  {
   "cell_type": "code",
   "execution_count": 10,
   "metadata": {},
   "outputs": [],
   "source": [
    "import rioxarray as rxr\n",
    "import os\n",
    "from rasterio.plot import show\n",
    "from PIL import Image\n",
    "import matplotlib.pyplot as plt\n",
    "import xarray as xr\n",
    "import numpy as np\n",
    "import matplotlib.pyplot as plt\n",
    "import rasterio\n",
    "import geopandas as gpd\n",
    "import rasterio.features\n",
    "from shapely.geometry import shape\n",
    "import pandas as pd"
   ]
  },
  {
   "cell_type": "code",
   "execution_count": 11,
   "metadata": {},
   "outputs": [],
   "source": [
    "# retreive some infos on fully contained segments\n",
    "contained_file_50 = 'data/contained_segments_50.txt'\n",
    "contained_file_0001 = 'data/contained_segments_0001.txt'\n",
    "contained_file_100 = 'data/contained_segments_100.txt'"
   ]
  },
  {
   "cell_type": "code",
   "execution_count": 15,
   "metadata": {},
   "outputs": [],
   "source": [
    "folder = \"D:/General/ExaplAInability_Data/transfer_6060512_files_e989f8bb/normalized_output\"\n",
    "\n",
    "list_bands = ['02']#, '03', '04', '05', '06', '07', '08', '8A', '11', '12']"
   ]
  },
  {
   "cell_type": "markdown",
   "metadata": {},
   "source": [
    "Perform 7310"
   ]
  },
  {
   "cell_type": "markdown",
   "metadata": {},
   "source": [
    "- Satellite raster data (Sentinel 2)\n",
    "\t- 10 spectral bands, one per file (s2_2020_B02.tif, s2_2020_B03.tif, etc...)\n",
    "\t- Each file s2_2020_BXX.tif: contains an array of size (73, 4513, 5183)=(nb. dates, height, width)."
   ]
  },
  {
   "cell_type": "code",
   "execution_count": 17,
   "metadata": {},
   "outputs": [],
   "source": [
    "acquisition = 73\n",
    "def get_7310(folder, pixel):\n",
    "    x = pixel[0]\n",
    "    y = pixel[1]\n",
    "    pixel_7310 = []\n",
    "    for band in list_bands:\n",
    "        print(band)\n",
    "        for period in range(1, acquisition+1):\n",
    "            print(period)\n",
    "            band_file = 's2_2020_B' + band + '.tif'\n",
    "            acquisition_file = os.path.join(folder, f'normalized_{band_file}_Acquisition_{period}.tif')\n",
    "            with rasterio.open(acquisition_file) as src:\n",
    "                value = src.read(1)[x, y]\n",
    "            pixel_7310.append(value)\n",
    "    return pixel_7310"
   ]
  },
  {
   "cell_type": "code",
   "execution_count": null,
   "metadata": {},
   "outputs": [],
   "source": [
    "# test the function for a pixel\n",
    "pixel = [100, 100]\n",
    "pixel_7310 = get_7310(folder, pixel)\n",
    "print(len(pixel_7310))"
   ]
  },
  {
   "cell_type": "markdown",
   "metadata": {},
   "source": [
    "Iterate through each pixel of each segment, and for each pixel, perform 7310 conversion."
   ]
  },
  {
   "cell_type": "markdown",
   "metadata": {},
   "source": []
  }
 ],
 "metadata": {
  "kernelspec": {
   "display_name": "Python 3",
   "language": "python",
   "name": "python3"
  },
  "language_info": {
   "codemirror_mode": {
    "name": "ipython",
    "version": 3
   },
   "file_extension": ".py",
   "mimetype": "text/x-python",
   "name": "python",
   "nbconvert_exporter": "python",
   "pygments_lexer": "ipython3",
   "version": "3.8.7"
  }
 },
 "nbformat": 4,
 "nbformat_minor": 2
}
