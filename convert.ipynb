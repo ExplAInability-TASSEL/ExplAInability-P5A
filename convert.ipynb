{
 "cells": [
  {
   "cell_type": "markdown",
   "metadata": {},
   "source": [
    "# Convert local pixels to geographical coordinates\n",
    "\n",
    "This notebook facilitates the conversion of local pixel coordinates within 50% segments contained in a polygon to geographical coordinates (latitude, longitude). This transformation is achieved through a Transformer derived from an object representing a single-band acquisition. "
   ]
  },
  {
   "cell_type": "code",
   "execution_count": 1,
   "metadata": {},
   "outputs": [],
   "source": [
    "import json\n",
    "import pandas as pd \n",
    "import rasterio as rio\n",
    "from pyproj import Transformer"
   ]
  },
  {
   "cell_type": "code",
   "execution_count": 2,
   "metadata": {},
   "outputs": [],
   "source": [
    "# Transform the crs of our file in order to convert\n",
    "path = \"./tif_data/\"\n",
    "image_path = path + \"aquisition01_band02.tif\"\n",
    "src = rio.open(image_path)\n",
    "data = src.read(1)\n",
    "in_epsg = src.crs\n",
    "out_epsg = \"EPSG:4326\"\n",
    "transformer = Transformer.from_crs(in_epsg, out_epsg)"
   ]
  },
  {
   "cell_type": "code",
   "execution_count": 3,
   "metadata": {},
   "outputs": [],
   "source": [
    "def get_lat_long(pixel0, pixel1):\n",
    "    \"\"\"\n",
    "    This function use the transformer set up above to \n",
    "    transform point between the two coordinates systems.\n",
    "\n",
    "    Args:\n",
    "        pixel0 (int): coordinate of the pixel in the image\n",
    "        pixel1 (int): coordinate of the pixel in our image\n",
    "\n",
    "    Returns:\n",
    "        lat: latitude coordinate of the pixel\n",
    "        long: longitude coordinate of the pixel\n",
    "    \"\"\"\n",
    "    coords = src.xy(pixel0, pixel1)\n",
    "    lat, long = transformer.transform(coords[0], coords[1])\n",
    "    return lat, long"
   ]
  },
  {
   "cell_type": "code",
   "execution_count": 4,
   "metadata": {},
   "outputs": [
    {
     "name": "stderr",
     "output_type": "stream",
     "text": [
      ".\n",
      "----------------------------------------------------------------------\n",
      "Ran 1 test in 0.001s\n",
      "\n",
      "OK\n"
     ]
    },
    {
     "data": {
      "text/plain": [
       "<unittest.runner.TextTestResult run=1 errors=0 failures=0>"
      ]
     },
     "execution_count": 4,
     "metadata": {},
     "output_type": "execute_result"
    }
   ],
   "source": [
    "import unittest\n",
    "\n",
    "class TestGetLatLongFunction(unittest.TestCase):\n",
    "\n",
    "    def test_get_lat_long(self):\n",
    "        # Sample data for testing\n",
    "        pixel0 = 100\n",
    "        pixel1 = 200\n",
    "\n",
    "        result = get_lat_long(pixel0, pixel1)\n",
    "\n",
    "        # Expected result\n",
    "        expected_result = (11.362317328663496, -3.874558554420653)  \n",
    "\n",
    "        # Assertion\n",
    "        self.assertEqual(result, expected_result, \"Function output does not match expected result.\")\n",
    "\n",
    "unittest.TextTestRunner().run(unittest.TestLoader().loadTestsFromTestCase(TestGetLatLongFunction))"
   ]
  },
  {
   "cell_type": "code",
   "execution_count": 5,
   "metadata": {},
   "outputs": [
    {
     "name": "stdout",
     "output_type": "stream",
     "text": [
      "Results have been written to 'final_water_segment_lat_long.json'.\n"
     ]
    }
   ],
   "source": [
    "df = pd.read_csv(\"./data/Inference_results_water.txt\", sep=\",\")\n",
    "\n",
    "results_by_segment = {}\n",
    "\n",
    "for index, row in df.iterrows():\n",
    "    # extracting relevant information from the row\n",
    "    segment_id = row['segment_id']\n",
    "    class_id = row['class_id']\n",
    "\n",
    "    # extracting pixel coordinates from the DataFrame\n",
    "    perimeter_pixels_list = eval(row['Perimeter Pixels'])\n",
    "    pixels_list = eval(row['pixels'])\n",
    "    alphas = eval(row['heatmap'])\n",
    "\n",
    "    segment_coordinates = []\n",
    "    perimeter_coordinates = []\n",
    "\n",
    "    # applying the function to each perimeter pixel and storing the results for 'Perimeter Pixels'\n",
    "    for perimeter_pixel in perimeter_pixels_list:\n",
    "        lat, long = get_lat_long(perimeter_pixel[0], perimeter_pixel[1])\n",
    "        coordinates = {\n",
    "            \"latitude\": lat,\n",
    "            \"longitude\": long,\n",
    "            \"intensity\": 10\n",
    "        }\n",
    "        perimeter_coordinates.append(coordinates)\n",
    "        \n",
    "    # applying the function to each pixel and storing the results for 'Pixels'\n",
    "    for pixel in pixels_list:\n",
    "        lat, long = get_lat_long(pixel[0], pixel[1])\n",
    "        coordinates = {\n",
    "            \"latitude\": lat,\n",
    "            \"longitude\": long,\n",
    "            \"intensity\": 2\n",
    "        }\n",
    "        segment_coordinates.append(coordinates)\n",
    "\n",
    "    results_by_segment[segment_id] = {\n",
    "        \"segment_id\": segment_id,\n",
    "        \"class_id\": class_id,\n",
    "        \"pixel_coordinates\": segment_coordinates,\n",
    "        \"perimeter_pixel_coordinates\": perimeter_coordinates,\n",
    "        \"alphas\": alphas \n",
    "    }\n",
    "\n",
    "# write the results to a JSON file\n",
    "with open(\"final_water_segment_lat_long.json\", \"w\") as json_file:\n",
    "    json.dump(list(results_by_segment.values()), json_file, indent=2)\n",
    "\n",
    "print(\"Results have been written to 'final_water_segment_lat_long.json'.\")\n"
   ]
  }
 ],
 "metadata": {
  "kernelspec": {
   "display_name": "osgeo",
   "language": "python",
   "name": "python3"
  },
  "language_info": {
   "codemirror_mode": {
    "name": "ipython",
    "version": 3
   },
   "file_extension": ".py",
   "mimetype": "text/x-python",
   "name": "python",
   "nbconvert_exporter": "python",
   "pygments_lexer": "ipython3",
   "version": "3.10.13"
  }
 },
 "nbformat": 4,
 "nbformat_minor": 2
}
