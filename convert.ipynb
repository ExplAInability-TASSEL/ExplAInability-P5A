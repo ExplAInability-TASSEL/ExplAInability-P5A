{
 "cells": [
  {
   "cell_type": "markdown",
   "metadata": {},
   "source": [
    "# Convert local pixels to geographical coordinates\n",
    "\n",
    "This notebook allows to transform the pixels local coordinates of the 50% segments include in polygon to geographical coordinates (latitude, longitude)"
   ]
  },
  {
   "cell_type": "code",
   "execution_count": 1,
   "metadata": {},
   "outputs": [],
   "source": [
    "import json\n",
    "import rasterio as rio\n",
    "from pyproj import Transformer"
   ]
  },
  {
   "cell_type": "code",
   "execution_count": 2,
   "metadata": {},
   "outputs": [],
   "source": [
    "# Transform the crs of our file in order to convert\n",
    "path = \"./tif_data/\"\n",
    "image_path = path + \"aquisition01_band02.tif\"\n",
    "src = rio.open(image_path)\n",
    "data = src.read(1)\n",
    "in_epsg = src.crs\n",
    "out_epsg = \"EPSG:4326\"\n",
    "transformer = Transformer.from_crs(in_epsg, out_epsg)"
   ]
  },
  {
   "cell_type": "code",
   "execution_count": 3,
   "metadata": {},
   "outputs": [],
   "source": [
    "def get_lat_long(pixel0, pixel1):\n",
    "    \"\"\"\n",
    "    This function use the transformer set up above to \n",
    "    transform point between the two coordinates systems.\n",
    "\n",
    "    Args:\n",
    "        pixel0 (int): coordinate of the pixel in the image\n",
    "        pixel1 (int): coordinate of the pixel in our image\n",
    "\n",
    "    Returns:\n",
    "        lat: latitude coordinate of the pixel\n",
    "        long: longitude coordinate of the pixel\n",
    "    \"\"\"\n",
    "    coords = src.xy(pixel0, pixel1)\n",
    "    lat, long = transformer.transform(coords[0], coords[1])\n",
    "    return lat, long"
   ]
  },
  {
   "cell_type": "code",
   "execution_count": 4,
   "metadata": {},
   "outputs": [
    {
     "ename": "FileNotFoundError",
     "evalue": "[Errno 2] No such file or directory: '/data/contained_segments_50.txt'",
     "output_type": "error",
     "traceback": [
      "\u001b[0;31m---------------------------------------------------------------------------\u001b[0m",
      "\u001b[0;31mFileNotFoundError\u001b[0m                         Traceback (most recent call last)",
      "\u001b[1;32m/Users/macbookpierre/Desktop/5A/P5A/ExplAInability-P5A/convert.ipynb Cellule 5\u001b[0m line \u001b[0;36m2\n\u001b[1;32m      <a href='vscode-notebook-cell:/Users/macbookpierre/Desktop/5A/P5A/ExplAInability-P5A/convert.ipynb#W4sZmlsZQ%3D%3D?line=0'>1</a>\u001b[0m \u001b[39m# Read the file line by line\u001b[39;00m\n\u001b[0;32m----> <a href='vscode-notebook-cell:/Users/macbookpierre/Desktop/5A/P5A/ExplAInability-P5A/convert.ipynb#W4sZmlsZQ%3D%3D?line=1'>2</a>\u001b[0m \u001b[39mwith\u001b[39;00m \u001b[39mopen\u001b[39;49m(\u001b[39m\"\u001b[39;49m\u001b[39m/data/contained_segments_50.txt\u001b[39;49m\u001b[39m\"\u001b[39;49m, \u001b[39m\"\u001b[39;49m\u001b[39mr\u001b[39;49m\u001b[39m\"\u001b[39;49m) \u001b[39mas\u001b[39;00m file:\n\u001b[1;32m      <a href='vscode-notebook-cell:/Users/macbookpierre/Desktop/5A/P5A/ExplAInability-P5A/convert.ipynb#W4sZmlsZQ%3D%3D?line=2'>3</a>\u001b[0m     lines \u001b[39m=\u001b[39m file\u001b[39m.\u001b[39mreadlines()\n\u001b[1;32m      <a href='vscode-notebook-cell:/Users/macbookpierre/Desktop/5A/P5A/ExplAInability-P5A/convert.ipynb#W4sZmlsZQ%3D%3D?line=4'>5</a>\u001b[0m \u001b[39m# Initialize a dictionary to store the results grouped by segment\u001b[39;00m\n",
      "File \u001b[0;32m~/miniconda3/envs/osgeo/lib/python3.10/site-packages/IPython/core/interactiveshell.py:310\u001b[0m, in \u001b[0;36m_modified_open\u001b[0;34m(file, *args, **kwargs)\u001b[0m\n\u001b[1;32m    303\u001b[0m \u001b[39mif\u001b[39;00m file \u001b[39min\u001b[39;00m {\u001b[39m0\u001b[39m, \u001b[39m1\u001b[39m, \u001b[39m2\u001b[39m}:\n\u001b[1;32m    304\u001b[0m     \u001b[39mraise\u001b[39;00m \u001b[39mValueError\u001b[39;00m(\n\u001b[1;32m    305\u001b[0m         \u001b[39mf\u001b[39m\u001b[39m\"\u001b[39m\u001b[39mIPython won\u001b[39m\u001b[39m'\u001b[39m\u001b[39mt let you open fd=\u001b[39m\u001b[39m{\u001b[39;00mfile\u001b[39m}\u001b[39;00m\u001b[39m by default \u001b[39m\u001b[39m\"\u001b[39m\n\u001b[1;32m    306\u001b[0m         \u001b[39m\"\u001b[39m\u001b[39mas it is likely to crash IPython. If you know what you are doing, \u001b[39m\u001b[39m\"\u001b[39m\n\u001b[1;32m    307\u001b[0m         \u001b[39m\"\u001b[39m\u001b[39myou can use builtins\u001b[39m\u001b[39m'\u001b[39m\u001b[39m open.\u001b[39m\u001b[39m\"\u001b[39m\n\u001b[1;32m    308\u001b[0m     )\n\u001b[0;32m--> 310\u001b[0m \u001b[39mreturn\u001b[39;00m io_open(file, \u001b[39m*\u001b[39;49margs, \u001b[39m*\u001b[39;49m\u001b[39m*\u001b[39;49mkwargs)\n",
      "\u001b[0;31mFileNotFoundError\u001b[0m: [Errno 2] No such file or directory: '/data/contained_segments_50.txt'"
     ]
    }
   ],
   "source": [
    "# Read the file line by line\n",
    "with open(\"./data/contained_segments_50.txt\", \"r\") as file:\n",
    "    lines = file.readlines()\n",
    "\n",
    "# Initialize a dictionary to store the results grouped by segment\n",
    "results_by_segment = {}\n",
    "\n",
    "# Iterate through each line and extract pixel coordinates\n",
    "for line in lines:\n",
    "    if \"Segment ID\" in line:\n",
    "        # Extracting relevant information from the line\n",
    "        segment_id = float(line.split(\"Segment ID: \")[1].split(\",\")[0])\n",
    "        polygon_id = float(line.split(\"Polygon ID: \")[1].split(\",\")[0])\n",
    "        class_id = float(line.split(\"Class ID: \")[1].split(\",\")[0])\n",
    "\n",
    "        # Extracting pixel coordinates from the line, handling empty strings\n",
    "        pixels_raw = line.split(\"Pixels: \")[1].strip()\n",
    "        pixels_list = [list(map(int, coord.split(\", \"))) for coord in pixels_raw[2:-2].split(\"], [\") if coord]\n",
    "\n",
    "        # Initialize a list to store coordinates for the current segment\n",
    "        segment_coordinates = []\n",
    "\n",
    "        # Applying the function to each pixel and storing the results\n",
    "        for pixel in pixels_list:\n",
    "            lat, long = get_lat_long(pixel[0], pixel[1])\n",
    "            coordinates = {\n",
    "                \"latitude\": lat,\n",
    "                \"longitude\": long,\n",
    "                \"intensity\": 10\n",
    "            }\n",
    "            segment_coordinates.append(coordinates)\n",
    "\n",
    "        # Store the segment's coordinates in the results dictionary\n",
    "        results_by_segment[segment_id] = {\n",
    "            \"segment_id\": segment_id,\n",
    "            \"polygon_id\": polygon_id,\n",
    "            \"class_id\": class_id,\n",
    "            \"coordinates\": segment_coordinates\n",
    "        }\n",
    "\n",
    "# Write the results to a JSON file\n",
    "with open(\"segment_lat_long.json\", \"w\") as json_file:\n",
    "    json.dump(list(results_by_segment.values()), json_file, indent=2)\n",
    "\n",
    "print(\"Results have been written to 'segment_lat_long.json'.\")"
   ]
  }
 ],
 "metadata": {
  "kernelspec": {
   "display_name": "osgeo",
   "language": "python",
   "name": "python3"
  },
  "language_info": {
   "codemirror_mode": {
    "name": "ipython",
    "version": 3
   },
   "file_extension": ".py",
   "mimetype": "text/x-python",
   "name": "python",
   "nbconvert_exporter": "python",
   "pygments_lexer": "ipython3",
   "version": "3.10.13"
  }
 },
 "nbformat": 4,
 "nbformat_minor": 2
}
