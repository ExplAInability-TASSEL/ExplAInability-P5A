{
 "cells": [
  {
   "cell_type": "markdown",
   "metadata": {},
   "source": [
    "# Convert local pixels to geographical coordinates\n",
    "\n",
    "This notebook allows to transform the pixels local coordinates of the 50% segments include in polygon to geographical coordinates (latitude, longitude)"
   ]
  },
  {
   "cell_type": "code",
   "execution_count": 5,
   "metadata": {},
   "outputs": [],
   "source": [
    "import json\n",
    "import rasterio as rio\n",
    "from pyproj import Transformer"
   ]
  },
  {
   "cell_type": "code",
   "execution_count": 6,
   "metadata": {},
   "outputs": [],
   "source": [
    "# Transform the crs of our file in order to convert\n",
    "path = \"./tif_data/\"\n",
    "image_path = path + \"aquisition01_band02.tif\"\n",
    "src = rio.open(image_path)\n",
    "data = src.read(1)\n",
    "in_epsg = src.crs\n",
    "out_epsg = \"EPSG:4326\"\n",
    "transformer = Transformer.from_crs(in_epsg, out_epsg)"
   ]
  },
  {
   "cell_type": "code",
   "execution_count": 7,
   "metadata": {},
   "outputs": [],
   "source": [
    "def get_lat_long(pixel0, pixel1):\n",
    "    \"\"\"\n",
    "    This function use the transformer set up above to \n",
    "    transform point between the two coordinates systems.\n",
    "\n",
    "    Args:\n",
    "        pixel0 (int): coordinate of the pixel in the image\n",
    "        pixel1 (int): coordinate of the pixel in our image\n",
    "\n",
    "    Returns:\n",
    "        lat: latitude coordinate of the pixel\n",
    "        long: longitude coordinate of the pixel\n",
    "    \"\"\"\n",
    "    coords = src.xy(pixel0, pixel1)\n",
    "    lat, long = transformer.transform(coords[0], coords[1])\n",
    "    return lat, long"
   ]
  },
  {
   "cell_type": "code",
   "execution_count": 8,
   "metadata": {},
   "outputs": [
    {
     "name": "stdout",
     "output_type": "stream",
     "text": [
      "Results have been written to 'segment_lat_long.json'.\n"
     ]
    }
   ],
   "source": [
    "# Read the file line by line\n",
    "with open(\"./data/contained_segments_50.txt\", \"r\") as file:\n",
    "    lines = file.readlines()\n",
    "\n",
    "# Initialize a dictionary to store the results grouped by segment\n",
    "results_by_segment = {}\n",
    "\n",
    "# Iterate through each line and extract pixel coordinates\n",
    "for line in lines:\n",
    "    if \"Segment ID\" in line:\n",
    "        # Extracting relevant information from the line\n",
    "        segment_id = float(line.split(\"Segment ID: \")[1].split(\",\")[0])\n",
    "        polygon_id = float(line.split(\"Polygon ID: \")[1].split(\",\")[0])\n",
    "        class_id = float(line.split(\"Class ID: \")[1].split(\",\")[0])\n",
    "\n",
    "        # Extracting pixel coordinates from the line, handling empty strings\n",
    "        pixels_raw = line.split(\"Pixels: \")[1].strip()\n",
    "        pixels_list = [list(map(int, coord.split(\", \"))) for coord in pixels_raw[2:-2].split(\"], [\") if coord]\n",
    "\n",
    "        # Initialize a list to store coordinates for the current segment\n",
    "        segment_coordinates = []\n",
    "\n",
    "        # Applying the function to each pixel and storing the results\n",
    "        for pixel in pixels_list:\n",
    "            lat, long = get_lat_long(pixel[0], pixel[1])\n",
    "            coordinates = {\n",
    "                \"latitude\": lat,\n",
    "                \"longitude\": long,\n",
    "                \"intensity\": 10\n",
    "            }\n",
    "            segment_coordinates.append(coordinates)\n",
    "\n",
    "        # Store the segment's coordinates in the results dictionary\n",
    "        results_by_segment[segment_id] = {\n",
    "            \"segment_id\": segment_id,\n",
    "            \"polygon_id\": polygon_id,\n",
    "            \"class_id\": class_id,\n",
    "            \"coordinates\": segment_coordinates\n",
    "        }\n",
    "\n",
    "# Write the results to a JSON file\n",
    "with open(\"segment_lat_long.json\", \"w\") as json_file:\n",
    "    json.dump(list(results_by_segment.values()), json_file, indent=2)\n",
    "\n",
    "print(\"Results have been written to 'segment_lat_long.json'.\")"
   ]
  }
 ],
 "metadata": {
  "kernelspec": {
   "display_name": "osgeo",
   "language": "python",
   "name": "python3"
  },
  "language_info": {
   "codemirror_mode": {
    "name": "ipython",
    "version": 3
   },
   "file_extension": ".py",
   "mimetype": "text/x-python",
   "name": "python",
   "nbconvert_exporter": "python",
   "pygments_lexer": "ipython3",
   "version": "3.10.13"
  }
 },
 "nbformat": 4,
 "nbformat_minor": 2
}
