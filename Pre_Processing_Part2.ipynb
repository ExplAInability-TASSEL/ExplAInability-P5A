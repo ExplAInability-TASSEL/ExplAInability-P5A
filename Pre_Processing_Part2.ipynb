{
 "cells": [
  {
   "cell_type": "code",
   "execution_count": 64,
   "metadata": {},
   "outputs": [],
   "source": [
    "import rioxarray as rxr\n",
    "import os\n",
    "from rasterio.plot import show\n",
    "from PIL import Image\n",
    "import matplotlib.pyplot as plt\n",
    "import xarray as xr\n",
    "import numpy as np\n",
    "import matplotlib.pyplot as plt\n",
    "import rasterio\n",
    "import geopandas as gpd\n",
    "import rasterio.features\n",
    "from shapely.geometry import shape\n",
    "import pandas as pd"
   ]
  },
  {
   "cell_type": "code",
   "execution_count": 65,
   "metadata": {},
   "outputs": [],
   "source": [
    "# retreive some infos on fully contained segments\n",
    "fully_contained_file = 'data/fully_contained_segments.txt'\n",
    "contained_file_minimum = 'data/contained_segments_minimum_copy.txt'\n",
    "contained_file = 'data/contained_segments.txt'"
   ]
  },
  {
   "cell_type": "code",
   "execution_count": 84,
   "metadata": {},
   "outputs": [],
   "source": [
    "# load the data\n",
    "with open(fully_contained_file) as f:\n",
    "    lines = f.readlines()\n",
    "    # reteive line infos\n",
    "    segment_id = []\n",
    "    polygon_id = []\n",
    "    class_id = []\n",
    "    pixels = []\n",
    "    for line in lines:\n",
    "        # retrieve segment id\n",
    "        segment_id.append(line.split(',')[0].split(':')[1].strip())\n",
    "        # retrieve polygon id\n",
    "        polygon_id.append(line.split(',')[1].split(':')[1].strip())\n",
    "        # retrieve class id\n",
    "        class_id.append(line.split(',')[2].split(':')[1].strip())\n",
    "        # retrieve pixels\n",
    "        pixel_list_str = line.split(':')[4]\n",
    "        pixel_list_str = pixel_list_str[3:-3]\n",
    "        pixel_list = list(pixel_list_str.split('], ['))\n",
    "        pixel_list = [pixel.split(', ') for pixel in pixel_list]\n",
    "        pixel_list = [[int(pixel[0]), int(pixel[1])] for pixel in pixel_list]\n",
    "        pixels.append(pixel_list)\n",
    "    \n",
    "    # create a dataframe\n",
    "    df_full = pd.DataFrame()\n",
    "    df_full['segment_id'] = segment_id\n",
    "    df_full['polygon_id'] = polygon_id\n",
    "    df_full['class_id'] = class_id\n",
    "    df_full['pixels'] = pixels"
   ]
  },
  {
   "cell_type": "code",
   "execution_count": 74,
   "metadata": {},
   "outputs": [],
   "source": [
    "import pandas as pd\n",
    "import re\n",
    "\n",
    "# Initialize lists to store the data\n",
    "segment_id = []\n",
    "polygon_id = []\n",
    "class_id = []\n",
    "pixels = []\n",
    "\n",
    "# Open and read the file\n",
    "with open(contained_file) as f:  # Replace \"your_file.txt\" with the actual file path\n",
    "    current_entry = ''\n",
    "    for line in f:\n",
    "        if line.startswith(\"Segment ID:\"):\n",
    "            # If a new entry starts, process the previous entry\n",
    "            if current_entry:\n",
    "                parts = re.split(r', |: |, |[ \\[\\]\\n]', current_entry)\n",
    "                # Check if there are enough parts to extract values\n",
    "                if len(parts) >= 14:\n",
    "                    # Extract segment ID, polygon ID, and class ID\n",
    "                    segment_id.append(int(parts[2]))\n",
    "                    polygon_id.append(float(parts[5]))\n",
    "                    class_id.append(float(parts[8]))\n",
    "\n",
    "                    # Extract pixel coordinates if they exist\n",
    "                    pixel_pairs = []\n",
    "                    for i in range(10, len(parts), 2):\n",
    "                        if parts[i] and parts[i+1]:\n",
    "                            pixel_pairs.append([int(parts[i]), int(parts[i+1])])\n",
    "                    pixels.append(pixel_pairs)\n",
    "\n",
    "            current_entry = line\n",
    "        else:\n",
    "            current_entry += line\n",
    "\n",
    "# Create a DataFrame\n",
    "data = {\n",
    "    'segment_id': segment_id,\n",
    "    'polygon_id': polygon_id,\n",
    "    'class_id': class_id,\n",
    "    'pixels': pixels\n",
    "}\n",
    "df = pd.DataFrame(data)"
   ]
  },
  {
   "cell_type": "code",
   "execution_count": 85,
   "metadata": {},
   "outputs": [],
   "source": [
    "df = df_full\n",
    "#df = df"
   ]
  },
  {
   "cell_type": "code",
   "execution_count": 86,
   "metadata": {},
   "outputs": [
    {
     "name": "stdout",
     "output_type": "stream",
     "text": [
      "16\n"
     ]
    }
   ],
   "source": [
    "print(len(df[\"pixels\"][20]))"
   ]
  },
  {
   "cell_type": "code",
   "execution_count": 87,
   "metadata": {},
   "outputs": [
    {
     "name": "stdout",
     "output_type": "stream",
     "text": [
      "Number of segments:  2324\n",
      "Mean number of pixels per segment:  16.03141135972461\n",
      "Number of fully contained segments per class: \n",
      "class_id\n",
      "1.0    165\n",
      "2.0    125\n",
      "3.0     74\n",
      "4.0    334\n",
      "5.0    920\n",
      "6.0    661\n",
      "7.0      8\n",
      "8.0     37\n",
      "Name: segment_id, dtype: int64\n"
     ]
    },
    {
     "data": {
      "image/png": "[encoded data removed]",
      "text/plain": [
       "<Figure size 640x480 with 1 Axes>"
      ]
     },
     "metadata": {},
     "output_type": "display_data"
    },
    {
     "name": "stdout",
     "output_type": "stream",
     "text": [
      "Number of fully contained segments per polygon: \n"
     ]
    },
    {
     "data": {
      "image/png": "[encoded data removed]",
      "text/plain": [
       "<Figure size 640x480 with 1 Axes>"
      ]
     },
     "metadata": {},
     "output_type": "display_data"
    }
   ],
   "source": [
    "# show repartition, infos\n",
    "print('Number of segments: ', len(df))\n",
    "# show mean number of pixels per segment\n",
    "print('Mean number of pixels per segment: ', np.mean([len(pixels) for pixels in df['pixels']]))\n",
    "\n",
    "print('Number of fully contained segments per class: ')\n",
    "print(df.groupby('class_id').count()['segment_id'])\n",
    "# show the repartition using histogram\n",
    "plt.hist(df['class_id'])\n",
    "plt.show()\n",
    "\n",
    "print('Number of fully contained segments per polygon: ')\n",
    "#print(fully_contained_segments_df.groupby('polygon_id').count()['segment_id'])\n",
    "# show the repartition using histogram\n",
    "plt.hist(df['polygon_id'])\n",
    "# remove x labels\n",
    "plt.xticks([])\n",
    "plt.show()"
   ]
  },
  {
   "cell_type": "code",
   "execution_count": null,
   "metadata": {},
   "outputs": [],
   "source": [
    "folder = \"/shared\"\n",
    "\n",
    "list_bands = ['02', '03', '04', '05', '06', '07', '08', '8A', '11', '12']\n",
    "\n",
    "band_files = [os.path.join(folder, 's2_2020_B' + band + '.tif') for band in list_bands]\n"
   ]
  },
  {
   "cell_type": "code",
   "execution_count": null,
   "metadata": {},
   "outputs": [],
   "source": [
    "def clip_all_acquisition(band):\n",
    "    with rasterio.open(band) as src:\n",
    "        for acquisition in range(1, 74):\n",
    "            data_array = src.read(acquisition)\n",
    "            min_val = np.percentile(data_array, 2)\n",
    "            max_val = np.percentile(data_array, 98)\n",
    "            norm_data = np.clip( (data_array - min_val) / (max_val - min_val), 0, 1)\n",
    "            \n",
    "    return norm_data"
   ]
  },
  {
   "cell_type": "code",
   "execution_count": null,
   "metadata": {},
   "outputs": [],
   "source": [
    "normalized_data_bands = []\n",
    "for bands in band_files:\n",
    "    normalized_data_bands.append(clip_all_acquisition(bands))"
   ]
  },
  {
   "cell_type": "markdown",
   "metadata": {},
   "source": [
    "- Satellite raster data (Sentinel 2)\n",
    "\t- 10 spectral bands, one per file (s2_2020_B02.tif, s2_2020_B03.tif, etc...)\n",
    "\t- Each file s2_2020_BXX.tif: contains an array of size (73, 4513, 5183)=(nb. dates, height, width)."
   ]
  },
  {
   "cell_type": "code",
   "execution_count": null,
   "metadata": {},
   "outputs": [],
   "source": [
    "acquisition = 73\n",
    "def get_7310(pixel):\n",
    "    x = pixel[0]\n",
    "    y = pixel[1]\n",
    "    pixel_7310 = []\n",
    "    for band in normalized_data_bands:\n",
    "        for period in acquisition:\n",
    "            pixel_7310.append(bands[acquisition, x, y])\n",
    "    return pixel_7310"
   ]
  }
 ],
 "metadata": {
  "kernelspec": {
   "display_name": "Python 3",
   "language": "python",
   "name": "python3"
  },
  "language_info": {
   "codemirror_mode": {
    "name": "ipython",
    "version": 3
   },
   "file_extension": ".py",
   "mimetype": "text/x-python",
   "name": "python",
   "nbconvert_exporter": "python",
   "pygments_lexer": "ipython3",
   "version": "3.8.7"
  }
 },
 "nbformat": 4,
 "nbformat_minor": 2
}
