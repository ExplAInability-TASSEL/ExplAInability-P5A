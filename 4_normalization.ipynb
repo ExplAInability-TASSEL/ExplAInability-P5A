{
 "cells": [
  {
   "cell_type": "code",
   "execution_count": 1,
   "metadata": {},
   "outputs": [],
   "source": [
    "import rioxarray as rxr\n",
    "import os\n",
    "from rasterio.plot import show\n",
    "from PIL import Image\n",
    "import matplotlib.pyplot as plt\n",
    "import xarray as xr\n",
    "import numpy as np\n",
    "import matplotlib.pyplot as plt\n",
    "import rasterio\n",
    "import geopandas as gpd\n",
    "import rasterio.features\n",
    "from shapely.geometry import shape\n",
    "import pandas as pd"
   ]
  },
  {
   "cell_type": "code",
   "execution_count": 2,
   "metadata": {},
   "outputs": [],
   "source": [
    "def load_data_from_file(contained_file):\n",
    "    # load the data\n",
    "    with open(contained_file) as f:\n",
    "        lines = f.readlines()\n",
    "        # reteive line infos\n",
    "        segment_id = []\n",
    "        polygon_id = []\n",
    "        class_id = []\n",
    "        pixels = []\n",
    "        for line in lines:\n",
    "            # retrieve segment id\n",
    "            segment_id.append(line.split(',')[0].split(':')[1].strip())\n",
    "            # retrieve polygon id\n",
    "            polygon_id.append(line.split(',')[1].split(':')[1].strip())\n",
    "            # retrieve class id\n",
    "            class_id.append(line.split(',')[2].split(':')[1].strip())\n",
    "            # retrieve pixels\n",
    "            pixel_list_str = line.split(':')[4]\n",
    "            pixel_list_str = pixel_list_str[3:-3]\n",
    "            pixel_list = list(pixel_list_str.split('], ['))\n",
    "            pixel_list = [pixel.split(', ') for pixel in pixel_list]\n",
    "            pixel_list = [[int(pixel[0]), int(pixel[1])] for pixel in pixel_list]\n",
    "            pixels.append(pixel_list)\n",
    "        \n",
    "        # create a dataframe\n",
    "        df = pd.DataFrame()\n",
    "        df['segment_id'] = segment_id\n",
    "        df['polygon_id'] = polygon_id\n",
    "        df['class_id'] = class_id\n",
    "        df['pixels'] = pixels\n",
    "        \n",
    "        return df"
   ]
  },
  {
   "cell_type": "code",
   "execution_count": 3,
   "metadata": {},
   "outputs": [],
   "source": [
    "# retreive some infos on fully contained segments\n",
    "contained_file_50 = 'data/contained_segments_50.txt'\n",
    "contained_file_0001 = 'data/contained_segments_0001.txt'\n",
    "contained_file_100 = 'data/contained_segments_100.txt'"
   ]
  },
  {
   "cell_type": "code",
   "execution_count": 4,
   "metadata": {},
   "outputs": [],
   "source": [
    "dataframe = load_data_from_file(contained_file_50)"
   ]
  },
  {
   "cell_type": "code",
   "execution_count": 5,
   "metadata": {},
   "outputs": [],
   "source": [
    "folder = \"D:/General/ExaplAInability_Data/transfer_6060512_files_e989f8bb\"\n",
    "\n",
    "list_bands = ['02', '03', '04', '05', '06', '07', '08', '8A', '11', '12']"
   ]
  },
  {
   "cell_type": "code",
   "execution_count": 6,
   "metadata": {},
   "outputs": [],
   "source": [
    "def clip_all_acquisition(band, output_folder):\n",
    "\n",
    "    with rasterio.open(band) as src:\n",
    "        for acquisition in range(1, src.count):\n",
    "            print(f\"Acquisition {acquisition}/{src.count}\")\n",
    "            data_array = src.read(acquisition)\n",
    "            min_val = np.percentile(data_array, 2)\n",
    "            max_val = np.percentile(data_array, 98)\n",
    "            norm_band = np.clip( (data_array - min_val) / (max_val - min_val), 0, 1)\n",
    "            \n",
    "            # Define the output file path for the normalized band\n",
    "            output_path = os.path.join(output_folder, f'normalized_{os.path.basename(band)}_Acquisition_{acquisition}.tif')\n",
    "\n",
    "            # Create a new GeoTIFF file and write the normalized data\n",
    "            with rasterio.open(output_path, 'w', **src.profile) as dst:\n",
    "                dst.write(norm_band, 1)"
   ]
  },
  {
   "cell_type": "code",
   "execution_count": 8,
   "metadata": {},
   "outputs": [
    {
     "name": "stdout",
     "output_type": "stream",
     "text": [
      "Band 02\n",
      "Acquisition 1/73\n"
     ]
    },
    {
     "name": "stdout",
     "output_type": "stream",
     "text": [
      "Acquisition 2/73\n"
     ]
    },
    {
     "ename": "KeyboardInterrupt",
     "evalue": "",
     "output_type": "error",
     "traceback": [
      "\u001b[1;31m---------------------------------------------------------------------------\u001b[0m",
      "\u001b[1;31mKeyboardInterrupt\u001b[0m                         Traceback (most recent call last)",
      "\u001b[1;32mc:\\Users\\antoi\\OneDrive\\Documents\\COURS_2023_S2\\Explainability\\Git\\ExplAInability-P5A\\4_normalization.ipynb Cell 7\u001b[0m line \u001b[0;36m6\n\u001b[0;32m      <a href='vscode-notebook-cell:/c%3A/Users/antoi/OneDrive/Documents/COURS_2023_S2/Explainability/Git/ExplAInability-P5A/4_normalization.ipynb#W6sZmlsZQ%3D%3D?line=3'>4</a>\u001b[0m output_folder \u001b[39m=\u001b[39m os\u001b[39m.\u001b[39mpath\u001b[39m.\u001b[39mjoin(folder, \u001b[39m'\u001b[39m\u001b[39mnormalized_output\u001b[39m\u001b[39m'\u001b[39m)  \u001b[39m# Output folder for the normalized bands\u001b[39;00m\n\u001b[0;32m      <a href='vscode-notebook-cell:/c%3A/Users/antoi/OneDrive/Documents/COURS_2023_S2/Explainability/Git/ExplAInability-P5A/4_normalization.ipynb#W6sZmlsZQ%3D%3D?line=4'>5</a>\u001b[0m os\u001b[39m.\u001b[39mmakedirs(output_folder, exist_ok\u001b[39m=\u001b[39m\u001b[39mTrue\u001b[39;00m)\n\u001b[1;32m----> <a href='vscode-notebook-cell:/c%3A/Users/antoi/OneDrive/Documents/COURS_2023_S2/Explainability/Git/ExplAInability-P5A/4_normalization.ipynb#W6sZmlsZQ%3D%3D?line=5'>6</a>\u001b[0m clip_all_acquisition(band_file, output_folder)\n",
      "\u001b[1;32mc:\\Users\\antoi\\OneDrive\\Documents\\COURS_2023_S2\\Explainability\\Git\\ExplAInability-P5A\\4_normalization.ipynb Cell 7\u001b[0m line \u001b[0;36m6\n\u001b[0;32m      <a href='vscode-notebook-cell:/c%3A/Users/antoi/OneDrive/Documents/COURS_2023_S2/Explainability/Git/ExplAInability-P5A/4_normalization.ipynb#W6sZmlsZQ%3D%3D?line=3'>4</a>\u001b[0m \u001b[39mfor\u001b[39;00m acquisition \u001b[39min\u001b[39;00m \u001b[39mrange\u001b[39m(\u001b[39m1\u001b[39m, src\u001b[39m.\u001b[39mcount):\n\u001b[0;32m      <a href='vscode-notebook-cell:/c%3A/Users/antoi/OneDrive/Documents/COURS_2023_S2/Explainability/Git/ExplAInability-P5A/4_normalization.ipynb#W6sZmlsZQ%3D%3D?line=4'>5</a>\u001b[0m     \u001b[39mprint\u001b[39m(\u001b[39mf\u001b[39m\u001b[39m\"\u001b[39m\u001b[39mAcquisition \u001b[39m\u001b[39m{\u001b[39;00macquisition\u001b[39m}\u001b[39;00m\u001b[39m/\u001b[39m\u001b[39m{\u001b[39;00msrc\u001b[39m.\u001b[39mcount\u001b[39m}\u001b[39;00m\u001b[39m\"\u001b[39m)\n\u001b[1;32m----> <a href='vscode-notebook-cell:/c%3A/Users/antoi/OneDrive/Documents/COURS_2023_S2/Explainability/Git/ExplAInability-P5A/4_normalization.ipynb#W6sZmlsZQ%3D%3D?line=5'>6</a>\u001b[0m     data_array \u001b[39m=\u001b[39m src\u001b[39m.\u001b[39;49mread(acquisition)\n\u001b[0;32m      <a href='vscode-notebook-cell:/c%3A/Users/antoi/OneDrive/Documents/COURS_2023_S2/Explainability/Git/ExplAInability-P5A/4_normalization.ipynb#W6sZmlsZQ%3D%3D?line=6'>7</a>\u001b[0m     min_val \u001b[39m=\u001b[39m np\u001b[39m.\u001b[39mpercentile(data_array, \u001b[39m2\u001b[39m)\n\u001b[0;32m      <a href='vscode-notebook-cell:/c%3A/Users/antoi/OneDrive/Documents/COURS_2023_S2/Explainability/Git/ExplAInability-P5A/4_normalization.ipynb#W6sZmlsZQ%3D%3D?line=7'>8</a>\u001b[0m     max_val \u001b[39m=\u001b[39m np\u001b[39m.\u001b[39mpercentile(data_array, \u001b[39m98\u001b[39m)\n",
      "\u001b[1;31mKeyboardInterrupt\u001b[0m: "
     ]
    }
   ],
   "source": [
    "for band in list_bands:\n",
    "    print(f\"Band {band}\")\n",
    "    band_file = os.path.join(folder, 's2_2020_B' + band + '.tif')\n",
    "    output_folder = os.path.join(folder, 'normalized_output')  # Output folder for the normalized bands\n",
    "    os.makedirs(output_folder, exist_ok=True)\n",
    "    clip_all_acquisition(band_file, output_folder)"
   ]
  },
  {
   "cell_type": "code",
   "execution_count": 11,
   "metadata": {},
   "outputs": [
    {
     "name": "stdout",
     "output_type": "stream",
     "text": [
      "{'driver': 'GTiff', 'dtype': 'uint16', 'nodata': None, 'width': 5183, 'height': 4513, 'count': 73, 'crs': CRS.from_epsg(32630), 'transform': Affine(10.0, 0.0, 402570.0,\n",
      "       0.0, -10.0, 1257190.0), 'blockysize': 1, 'tiled': False, 'interleave': 'pixel'}\n",
      "BoundingBox(left=402570.0, bottom=1212060.0, right=454400.0, top=1257190.0)\n",
      "EPSG:32630\n",
      "(4513, 5183)\n",
      "73\n"
     ]
    }
   ],
   "source": [
    "file = os.path.join(folder, 'normalized_output/normalized_s2_2020_B02.tif_Acquisition_1.tif')\n",
    "# show infos on the tif file\n",
    "with rasterio.open(file) as src:\n",
    "    print(src.profile)\n",
    "    print(src.bounds)\n",
    "    print(src.crs)\n",
    "    # show shape\n",
    "    print(src.shape)\n",
    "    print(src.count)"
   ]
  },
  {
   "cell_type": "markdown",
   "metadata": {},
   "source": [
    "- Satellite raster data (Sentinel 2)\n",
    "\t- 10 spectral bands, one per file (s2_2020_B02.tif, s2_2020_B03.tif, etc...)\n",
    "\t- Each file s2_2020_BXX.tif: contains an array of size (73, 4513, 5183)=(nb. dates, height, width)."
   ]
  },
  {
   "cell_type": "code",
   "execution_count": null,
   "metadata": {},
   "outputs": [],
   "source": [
    "acquisition = 73\n",
    "def get_7310(pixel):\n",
    "    x = pixel[0]\n",
    "    y = pixel[1]\n",
    "    pixel_7310 = []\n",
    "    for band in normalized_data_bands:\n",
    "        for period in acquisition:\n",
    "            pixel_7310.append(bands[acquisition, x, y])\n",
    "    return pixel_7310"
   ]
  }
 ],
 "metadata": {
  "kernelspec": {
   "display_name": "Python 3",
   "language": "python",
   "name": "python3"
  },
  "language_info": {
   "codemirror_mode": {
    "name": "ipython",
    "version": 3
   },
   "file_extension": ".py",
   "mimetype": "text/x-python",
   "name": "python",
   "nbconvert_exporter": "python",
   "pygments_lexer": "ipython3",
   "version": "3.8.7"
  }
 },
 "nbformat": 4,
 "nbformat_minor": 2
}
