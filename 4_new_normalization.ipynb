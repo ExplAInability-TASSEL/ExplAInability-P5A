{
 "cells": [
  {
   "cell_type": "markdown",
   "metadata": {},
   "source": [
    "This notebook normalize the raster image data to 0-1 range.  "
   ]
  },
  {
   "cell_type": "markdown",
   "metadata": {},
   "source": [
    "***Import necessary libraries***"
   ]
  },
  {
   "cell_type": "code",
   "execution_count": 1,
   "metadata": {},
   "outputs": [],
   "source": [
    "import os\n",
    "import numpy as np\n",
    "import rasterio\n",
    "import rasterio.features"
   ]
  },
  {
   "cell_type": "markdown",
   "metadata": {},
   "source": [
    "Lets create the files variables"
   ]
  },
  {
   "cell_type": "code",
   "execution_count": 2,
   "metadata": {},
   "outputs": [],
   "source": [
    "folder = \"D:/General/ExaplAInability_Data/transfer_6060512_files_e989f8bb\"\n",
    "list_bands = ['02', '03', '04', '05', '06', '07', '08', '8A', '11', '12']"
   ]
  },
  {
   "cell_type": "code",
   "execution_count": 4,
   "metadata": {},
   "outputs": [
    {
     "name": "stdout",
     "output_type": "stream",
     "text": [
      "Band 02\n"
     ]
    }
   ],
   "source": [
    "# save the first acquisition of the first band in a new tif file\n",
    "band = '02'\n",
    "print(f\"Band {band}\")\n",
    "band_file = os.path.join(folder, 's2_2020_B' + band + '.tif')\n",
    "\n",
    "with rasterio.open(band_file) as src:\n",
    "    acquisition1 = src.read(1)\n",
    "    profile = src.profile.copy()\n",
    "    profile.update(count=1)  # Set the count to 1 since we have only one acquisition\n",
    "    output_path = os.path.join(folder, 'first_acquisition.tif')\n",
    "    with rasterio.open(output_path, 'w', **profile) as dst:\n",
    "        dst.write(acquisition1, 1)\n"
   ]
  },
  {
   "cell_type": "markdown",
   "metadata": {},
   "source": [
    "Lets create the function that normalize the data based on this :  \n",
    "```txt\n",
    "For each band separately, normalize data to the interval [0, 1]:\n",
    "```\n",
    "```python\n",
    "norm_data = np.clip( (data - min_val) / (max_val - min_val), 0, 1)\n",
    "```\n",
    "```txt\n",
    "where min_val and max_val correspond respectively to the 2% and 98% percentile on the data. Any values outside the range [min_val, max_val] (eventual outliers) are clipped to 0 or 1.\n",
    "```"
   ]
  },
  {
   "cell_type": "code",
   "execution_count": 5,
   "metadata": {},
   "outputs": [],
   "source": [
    "def normalize_and_save_band(band, output_folder):\n",
    "    with rasterio.open(band) as src:\n",
    "        # Read all acquisitions into a 3D NumPy array\n",
    "        data_array = src.read()\n",
    "\n",
    "        # Compute the min and max values over all acquisitions\n",
    "        min_val = np.percentile(data_array, 2)\n",
    "        max_val = np.percentile(data_array, 98)\n",
    "\n",
    "        # Normalize the entire band\n",
    "        norm_band = np.clip((data_array - min_val) / (max_val - min_val), 0, 1).astype('float32')\n",
    "        print(f\"Min: {min_val}, Max: {max_val}, Mean: {np.mean(norm_band)}\")\n",
    "\n",
    "        # Define the output file path for the normalized band\n",
    "        output_path = os.path.join(output_folder, f'normalized_{os.path.basename(band)}.tif')\n",
    "\n",
    "        # Create a new GeoTIFF file with a custom profile and write the normalized data\n",
    "        profile = src.profile.copy()\n",
    "        profile.update(count=1, dtype='float32')  # Set count to 1 since we have only one normalized band\n",
    "        with rasterio.open(output_path, 'w', **profile) as dst:\n",
    "            dst.write(norm_band)\n"
   ]
  },
  {
   "cell_type": "markdown",
   "metadata": {},
   "source": [
    "Create the output folder."
   ]
  },
  {
   "cell_type": "code",
   "execution_count": 4,
   "metadata": {},
   "outputs": [],
   "source": [
    "output_band_folder = os.path.join(folder, 'normalized_gathered_band_final_output')\n",
    "os.makedirs(output_band_folder, exist_ok=True)"
   ]
  },
  {
   "cell_type": "markdown",
   "metadata": {},
   "source": [
    "Now we normalize the data and save it in the output folder.  "
   ]
  },
  {
   "cell_type": "code",
   "execution_count": null,
   "metadata": {},
   "outputs": [],
   "source": [
    "min_max_folder = \"data\\min_max_outputs\" # \\min_max_s2_2020_B02.tif.txt\n",
    "for band in list_bands:\n",
    "    print(f\"Band {band}\")\n",
    "    band_file = os.path.join(folder, 's2_2020_B' + band + '.tif')\n",
    "    normalize_and_save_band(band_file, band, output_band_folder, min_max_folder)"
   ]
  },
  {
   "cell_type": "markdown",
   "metadata": {},
   "source": [
    "Once done, we have our normalized data in the output folder.  \n",
    "We can then compare the original data with the normalized data."
   ]
  },
  {
   "cell_type": "code",
   "execution_count": null,
   "metadata": {},
   "outputs": [],
   "source": [
    "for band in list_bands:\n",
    "    print(f\"Band {band}\")\n",
    "    band_file = os.path.join(folder, 's2_2020_B' + band + '.tif')\n",
    "    output_path = os.path.join(output_band_folder, f'normalized_{os.path.basename(band_file)}.tif')\n",
    "    with rasterio.open(band_file) as src:\n",
    "        acquisition1 = src.read(1)\n",
    "        acquisition2 = src.read(25)\n",
    "        acquisition3 = src.read(70)\n",
    "        \n",
    "        print(f\"Acquisition 1: Min: {np.min(acquisition1)}, Max: {np.max(acquisition1)}, Mean: {np.mean(acquisition1)}\")\n",
    "        print(f\"Acquisition 25: Min: {np.min(acquisition2)}, Max: {np.max(acquisition2)}, Mean: {np.mean(acquisition2)}\")\n",
    "        print(f\"Acquisition 70: Min: {np.min(acquisition3)}, Max: {np.max(acquisition3)}, Mean: {np.mean(acquisition3)}\")\n",
    "    with rasterio.open(output_path) as src:\n",
    "        acquisition1 = src.read(1)\n",
    "        acquisition2 = src.read(25)\n",
    "        acquisition3 = src.read(70)\n",
    "        \n",
    "        print(f\"Acquisition 1: Min: {np.min(acquisition1)}, Max: {np.max(acquisition1)}, Mean: {np.mean(acquisition1)}\")\n",
    "        print(f\"Acquisition 25: Min: {np.min(acquisition2)}, Max: {np.max(acquisition2)}, Mean: {np.mean(acquisition2)}\")\n",
    "        print(f\"Acquisition 70: Min: {np.min(acquisition3)}, Max: {np.max(acquisition3)}, Mean: {np.mean(acquisition3)}\")"
   ]
  },
  {
   "cell_type": "markdown",
   "metadata": {},
   "source": [
    "We can also create a function to get the min and max of each band as follow."
   ]
  },
  {
   "cell_type": "code",
   "execution_count": 4,
   "metadata": {},
   "outputs": [],
   "source": [
    "def get_min_max_band(band, output_folder):\n",
    "    with rasterio.open(band) as src:\n",
    "        print(f\"Start reading band {band}\")\n",
    "\n",
    "        # Read all acquisitions into a 3D NumPy array\n",
    "        data_array = src.read()\n",
    "\n",
    "        # Compute the min and max values over all acquisitions\n",
    "        min_val = np.percentile(data_array, 2)\n",
    "        max_val = np.percentile(data_array, 98)\n",
    "\n",
    "        print(\"Percentile calculated\")\n",
    "\n",
    "        print(f\"Min: {min_val}, Max: {max_val}, Mean: {np.mean(data_array)}\")\n",
    "        \n",
    "        # write min max value to file\n",
    "        output_path = os.path.join(output_folder, f'min_max_{os.path.basename(band)}.txt')\n",
    "        with open(output_path, 'w') as f:\n",
    "            f.write(f\"Min: {min_val}, Max: {max_val}, Mean: {np.mean(data_array)}\")\n",
    "\n",
    "        return min_val, max_val"
   ]
  },
  {
   "cell_type": "markdown",
   "metadata": {},
   "source": [
    "### Test how clip works for the data."
   ]
  },
  {
   "cell_type": "markdown",
   "metadata": {},
   "source": [
    "This test shows that clipping on each acquisition based on the min and max values (percentile 2% and 98% obtained on the whole band) does the same as clipping directly the whole band. "
   ]
  },
  {
   "cell_type": "code",
   "execution_count": 35,
   "metadata": {},
   "outputs": [
    {
     "name": "stdout",
     "output_type": "stream",
     "text": [
      "Min: 3.0, Max: 8.0\n",
      "------\n",
      "[[0 0 3 4 5]\n",
      " [4 5 6 7 8]]\n",
      "Min: 3.0, Max: 8.0, Mean: 0.36000001430511475\n",
      "[[0.  0.  0.  0.2 0.4]\n",
      " [0.2 0.4 0.6 0.8 1. ]]\n",
      "------\n",
      "[[0.  3.  4.  5.  6. ]\n",
      " [5.  6.  7.  8.  8.5]]\n",
      "Min: 3.0, Max: 8.0, Mean: 0.5\n",
      "[[0.  0.  0.2 0.4 0.6]\n",
      " [0.4 0.6 0.8 1.  1. ]]\n",
      "------\n",
      "[[ 0  4  5  6  7]\n",
      " [ 6  7  9 18 12]]\n",
      "Min: 3.0, Max: 8.0, Mean: 0.6399999856948853\n",
      "[[0.  0.2 0.4 0.6 0.8]\n",
      " [0.6 0.8 1.  1.  1. ]]\n",
      "------All Array------\n",
      "Min: 3.0, Max: 8.0, Mean: 0.5000000596046448\n",
      "[[[0.  0.  0.  0.2 0.4]\n",
      "  [0.2 0.4 0.6 0.8 1. ]]\n",
      "\n",
      " [[0.  0.  0.2 0.4 0.6]\n",
      "  [0.4 0.6 0.8 1.  1. ]]\n",
      "\n",
      " [[0.  0.2 0.4 0.6 0.8]\n",
      "  [0.6 0.8 1.  1.  1. ]]]\n"
     ]
    }
   ],
   "source": [
    "# create an array\n",
    "array1 = np.array([[0, 0, 3, 4, 5], [4, 5, 6, 7, 8]])\n",
    "array2 = np.array([[0, 3, 4, 5, 6], [5, 6, 7, 8, 8.5]])\n",
    "array3 = np.array([[0, 4, 5, 6, 7], [6, 7, 9, 18, 12]])\n",
    "arrays = [array1, array2, array3]\n",
    "\n",
    "min_val = np.percentile(arrays, 15)\n",
    "max_val = np.percentile(arrays, 85)\n",
    "print(f\"Min: {min_val}, Max: {max_val}\")\n",
    "\n",
    "def normalize(array):\n",
    "        norm_band = np.clip((array - min_val) / (max_val - min_val), 0, 1).astype('float32')\n",
    "        print(f\"Min: {min_val}, Max: {max_val}, Mean: {np.mean(norm_band)}\")\n",
    "        return norm_band\n",
    "for array in arrays:\n",
    "    print(\"------\")\n",
    "    print(array)\n",
    "    print(normalize(array))\n",
    "    \n",
    "print(\"------All Array------\")\n",
    "norm_band = np.clip((arrays - min_val) / (max_val - min_val), 0, 1).astype('float32')\n",
    "print(f\"Min: {min_val}, Max: {max_val}, Mean: {np.mean(norm_band)}\")\n",
    "print(norm_band)"
   ]
  },
  {
   "cell_type": "code",
   "execution_count": null,
   "metadata": {},
   "outputs": [],
   "source": []
  }
 ],
 "metadata": {
  "kernelspec": {
   "display_name": "Python 3",
   "language": "python",
   "name": "python3"
  },
  "language_info": {
   "codemirror_mode": {
    "name": "ipython",
    "version": 3
   },
   "file_extension": ".py",
   "mimetype": "text/x-python",
   "name": "python",
   "nbconvert_exporter": "python",
   "pygments_lexer": "ipython3",
   "version": "3.8.7"
  }
 },
 "nbformat": 4,
 "nbformat_minor": 2
}
