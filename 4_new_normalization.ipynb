{
 "cells": [
  {
   "cell_type": "markdown",
   "metadata": {},
   "source": [
    "This notebook normalize the raster image data to 0-1 range.  "
   ]
  },
  {
   "cell_type": "markdown",
   "metadata": {},
   "source": [
    "***Import necessary libraries***"
   ]
  },
  {
   "cell_type": "code",
   "execution_count": 1,
   "metadata": {},
   "outputs": [],
   "source": [
    "import os\n",
    "import numpy as np\n",
    "import rasterio\n",
    "import rasterio.features"
   ]
  },
  {
   "cell_type": "markdown",
   "metadata": {},
   "source": [
    "Lets create the files variables"
   ]
  },
  {
   "cell_type": "code",
   "execution_count": 7,
   "metadata": {},
   "outputs": [],
   "source": [
    "folder = \"D:/General/ExaplAInability_Data/transfer_6060512_files_e989f8bb\"\n",
    "list_bands = ['02', '03', '04', '05', '06', '07', '08', '8A', '11', '12']"
   ]
  },
  {
   "cell_type": "markdown",
   "metadata": {},
   "source": [
    "Lets create the function that normalize the data based on this :  \n",
    "```txt\n",
    "For each band separately, normalize data to the interval [0, 1]:\n",
    "```\n",
    "```python\n",
    "norm_data = np.clip( (data - min_val) / (max_val - min_val), 0, 1)\n",
    "```\n",
    "```txt\n",
    "where min_val and max_val correspond respectively to the 2% and 98% percentile on the data. Any values outside the range [min_val, max_val] (eventual outliers) are clipped to 0 or 1.\n",
    "```"
   ]
  },
  {
   "cell_type": "code",
   "execution_count": 9,
   "metadata": {},
   "outputs": [],
   "source": [
    "def normalize_and_save_band(band, output_folder):\n",
    "    with rasterio.open(band) as src:\n",
    "        normalized_acquisitions = []\n",
    "        for acquisition in range(1, src.count + 1):\n",
    "            print(f\"Acquisition {acquisition}/{src.count}\")\n",
    "            data_array = src.read(acquisition)\n",
    "            min_val = (np.percentile(data_array, 2))\n",
    "            max_val = (np.percentile(data_array, 98))\n",
    "            norm_band = np.clip((data_array - min_val) / (max_val - min_val), 0, 1).astype('float32')\n",
    "            print(f\"Min: {min_val}, Max: {max_val}, Mean: {np.mean(norm_band)}\")\n",
    "\n",
    "            # Append the normalized acquisition to the list\n",
    "            normalized_acquisitions.append(norm_band)\n",
    "\n",
    "        # Stack the acquisitions along a new dimension (time)\n",
    "        normalized_band = np.stack(normalized_acquisitions, axis=0)\n",
    "\n",
    "        # Define the output file path for the normalized band\n",
    "        output_path = os.path.join(output_folder, f'normalized_{os.path.basename(band)}.tif')\n",
    "\n",
    "        # Create a new GeoTIFF file with a custom profile and write the normalized data\n",
    "        profile = src.profile.copy()\n",
    "        profile.update(count=src.count, dtype='float32')  # Set the count to the number of acquisitions\n",
    "        with rasterio.open(output_path, 'w', **profile) as dst:\n",
    "            dst.write(normalized_band)"
   ]
  },
  {
   "cell_type": "markdown",
   "metadata": {},
   "source": [
    "Create the output folder."
   ]
  },
  {
   "cell_type": "code",
   "execution_count": 10,
   "metadata": {},
   "outputs": [],
   "source": [
    "output_band_folder = os.path.join(folder, 'normalized_gathered_output')\n",
    "os.makedirs(output_band_folder, exist_ok=True)"
   ]
  },
  {
   "cell_type": "markdown",
   "metadata": {},
   "source": [
    "Now we normalize the data and save it in the output folder.  "
   ]
  },
  {
   "cell_type": "code",
   "execution_count": null,
   "metadata": {},
   "outputs": [],
   "source": [
    "for band in list_bands:\n",
    "    print(f\"Band {band}\")\n",
    "    band_file = os.path.join(folder, 's2_2020_B' + band + '.tif')\n",
    "    normalize_and_save_band(band_file, output_band_folder)"
   ]
  },
  {
   "cell_type": "markdown",
   "metadata": {},
   "source": [
    "Once done, we have our normalized data in the output folder."
   ]
  }
 ],
 "metadata": {
  "kernelspec": {
   "display_name": "Python 3",
   "language": "python",
   "name": "python3"
  },
  "language_info": {
   "codemirror_mode": {
    "name": "ipython",
    "version": 3
   },
   "file_extension": ".py",
   "mimetype": "text/x-python",
   "name": "python",
   "nbconvert_exporter": "python",
   "pygments_lexer": "ipython3",
   "version": "3.8.7"
  }
 },
 "nbformat": 4,
 "nbformat_minor": 2
}
