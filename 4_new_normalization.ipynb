{
 "cells": [
  {
   "cell_type": "markdown",
   "metadata": {},
   "source": [
    "This notebook normalize the raster image data to 0-1 range.  "
   ]
  },
  {
   "cell_type": "markdown",
   "metadata": {},
   "source": [
    "***Import necessary libraries***"
   ]
  },
  {
   "cell_type": "code",
   "execution_count": 1,
   "metadata": {},
   "outputs": [],
   "source": [
    "import os\n",
    "import numpy as np\n",
    "import rasterio\n",
    "import rasterio.features"
   ]
  },
  {
   "cell_type": "markdown",
   "metadata": {},
   "source": [
    "Lets create the files variables"
   ]
  },
  {
   "cell_type": "code",
   "execution_count": 2,
   "metadata": {},
   "outputs": [],
   "source": [
    "folder = \"D:/General/ExaplAInability_Data/transfer_6060512_files_e989f8bb\"\n",
    "list_bands = ['02', '03', '04', '05', '06', '07', '08', '8A', '11', '12']"
   ]
  },
  {
   "cell_type": "markdown",
   "metadata": {},
   "source": [
    "Lets create the function that normalize the data based on this :  \n",
    "```txt\n",
    "For each band separately, normalize data to the interval [0, 1]:\n",
    "```\n",
    "```python\n",
    "norm_data = np.clip( (data - min_val) / (max_val - min_val), 0, 1)\n",
    "```\n",
    "```txt\n",
    "where min_val and max_val correspond respectively to the 2% and 98% percentile on the data. Any values outside the range [min_val, max_val] (eventual outliers) are clipped to 0 or 1.\n",
    "```"
   ]
  },
  {
   "cell_type": "code",
   "execution_count": 9,
   "metadata": {},
   "outputs": [],
   "source": [
    "def normalize_and_save_band_acquisition(band, output_folder):\n",
    "    with rasterio.open(band) as src:\n",
    "        normalized_acquisitions = []\n",
    "        for acquisition in range(1, src.count + 1):\n",
    "            print(f\"Acquisition {acquisition}/{src.count}\")\n",
    "            data_array = src.read(acquisition)\n",
    "            min_val = (np.percentile(data_array, 2))\n",
    "            max_val = (np.percentile(data_array, 98))\n",
    "            norm_band = np.clip((data_array - min_val) / (max_val - min_val), 0, 1).astype('float32')\n",
    "            print(f\"Min: {min_val}, Max: {max_val}, Mean: {np.mean(norm_band)}\")\n",
    "\n",
    "            # Append the normalized acquisition to the list\n",
    "            normalized_acquisitions.append(norm_band)\n",
    "\n",
    "        # Stack the acquisitions along a new dimension (time)\n",
    "        normalized_band = np.stack(normalized_acquisitions, axis=0)\n",
    "\n",
    "        # Define the output file path for the normalized band\n",
    "        output_path = os.path.join(output_folder, f'normalized_{os.path.basename(band)}.tif')\n",
    "\n",
    "        # Create a new GeoTIFF file with a custom profile and write the normalized data\n",
    "        profile = src.profile.copy()\n",
    "        profile.update(count=src.count, dtype='float32')  # Set the count to the number of acquisitions\n",
    "        with rasterio.open(output_path, 'w', **profile) as dst:\n",
    "            dst.write(normalized_band)"
   ]
  },
  {
   "cell_type": "code",
   "execution_count": 10,
   "metadata": {},
   "outputs": [],
   "source": [
    "def normalize_and_save_band_acquisition_uint16(band, output_folder):\n",
    "    with rasterio.open(band) as src:\n",
    "        normalized_acquisitions = []\n",
    "        for acquisition in range(1, src.count + 1):\n",
    "            print(f\"Acquisition {acquisition}/{src.count}\")\n",
    "            data_array = src.read(acquisition)\n",
    "            min_val = np.percentile(data_array, 2)\n",
    "            max_val = np.percentile(data_array, 98)\n",
    "            \n",
    "            # Normalize the acquisition and scale back to uint16\n",
    "            norm_band = np.clip((data_array - min_val) / (max_val - min_val), 0, 1) * 65535\n",
    "            norm_band = norm_band.astype('uint16')\n",
    "            \n",
    "            print(f\"Min: {min_val}, Max: {max_val}, Mean: {np.mean(norm_band)}\")\n",
    "\n",
    "            # Append the normalized acquisition to the list\n",
    "            normalized_acquisitions.append(norm_band)\n",
    "\n",
    "        # Stack the acquisitions along a new dimension (time)\n",
    "        normalized_band = np.stack(normalized_acquisitions, axis=0)\n",
    "\n",
    "        # Define the output file path for the normalized band\n",
    "        output_path = os.path.join(output_folder, f'normalized_{os.path.basename(band)}.tif')\n",
    "\n",
    "        # Create a new GeoTIFF file with a custom profile and write the normalized data\n",
    "        profile = src.profile.copy()\n",
    "        profile.update(count=src.count, dtype='uint16')  # Set the count to the number of acquisitions\n",
    "        with rasterio.open(output_path, 'w', **profile) as dst:\n",
    "            dst.write(normalized_band)\n"
   ]
  },
  {
   "cell_type": "code",
   "execution_count": 20,
   "metadata": {},
   "outputs": [],
   "source": [
    "def normalize_and_save_band(band, output_folder):\n",
    "    with rasterio.open(band) as src:\n",
    "        # Read all acquisitions into a 3D NumPy array\n",
    "        data_array = src.read()\n",
    "\n",
    "        # Compute the min and max values over all acquisitions\n",
    "        min_val = np.percentile(data_array, 2)\n",
    "        max_val = np.percentile(data_array, 98)\n",
    "\n",
    "        # Normalize the entire band\n",
    "        norm_band = np.clip((data_array - min_val) / (max_val - min_val), 0, 1).astype('float32')\n",
    "        print(f\"Min: {min_val}, Max: {max_val}, Mean: {np.mean(norm_band)}\")\n",
    "\n",
    "        # Define the output file path for the normalized band\n",
    "        output_path = os.path.join(output_folder, f'normalized_{os.path.basename(band)}.tif')\n",
    "\n",
    "        # Create a new GeoTIFF file with a custom profile and write the normalized data\n",
    "        profile = src.profile.copy()\n",
    "        profile.update(count=1, dtype='float32')  # Set count to 1 since we have only one normalized band\n",
    "        with rasterio.open(output_path, 'w', **profile) as dst:\n",
    "            dst.write(norm_band)\n"
   ]
  },
  {
   "cell_type": "markdown",
   "metadata": {},
   "source": [
    "Create the output folder."
   ]
  },
  {
   "cell_type": "code",
   "execution_count": 3,
   "metadata": {},
   "outputs": [],
   "source": [
    "output_band_folder = os.path.join(folder, 'normalized_final_output')\n",
    "os.makedirs(output_band_folder, exist_ok=True)"
   ]
  },
  {
   "cell_type": "markdown",
   "metadata": {},
   "source": [
    "Now we normalize the data and save it in the output folder.  "
   ]
  },
  {
   "cell_type": "code",
   "execution_count": 21,
   "metadata": {},
   "outputs": [
    {
     "name": "stdout",
     "output_type": "stream",
     "text": [
      "Band 02\n"
     ]
    },
    {
     "ename": "MemoryError",
     "evalue": "Unable to allocate 3.18 GiB for an array with shape (73, 4513, 5183) and data type uint16",
     "output_type": "error",
     "traceback": [
      "\u001b[1;31m---------------------------------------------------------------------------\u001b[0m",
      "\u001b[1;31mMemoryError\u001b[0m                               Traceback (most recent call last)",
      "\u001b[1;32mc:\\Users\\antoi\\OneDrive\\Documents\\COURS_2023_S2\\Explainability\\Git\\ExplAInability-P5A\\4_new_normalization.ipynb Cell 13\u001b[0m line \u001b[0;36m4\n\u001b[0;32m      <a href='vscode-notebook-cell:/c%3A/Users/antoi/OneDrive/Documents/COURS_2023_S2/Explainability/Git/ExplAInability-P5A/4_new_normalization.ipynb#W4sZmlsZQ%3D%3D?line=1'>2</a>\u001b[0m \u001b[39mprint\u001b[39m(\u001b[39mf\u001b[39m\u001b[39m\"\u001b[39m\u001b[39mBand \u001b[39m\u001b[39m{\u001b[39;00mband\u001b[39m}\u001b[39;00m\u001b[39m\"\u001b[39m)\n\u001b[0;32m      <a href='vscode-notebook-cell:/c%3A/Users/antoi/OneDrive/Documents/COURS_2023_S2/Explainability/Git/ExplAInability-P5A/4_new_normalization.ipynb#W4sZmlsZQ%3D%3D?line=2'>3</a>\u001b[0m band_file \u001b[39m=\u001b[39m os\u001b[39m.\u001b[39mpath\u001b[39m.\u001b[39mjoin(folder, \u001b[39m'\u001b[39m\u001b[39ms2_2020_B\u001b[39m\u001b[39m'\u001b[39m \u001b[39m+\u001b[39m band \u001b[39m+\u001b[39m \u001b[39m'\u001b[39m\u001b[39m.tif\u001b[39m\u001b[39m'\u001b[39m)\n\u001b[1;32m----> <a href='vscode-notebook-cell:/c%3A/Users/antoi/OneDrive/Documents/COURS_2023_S2/Explainability/Git/ExplAInability-P5A/4_new_normalization.ipynb#W4sZmlsZQ%3D%3D?line=3'>4</a>\u001b[0m normalize_and_save_band(band_file, output_band_folder)\n",
      "\u001b[1;32mc:\\Users\\antoi\\OneDrive\\Documents\\COURS_2023_S2\\Explainability\\Git\\ExplAInability-P5A\\4_new_normalization.ipynb Cell 13\u001b[0m line \u001b[0;36m4\n\u001b[0;32m      <a href='vscode-notebook-cell:/c%3A/Users/antoi/OneDrive/Documents/COURS_2023_S2/Explainability/Git/ExplAInability-P5A/4_new_normalization.ipynb#W4sZmlsZQ%3D%3D?line=0'>1</a>\u001b[0m \u001b[39mdef\u001b[39;00m \u001b[39mnormalize_and_save_band\u001b[39m(band, output_folder):\n\u001b[0;32m      <a href='vscode-notebook-cell:/c%3A/Users/antoi/OneDrive/Documents/COURS_2023_S2/Explainability/Git/ExplAInability-P5A/4_new_normalization.ipynb#W4sZmlsZQ%3D%3D?line=1'>2</a>\u001b[0m     \u001b[39mwith\u001b[39;00m rasterio\u001b[39m.\u001b[39mopen(band) \u001b[39mas\u001b[39;00m src:\n\u001b[0;32m      <a href='vscode-notebook-cell:/c%3A/Users/antoi/OneDrive/Documents/COURS_2023_S2/Explainability/Git/ExplAInability-P5A/4_new_normalization.ipynb#W4sZmlsZQ%3D%3D?line=2'>3</a>\u001b[0m         \u001b[39m# Read all acquisitions into a 3D NumPy array\u001b[39;00m\n\u001b[1;32m----> <a href='vscode-notebook-cell:/c%3A/Users/antoi/OneDrive/Documents/COURS_2023_S2/Explainability/Git/ExplAInability-P5A/4_new_normalization.ipynb#W4sZmlsZQ%3D%3D?line=3'>4</a>\u001b[0m         data_array \u001b[39m=\u001b[39m src\u001b[39m.\u001b[39;49mread()\n\u001b[0;32m      <a href='vscode-notebook-cell:/c%3A/Users/antoi/OneDrive/Documents/COURS_2023_S2/Explainability/Git/ExplAInability-P5A/4_new_normalization.ipynb#W4sZmlsZQ%3D%3D?line=5'>6</a>\u001b[0m         \u001b[39m# Compute the min and max values over all acquisitions\u001b[39;00m\n\u001b[0;32m      <a href='vscode-notebook-cell:/c%3A/Users/antoi/OneDrive/Documents/COURS_2023_S2/Explainability/Git/ExplAInability-P5A/4_new_normalization.ipynb#W4sZmlsZQ%3D%3D?line=6'>7</a>\u001b[0m         min_val \u001b[39m=\u001b[39m np\u001b[39m.\u001b[39mpercentile(data_array, \u001b[39m2\u001b[39m)\n",
      "File \u001b[1;32mrasterio\\_io.pyx:627\u001b[0m, in \u001b[0;36mrasterio._io.DatasetReaderBase.read\u001b[1;34m()\u001b[0m\n",
      "\u001b[1;31mMemoryError\u001b[0m: Unable to allocate 3.18 GiB for an array with shape (73, 4513, 5183) and data type uint16"
     ]
    }
   ],
   "source": [
    "for band in list_bands:\n",
    "    print(f\"Band {band}\")\n",
    "    band_file = os.path.join(folder, 's2_2020_B' + band + '.tif')\n",
    "    normalize_and_save_band(band_file, output_band_folder)"
   ]
  },
  {
   "cell_type": "markdown",
   "metadata": {},
   "source": [
    "Once done, we have our normalized data in the output folder."
   ]
  }
 ],
 "metadata": {
  "kernelspec": {
   "display_name": "Python 3",
   "language": "python",
   "name": "python3"
  },
  "language_info": {
   "codemirror_mode": {
    "name": "ipython",
    "version": 3
   },
   "file_extension": ".py",
   "mimetype": "text/x-python",
   "name": "python",
   "nbconvert_exporter": "python",
   "pygments_lexer": "ipython3",
   "version": "3.8.7"
  }
 },
 "nbformat": 4,
 "nbformat_minor": 2
}
