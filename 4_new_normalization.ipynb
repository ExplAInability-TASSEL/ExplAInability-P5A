{
 "cells": [
  {
   "cell_type": "markdown",
   "metadata": {},
   "source": [
    "This notebook normalize the raster image data to 0-1 range.  "
   ]
  },
  {
   "cell_type": "markdown",
   "metadata": {},
   "source": [
    "***Import necessary libraries***"
   ]
  },
  {
   "cell_type": "code",
   "execution_count": 1,
   "metadata": {},
   "outputs": [],
   "source": [
    "import os\n",
    "import numpy as np\n",
    "import rasterio\n",
    "import rasterio.features"
   ]
  },
  {
   "cell_type": "markdown",
   "metadata": {},
   "source": [
    "Lets create the files variables"
   ]
  },
  {
   "cell_type": "code",
   "execution_count": 2,
   "metadata": {},
   "outputs": [],
   "source": [
    "folder = \"H:/General/ExaplAInability_Data/transfer_6060512_files_e989f8bb\"\n",
    "list_bands = ['02', '03', '04', '05', '06', '07', '08', '8A', '11', '12']"
   ]
  },
  {
   "cell_type": "markdown",
   "metadata": {},
   "source": [
    "Lets create the function that normalize the data based on this :  \n",
    "```txt\n",
    "For each band separately, normalize data to the interval [0, 1]:\n",
    "```\n",
    "```python\n",
    "norm_data = np.clip( (data - min_val) / (max_val - min_val), 0, 1)\n",
    "```\n",
    "```txt\n",
    "where min_val and max_val correspond respectively to the 2% and 98% percentile on the data. Any values outside the range [min_val, max_val] (eventual outliers) are clipped to 0 or 1.\n",
    "```"
   ]
  },
  {
   "cell_type": "code",
   "execution_count": 3,
   "metadata": {},
   "outputs": [],
   "source": [
    "def normalize_and_save_band_acquisition(band, output_folder):\n",
    "    with rasterio.open(band) as src:\n",
    "        normalized_acquisitions = []\n",
    "        for acquisition in range(1, src.count + 1):\n",
    "            print(f\"Acquisition {acquisition}/{src.count}\")\n",
    "            data_array = src.read(acquisition)\n",
    "            min_val = (np.percentile(data_array, 2))\n",
    "            max_val = (np.percentile(data_array, 98))\n",
    "            norm_band = np.clip((data_array - min_val) / (max_val - min_val), 0, 1).astype('float32')\n",
    "            print(f\"Min: {min_val}, Max: {max_val}, Mean: {np.mean(norm_band)}\")\n",
    "\n",
    "            # Append the normalized acquisition to the list\n",
    "            normalized_acquisitions.append(norm_band)\n",
    "\n",
    "        # Stack the acquisitions along a new dimension (time)\n",
    "        normalized_band = np.stack(normalized_acquisitions, axis=0)\n",
    "\n",
    "        # Define the output file path for the normalized band\n",
    "        output_path = os.path.join(output_folder, f'normalized_{os.path.basename(band)}.tif')\n",
    "\n",
    "        # Create a new GeoTIFF file with a custom profile and write the normalized data\n",
    "        profile = src.profile.copy()\n",
    "        profile.update(count=src.count, dtype='float32')  # Set the count to the number of acquisitions\n",
    "        with rasterio.open(output_path, 'w', **profile) as dst:\n",
    "            dst.write(normalized_band)"
   ]
  },
  {
   "cell_type": "code",
   "execution_count": 4,
   "metadata": {},
   "outputs": [],
   "source": [
    "def normalize_and_save_band_acquisition_uint16(band, output_folder):\n",
    "    with rasterio.open(band) as src:\n",
    "        normalized_acquisitions = []\n",
    "        for acquisition in range(1, src.count + 1):\n",
    "            print(f\"Acquisition {acquisition}/{src.count}\")\n",
    "            data_array = src.read(acquisition)\n",
    "            min_val = np.percentile(data_array, 2)\n",
    "            max_val = np.percentile(data_array, 98)\n",
    "            \n",
    "            # Normalize the acquisition and scale back to uint16\n",
    "            norm_band = np.clip((data_array - min_val) / (max_val - min_val), 0, 1) * 65535\n",
    "            norm_band = norm_band.astype('uint16')\n",
    "            \n",
    "            print(f\"Min: {min_val}, Max: {max_val}, Mean: {np.mean(norm_band)}\")\n",
    "\n",
    "            # Append the normalized acquisition to the list\n",
    "            normalized_acquisitions.append(norm_band)\n",
    "\n",
    "        # Stack the acquisitions along a new dimension (time)\n",
    "        normalized_band = np.stack(normalized_acquisitions, axis=0)\n",
    "\n",
    "        # Define the output file path for the normalized band\n",
    "        output_path = os.path.join(output_folder, f'normalized_{os.path.basename(band)}.tif')\n",
    "\n",
    "        # Create a new GeoTIFF file with a custom profile and write the normalized data\n",
    "        profile = src.profile.copy()\n",
    "        profile.update(count=src.count, dtype='uint16')  # Set the count to the number of acquisitions\n",
    "        with rasterio.open(output_path, 'w', **profile) as dst:\n",
    "            dst.write(normalized_band)\n"
   ]
  },
  {
   "cell_type": "code",
   "execution_count": 5,
   "metadata": {},
   "outputs": [],
   "source": [
    "def normalize_and_save__all_band(band, output_folder):\n",
    "    with rasterio.open(band) as src:\n",
    "        # Read all acquisitions into a 3D NumPy array\n",
    "        data_array = src.read()\n",
    "\n",
    "        # Compute the min and max values over all acquisitions\n",
    "        min_val = np.percentile(data_array, 2)\n",
    "        max_val = np.percentile(data_array, 98)\n",
    "\n",
    "        # Normalize the entire band\n",
    "        norm_band = np.clip((data_array - min_val) / (max_val - min_val), 0, 1).astype('float32')\n",
    "        print(f\"Min: {min_val}, Max: {max_val}, Mean: {np.mean(norm_band)}\")\n",
    "\n",
    "        # Define the output file path for the normalized band\n",
    "        output_path = os.path.join(output_folder, f'normalized_{os.path.basename(band)}.tif')\n",
    "\n",
    "        # Create a new GeoTIFF file with a custom profile and write the normalized data\n",
    "        profile = src.profile.copy()\n",
    "        profile.update(count=1, dtype='float32')  # Set count to 1 since we have only one normalized band\n",
    "        with rasterio.open(output_path, 'w', **profile) as dst:\n",
    "            dst.write(norm_band)\n"
   ]
  },
  {
   "cell_type": "code",
   "execution_count": 3,
   "metadata": {},
   "outputs": [],
   "source": [
    "def normalize_and_save_band(band, output_folder):\n",
    "    with rasterio.open(band) as src:\n",
    "        print(\"Start reading band\")\n",
    "        # Read all acquisitions into a 3D NumPy array\n",
    "        data_array = src.read()\n",
    "\n",
    "        # Compute the min and max values over all acquisitions\n",
    "        min_val = np.percentile(data_array, 2)\n",
    "        max_val = np.percentile(data_array, 98)\n",
    "        print(\"Percentile calculated\")\n",
    "        # Del the variable to free up memory\n",
    "        del data_array\n",
    "        \n",
    "        normalized_acquisitions = []\n",
    "        for acquisition in range(1, src.count + 1):\n",
    "            print(f\"Bande {band} - Acquisition {acquisition}/{src.count}\")\n",
    "            data_array = src.read(acquisition)\n",
    "            \n",
    "            # Normalize the acquisition and scale back to uint16\n",
    "            norm_band = np.clip((data_array - min_val) / (max_val - min_val), 0, 1) * 65535\n",
    "            norm_band = norm_band.astype('uint16')\n",
    "            \n",
    "            print(f\"Min: {min_val}, Max: {max_val}, Mean: {np.mean(norm_band)}\")\n",
    "\n",
    "            # Append the normalized acquisition to the list\n",
    "            normalized_acquisitions.append(norm_band)\n",
    "            \n",
    "            # Del the variable to free up memory\n",
    "            del data_array\n",
    "\n",
    "        # Stack the acquisitions along a new dimension (time)\n",
    "        normalized_band = np.stack(normalized_acquisitions, axis=0)\n",
    "\n",
    "        # Define the output file path for the normalized band\n",
    "        output_path = os.path.join(output_folder, f'normalized_{os.path.basename(band)}.tif')\n",
    "\n",
    "        # Create a new GeoTIFF file with a custom profile and write the normalized data\n",
    "        profile = src.profile.copy()\n",
    "        profile.update(count=src.count, dtype='uint16')  # Set the count to the number of acquisitions\n",
    "        with rasterio.open(output_path, 'w', **profile) as dst:\n",
    "            dst.write(normalized_band)"
   ]
  },
  {
   "cell_type": "code",
   "execution_count": 4,
   "metadata": {},
   "outputs": [],
   "source": [
    "def get_min_max_band(band, output_folder):\n",
    "    with rasterio.open(band) as src:\n",
    "        print(f\"Start reading band {band}\")\n",
    "\n",
    "        # Read all acquisitions into a 3D NumPy array\n",
    "        data_array = src.read()\n",
    "\n",
    "        # Compute the min and max values over all acquisitions\n",
    "        min_val = np.percentile(data_array, 2)\n",
    "        max_val = np.percentile(data_array, 98)\n",
    "\n",
    "        print(\"Percentile calculated\")\n",
    "\n",
    "        print(f\"Min: {min_val}, Max: {max_val}, Mean: {np.mean(data_array)}\")\n",
    "        \n",
    "        # write min max value to file\n",
    "        output_path = os.path.join(output_folder, f'min_max_{os.path.basename(band)}.txt')\n",
    "        with open(output_path, 'w') as f:\n",
    "            f.write(f\"Min: {min_val}, Max: {max_val}, Mean: {np.mean(data_array)}\")\n",
    "\n",
    "        return min_val, max_val"
   ]
  },
  {
   "cell_type": "code",
   "execution_count": 9,
   "metadata": {},
   "outputs": [
    {
     "name": "stdout",
     "output_type": "stream",
     "text": [
      "Band 02\n",
      "Start reading band H:/General/ExaplAInability_Data/transfer_6060512_files_e989f8bb\\s2_2020_B02.tif\n",
      "Percentile calculated\n",
      "Min: 329.0, Max: 1625.0, Mean: 815.658307728609\n",
      "Band 03\n",
      "Start reading band H:/General/ExaplAInability_Data/transfer_6060512_files_e989f8bb\\s2_2020_B03.tif\n",
      "Percentile calculated\n",
      "Min: 593.0, Max: 2002.0, Mean: 1131.2171614467027\n",
      "Band 04\n",
      "Start reading band H:/General/ExaplAInability_Data/transfer_6060512_files_e989f8bb\\s2_2020_B04.tif\n",
      "Percentile calculated\n",
      "Min: 413.0, Max: 2524.0, Mean: 1320.227935609443\n",
      "Band 05\n",
      "Start reading band H:/General/ExaplAInability_Data/transfer_6060512_files_e989f8bb\\s2_2020_B05.tif\n",
      "Percentile calculated\n",
      "Min: 999.0, Max: 2908.0, Mean: 1798.481426406503\n",
      "Band 06\n",
      "Start reading band H:/General/ExaplAInability_Data/transfer_6060512_files_e989f8bb\\s2_2020_B06.tif\n",
      "Percentile calculated\n",
      "Min: 1624.0, Max: 3705.0, Mean: 2567.803318466189\n",
      "Band 07\n",
      "Start reading band H:/General/ExaplAInability_Data/transfer_6060512_files_e989f8bb\\s2_2020_B07.tif\n",
      "Percentile calculated\n",
      "Min: 1798.0, Max: 4212.0, Mean: 2872.9159352136116\n",
      "Band 08\n",
      "Start reading band H:/General/ExaplAInability_Data/transfer_6060512_files_e989f8bb\\s2_2020_B08.tif\n",
      "Percentile calculated\n",
      "Min: 1844.0, Max: 4138.0, Mean: 2910.675128028053\n",
      "Band 8A\n",
      "Start reading band H:/General/ExaplAInability_Data/transfer_6060512_files_e989f8bb\\s2_2020_B8A.tif\n",
      "Percentile calculated\n",
      "Min: 1983.0, Max: 4465.0, Mean: 3130.029127131955\n",
      "Band 11\n",
      "Start reading band H:/General/ExaplAInability_Data/transfer_6060512_files_e989f8bb\\s2_2020_B11.tif\n",
      "Percentile calculated\n",
      "Min: 1861.0, Max: 4835.0, Mean: 3267.9438208939805\n",
      "Band 12\n",
      "Start reading band H:/General/ExaplAInability_Data/transfer_6060512_files_e989f8bb\\s2_2020_B12.tif\n",
      "Percentile calculated\n",
      "Min: 957.0, Max: 3952.0, Mean: 2294.1763366964005\n"
     ]
    }
   ],
   "source": [
    "output_band_folder = os.path.join(folder, 'min_max_output')\n",
    "for band in list_bands:\n",
    "    print(f\"Band {band}\")\n",
    "    band_file = os.path.join(folder, 's2_2020_B' + band + '.tif')\n",
    "    get_min_max_band(band_file, output_band_folder)"
   ]
  },
  {
   "cell_type": "markdown",
   "metadata": {},
   "source": [
    "Create the output folder."
   ]
  },
  {
   "cell_type": "code",
   "execution_count": 9,
   "metadata": {},
   "outputs": [],
   "source": [
    "output_band_folder = os.path.join(folder, 'normalized_band_final_output')\n",
    "os.makedirs(output_band_folder, exist_ok=True)"
   ]
  },
  {
   "cell_type": "markdown",
   "metadata": {},
   "source": [
    "Now we normalize the data and save it in the output folder.  "
   ]
  },
  {
   "cell_type": "code",
   "execution_count": 11,
   "metadata": {},
   "outputs": [
    {
     "name": "stdout",
     "output_type": "stream",
     "text": [
      "Band 02\n",
      "Start reading band\n",
      "Percentile calculated\n",
      "Bande H:/General/ExaplAInability_Data/transfer_6060512_files_e989f8bb\\s2_2020_B02.tif - Acquisition 1/73\n",
      "Min: 329.0, Max: 1625.0, Mean: 24674.99314553335\n",
      "Bande H:/General/ExaplAInability_Data/transfer_6060512_files_e989f8bb\\s2_2020_B02.tif - Acquisition 2/73\n",
      "Min: 329.0, Max: 1625.0, Mean: 26838.710990553198\n",
      "Bande H:/General/ExaplAInability_Data/transfer_6060512_files_e989f8bb\\s2_2020_B02.tif - Acquisition 3/73\n",
      "Min: 329.0, Max: 1625.0, Mean: 26337.626332982185\n",
      "Bande H:/General/ExaplAInability_Data/transfer_6060512_files_e989f8bb\\s2_2020_B02.tif - Acquisition 4/73\n",
      "Min: 329.0, Max: 1625.0, Mean: 35316.613932336615\n",
      "Bande H:/General/ExaplAInability_Data/transfer_6060512_files_e989f8bb\\s2_2020_B02.tif - Acquisition 5/73\n",
      "Min: 329.0, Max: 1625.0, Mean: 31242.48091352189\n",
      "Bande H:/General/ExaplAInability_Data/transfer_6060512_files_e989f8bb\\s2_2020_B02.tif - Acquisition 6/73\n",
      "Min: 329.0, Max: 1625.0, Mean: 24329.924259366224\n",
      "Bande H:/General/ExaplAInability_Data/transfer_6060512_files_e989f8bb\\s2_2020_B02.tif - Acquisition 7/73\n",
      "Min: 329.0, Max: 1625.0, Mean: 24792.825203020373\n",
      "Bande H:/General/ExaplAInability_Data/transfer_6060512_files_e989f8bb\\s2_2020_B02.tif - Acquisition 8/73\n",
      "Min: 329.0, Max: 1625.0, Mean: 29784.354456923145\n",
      "Bande H:/General/ExaplAInability_Data/transfer_6060512_files_e989f8bb\\s2_2020_B02.tif - Acquisition 9/73\n",
      "Min: 329.0, Max: 1625.0, Mean: 35289.03534074115\n",
      "Bande H:/General/ExaplAInability_Data/transfer_6060512_files_e989f8bb\\s2_2020_B02.tif - Acquisition 10/73\n",
      "Min: 329.0, Max: 1625.0, Mean: 34523.74100199484\n",
      "Bande H:/General/ExaplAInability_Data/transfer_6060512_files_e989f8bb\\s2_2020_B02.tif - Acquisition 11/73\n",
      "Min: 329.0, Max: 1625.0, Mean: 28796.748591577085\n",
      "Bande H:/General/ExaplAInability_Data/transfer_6060512_files_e989f8bb\\s2_2020_B02.tif - Acquisition 12/73\n",
      "Min: 329.0, Max: 1625.0, Mean: 38490.230366417614\n",
      "Bande H:/General/ExaplAInability_Data/transfer_6060512_files_e989f8bb\\s2_2020_B02.tif - Acquisition 13/73\n",
      "Min: 329.0, Max: 1625.0, Mean: 45918.98994248998\n",
      "Bande H:/General/ExaplAInability_Data/transfer_6060512_files_e989f8bb\\s2_2020_B02.tif - Acquisition 14/73\n",
      "Min: 329.0, Max: 1625.0, Mean: 44313.8842489844\n",
      "Bande H:/General/ExaplAInability_Data/transfer_6060512_files_e989f8bb\\s2_2020_B02.tif - Acquisition 15/73\n",
      "Min: 329.0, Max: 1625.0, Mean: 42728.166425810676\n",
      "Bande H:/General/ExaplAInability_Data/transfer_6060512_files_e989f8bb\\s2_2020_B02.tif - Acquisition 16/73\n",
      "Min: 329.0, Max: 1625.0, Mean: 40236.11888723806\n",
      "Bande H:/General/ExaplAInability_Data/transfer_6060512_files_e989f8bb\\s2_2020_B02.tif - Acquisition 17/73\n",
      "Min: 329.0, Max: 1625.0, Mean: 37214.26652098025\n",
      "Bande H:/General/ExaplAInability_Data/transfer_6060512_files_e989f8bb\\s2_2020_B02.tif - Acquisition 18/73\n",
      "Min: 329.0, Max: 1625.0, Mean: 34934.7095777803\n",
      "Bande H:/General/ExaplAInability_Data/transfer_6060512_files_e989f8bb\\s2_2020_B02.tif - Acquisition 19/73\n",
      "Min: 329.0, Max: 1625.0, Mean: 30862.06910569714\n",
      "Bande H:/General/ExaplAInability_Data/transfer_6060512_files_e989f8bb\\s2_2020_B02.tif - Acquisition 20/73\n",
      "Min: 329.0, Max: 1625.0, Mean: 37606.60802033135\n",
      "Bande H:/General/ExaplAInability_Data/transfer_6060512_files_e989f8bb\\s2_2020_B02.tif - Acquisition 21/73\n",
      "Min: 329.0, Max: 1625.0, Mean: 43540.399480370106\n",
      "Bande H:/General/ExaplAInability_Data/transfer_6060512_files_e989f8bb\\s2_2020_B02.tif - Acquisition 22/73\n",
      "Min: 329.0, Max: 1625.0, Mean: 56717.55750944631\n",
      "Bande H:/General/ExaplAInability_Data/transfer_6060512_files_e989f8bb\\s2_2020_B02.tif - Acquisition 23/73\n",
      "Min: 329.0, Max: 1625.0, Mean: 47464.46927719133\n",
      "Bande H:/General/ExaplAInability_Data/transfer_6060512_files_e989f8bb\\s2_2020_B02.tif - Acquisition 24/73\n",
      "Min: 329.0, Max: 1625.0, Mean: 37821.562403704454\n",
      "Bande H:/General/ExaplAInability_Data/transfer_6060512_files_e989f8bb\\s2_2020_B02.tif - Acquisition 25/73\n",
      "Min: 329.0, Max: 1625.0, Mean: 29101.569191863204\n",
      "Bande H:/General/ExaplAInability_Data/transfer_6060512_files_e989f8bb\\s2_2020_B02.tif - Acquisition 26/73\n",
      "Min: 329.0, Max: 1625.0, Mean: 32210.60073266165\n",
      "Bande H:/General/ExaplAInability_Data/transfer_6060512_files_e989f8bb\\s2_2020_B02.tif - Acquisition 27/73\n",
      "Min: 329.0, Max: 1625.0, Mean: 26235.746440225696\n",
      "Bande H:/General/ExaplAInability_Data/transfer_6060512_files_e989f8bb\\s2_2020_B02.tif - Acquisition 28/73\n",
      "Min: 329.0, Max: 1625.0, Mean: 29347.987125708274\n",
      "Bande H:/General/ExaplAInability_Data/transfer_6060512_files_e989f8bb\\s2_2020_B02.tif - Acquisition 29/73\n",
      "Min: 329.0, Max: 1625.0, Mean: 24938.414836825927\n",
      "Bande H:/General/ExaplAInability_Data/transfer_6060512_files_e989f8bb\\s2_2020_B02.tif - Acquisition 30/73\n"
     ]
    },
    {
     "ename": "RasterioIOError",
     "evalue": "Read or write failed. H:/General/ExaplAInability_Data/transfer_6060512_files_e989f8bb/s2_2020_B02.tif, band 30: IReadBlock failed at X offset 0, Y offset 632: TIFFReadEncodedStrip() failed.",
     "output_type": "error",
     "traceback": [
      "\u001b[1;31m---------------------------------------------------------------------------\u001b[0m",
      "\u001b[1;31mCPLE_AppDefinedError\u001b[0m                      Traceback (most recent call last)",
      "File \u001b[1;32mrasterio\\\\_io.pyx:975\u001b[0m, in \u001b[0;36mrasterio._io.DatasetReaderBase._read\u001b[1;34m()\u001b[0m\n",
      "File \u001b[1;32mrasterio\\\\_io.pyx:213\u001b[0m, in \u001b[0;36mrasterio._io.io_multi_band\u001b[1;34m()\u001b[0m\n",
      "File \u001b[1;32mrasterio\\\\_err.pyx:195\u001b[0m, in \u001b[0;36mrasterio._err.exc_wrap_int\u001b[1;34m()\u001b[0m\n",
      "\u001b[1;31mCPLE_AppDefinedError\u001b[0m: H:/General/ExaplAInability_Data/transfer_6060512_files_e989f8bb/s2_2020_B02.tif, band 30: IReadBlock failed at X offset 0, Y offset 632: TIFFReadEncodedStrip() failed.",
      "\nDuring handling of the above exception, another exception occurred:\n",
      "\u001b[1;31mRasterioIOError\u001b[0m                           Traceback (most recent call last)",
      "\u001b[1;32mc:\\Users\\antoi\\OneDrive\\Documents\\Projet_P5A\\ExplAInability-P5A\\4_new_normalization.ipynb Cell 14\u001b[0m line \u001b[0;36m4\n\u001b[0;32m      <a href='vscode-notebook-cell:/c%3A/Users/antoi/OneDrive/Documents/Projet_P5A/ExplAInability-P5A/4_new_normalization.ipynb#X16sZmlsZQ%3D%3D?line=1'>2</a>\u001b[0m \u001b[39mprint\u001b[39m(\u001b[39mf\u001b[39m\u001b[39m\"\u001b[39m\u001b[39mBand \u001b[39m\u001b[39m{\u001b[39;00mband\u001b[39m}\u001b[39;00m\u001b[39m\"\u001b[39m)\n\u001b[0;32m      <a href='vscode-notebook-cell:/c%3A/Users/antoi/OneDrive/Documents/Projet_P5A/ExplAInability-P5A/4_new_normalization.ipynb#X16sZmlsZQ%3D%3D?line=2'>3</a>\u001b[0m band_file \u001b[39m=\u001b[39m os\u001b[39m.\u001b[39mpath\u001b[39m.\u001b[39mjoin(folder, \u001b[39m'\u001b[39m\u001b[39ms2_2020_B\u001b[39m\u001b[39m'\u001b[39m \u001b[39m+\u001b[39m band \u001b[39m+\u001b[39m \u001b[39m'\u001b[39m\u001b[39m.tif\u001b[39m\u001b[39m'\u001b[39m)\n\u001b[1;32m----> <a href='vscode-notebook-cell:/c%3A/Users/antoi/OneDrive/Documents/Projet_P5A/ExplAInability-P5A/4_new_normalization.ipynb#X16sZmlsZQ%3D%3D?line=3'>4</a>\u001b[0m normalize_and_save_band(band_file, output_band_folder)\n",
      "\u001b[1;32mc:\\Users\\antoi\\OneDrive\\Documents\\Projet_P5A\\ExplAInability-P5A\\4_new_normalization.ipynb Cell 14\u001b[0m line \u001b[0;36m1\n\u001b[0;32m     <a href='vscode-notebook-cell:/c%3A/Users/antoi/OneDrive/Documents/Projet_P5A/ExplAInability-P5A/4_new_normalization.ipynb#X16sZmlsZQ%3D%3D?line=14'>15</a>\u001b[0m \u001b[39mfor\u001b[39;00m acquisition \u001b[39min\u001b[39;00m \u001b[39mrange\u001b[39m(\u001b[39m1\u001b[39m, src\u001b[39m.\u001b[39mcount \u001b[39m+\u001b[39m \u001b[39m1\u001b[39m):\n\u001b[0;32m     <a href='vscode-notebook-cell:/c%3A/Users/antoi/OneDrive/Documents/Projet_P5A/ExplAInability-P5A/4_new_normalization.ipynb#X16sZmlsZQ%3D%3D?line=15'>16</a>\u001b[0m     \u001b[39mprint\u001b[39m(\u001b[39mf\u001b[39m\u001b[39m\"\u001b[39m\u001b[39mBande \u001b[39m\u001b[39m{\u001b[39;00mband\u001b[39m}\u001b[39;00m\u001b[39m - Acquisition \u001b[39m\u001b[39m{\u001b[39;00macquisition\u001b[39m}\u001b[39;00m\u001b[39m/\u001b[39m\u001b[39m{\u001b[39;00msrc\u001b[39m.\u001b[39mcount\u001b[39m}\u001b[39;00m\u001b[39m\"\u001b[39m)\n\u001b[1;32m---> <a href='vscode-notebook-cell:/c%3A/Users/antoi/OneDrive/Documents/Projet_P5A/ExplAInability-P5A/4_new_normalization.ipynb#X16sZmlsZQ%3D%3D?line=16'>17</a>\u001b[0m     data_array \u001b[39m=\u001b[39m src\u001b[39m.\u001b[39;49mread(acquisition)\n\u001b[0;32m     <a href='vscode-notebook-cell:/c%3A/Users/antoi/OneDrive/Documents/Projet_P5A/ExplAInability-P5A/4_new_normalization.ipynb#X16sZmlsZQ%3D%3D?line=18'>19</a>\u001b[0m     \u001b[39m# Normalize the acquisition and scale back to uint16\u001b[39;00m\n\u001b[0;32m     <a href='vscode-notebook-cell:/c%3A/Users/antoi/OneDrive/Documents/Projet_P5A/ExplAInability-P5A/4_new_normalization.ipynb#X16sZmlsZQ%3D%3D?line=19'>20</a>\u001b[0m     norm_band \u001b[39m=\u001b[39m np\u001b[39m.\u001b[39mclip((data_array \u001b[39m-\u001b[39m min_val) \u001b[39m/\u001b[39m (max_val \u001b[39m-\u001b[39m min_val), \u001b[39m0\u001b[39m, \u001b[39m1\u001b[39m) \u001b[39m*\u001b[39m \u001b[39m65535\u001b[39m\n",
      "File \u001b[1;32mrasterio\\\\_io.pyx:651\u001b[0m, in \u001b[0;36mrasterio._io.DatasetReaderBase.read\u001b[1;34m()\u001b[0m\n",
      "File \u001b[1;32mrasterio\\\\_io.pyx:978\u001b[0m, in \u001b[0;36mrasterio._io.DatasetReaderBase._read\u001b[1;34m()\u001b[0m\n",
      "\u001b[1;31mRasterioIOError\u001b[0m: Read or write failed. H:/General/ExaplAInability_Data/transfer_6060512_files_e989f8bb/s2_2020_B02.tif, band 30: IReadBlock failed at X offset 0, Y offset 632: TIFFReadEncodedStrip() failed."
     ]
    }
   ],
   "source": [
    "for band in list_bands:\n",
    "    print(f\"Band {band}\")\n",
    "    band_file = os.path.join(folder, 's2_2020_B' + band + '.tif')\n",
    "    normalize_and_save_band(band_file, output_band_folder)"
   ]
  },
  {
   "cell_type": "markdown",
   "metadata": {},
   "source": [
    "Once done, we have our normalized data in the output folder."
   ]
  }
 ],
 "metadata": {
  "kernelspec": {
   "display_name": "Python 3",
   "language": "python",
   "name": "python3"
  },
  "language_info": {
   "codemirror_mode": {
    "name": "ipython",
    "version": 3
   },
   "file_extension": ".py",
   "mimetype": "text/x-python",
   "name": "python",
   "nbconvert_exporter": "python",
   "pygments_lexer": "ipython3",
   "version": "3.12.0"
  }
 },
 "nbformat": 4,
 "nbformat_minor": 2
}
