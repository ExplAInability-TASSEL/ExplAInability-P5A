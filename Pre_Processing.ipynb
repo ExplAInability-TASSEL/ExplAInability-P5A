{
 "cells": [
  {
   "cell_type": "code",
   "execution_count": 2,
   "metadata": {},
   "outputs": [],
   "source": [
    "import rioxarray as rxr\n",
    "import os\n",
    "from rasterio.plot import show\n",
    "from PIL import Image\n",
    "import matplotlib.pyplot as plt\n",
    "import xarray as xr\n",
    "import rasterio\n",
    "import numpy as np\n",
    "import geopandas as gpd\n",
    "import rasterio as rio"
   ]
  },
  {
   "cell_type": "code",
   "execution_count": 38,
   "metadata": {},
   "outputs": [],
   "source": [
    "class_ID = \"data/transfer_5941271_files_87719365/class_ID_2020.tif\"\n",
    "segment_ID = \"data/transfer_5941271_files_87719365/segment_ID_2020.tif\"\n",
    "polygon_ID = \"data/transfer_5941271_files_87719365/polygon_ID.tif\"\n",
    "new_data = \"data/transfer_5943292_files_445176e1/s2_2020_B02.tif\""
   ]
  },
  {
   "cell_type": "code",
   "execution_count": 39,
   "metadata": {},
   "outputs": [],
   "source": [
    "def open_tif(file, infos=False):\n",
    "    with xr.open_rasterio(file) as ds:\n",
    "        if infos:\n",
    "            print(ds)\n",
    "            print(ds.rio.crs)\n",
    "            print(ds.rio.bounds())\n",
    "            print(ds.rio.resolution())\n",
    "            print(ds.rio.shape)\n",
    "            print(ds.rio.transform())\n",
    "            print(ds.rio.count)\n",
    "    o_file = rxr.open_rasterio(file)\n",
    "    return o_file\n",
    "\n",
    "def show_file(o_file):\n",
    "    display(o_file)\n",
    "    show(o_file.data)\n",
    "    return"
   ]
  },
  {
   "cell_type": "code",
   "execution_count": 40,
   "metadata": {},
   "outputs": [
    {
     "name": "stderr",
     "output_type": "stream",
     "text": [
      "C:\\Users\\antoi\\AppData\\Local\\Temp\\ipykernel_18868\\3002180342.py:2: DeprecationWarning: open_rasterio is Deprecated in favor of rioxarray. For information about transitioning, see: https://corteva.github.io/rioxarray/stable/getting_started/getting_started.html\n",
      "  with xr.open_rasterio(file) as ds:\n",
      "C:\\Users\\antoi\\AppData\\Local\\Temp\\ipykernel_18868\\3002180342.py:2: DeprecationWarning: open_rasterio is Deprecated in favor of rioxarray. For information about transitioning, see: https://corteva.github.io/rioxarray/stable/getting_started/getting_started.html\n",
      "  with xr.open_rasterio(file) as ds:\n",
      "C:\\Users\\antoi\\AppData\\Local\\Temp\\ipykernel_18868\\3002180342.py:2: DeprecationWarning: open_rasterio is Deprecated in favor of rioxarray. For information about transitioning, see: https://corteva.github.io/rioxarray/stable/getting_started/getting_started.html\n",
      "  with xr.open_rasterio(file) as ds:\n"
     ]
    }
   ],
   "source": [
    "class_ID_array = open_tif(class_ID)\n",
    "segment_ID_array = open_tif(segment_ID)\n",
    "polygon_ID_array = open_tif(polygon_ID)"
   ]
  },
  {
   "cell_type": "code",
   "execution_count": 41,
   "metadata": {},
   "outputs": [
    {
     "name": "stdout",
     "output_type": "stream",
     "text": [
      "(1, 4513, 5183)\n",
      "(1, 4513, 5183)\n",
      "(1, 4513, 5183)\n",
      "(4513, 5183)\n",
      "(4513, 5183)\n",
      "(4513, 5183)\n"
     ]
    }
   ],
   "source": [
    "# print a small part of the array\n",
    "print(class_ID_array.shape)\n",
    "print(polygon_ID_array.shape)\n",
    "print(segment_ID_array.shape)\n",
    "\n",
    "class_ID_array_full = class_ID_array.data[0]\n",
    "polygon_ID_array_full = polygon_ID_array.data[0]\n",
    "segment_ID_array_full = segment_ID_array.data[0]\n",
    "\n",
    "print(class_ID_array_full.shape)\n",
    "print(polygon_ID_array_full.shape)\n",
    "print(segment_ID_array_full.shape)"
   ]
  },
  {
   "cell_type": "code",
   "execution_count": 29,
   "metadata": {},
   "outputs": [
    {
     "name": "stdout",
     "output_type": "stream",
     "text": [
      "[[7 0 0 0 4 7 5 5 4 1]\n",
      " [3 0 7 7 0 4 1 1 7 3]\n",
      " [7 4 0 7 0 0 4 7 2 5]\n",
      " [4 7 2 5 2 3 0 7 6 4]\n",
      " [1 2 6 7 0 5 2 3 6 0]\n",
      " [1 0 6 3 7 6 3 5 5 4]\n",
      " [2 1 4 5 6 0 6 1 2 4]\n",
      " [5 4 1 6 1 5 6 0 6 0]\n",
      " [7 0 3 3 6 2 7 4 7 6]\n",
      " [7 1 5 1 7 2 1 7 5 7]]\n",
      "[[ 0.  0.  0. nan nan nan nan  1.  1.  1.]\n",
      " [ 0.  0.  0. nan nan nan nan  1.  1.  1.]\n",
      " [ 0.  0.  0. nan nan nan nan  1.  1.  1.]\n",
      " [nan nan nan nan nan nan nan nan nan nan]\n",
      " [nan nan nan  2.  2.  2.  2.  2. nan nan]\n",
      " [nan nan nan  2.  2.  2.  2.  2. nan nan]\n",
      " [nan nan nan  2.  2.  2.  2.  2. nan nan]\n",
      " [nan nan nan  2.  2.  2.  2.  2. nan nan]\n",
      " [nan nan nan nan nan nan nan nan nan nan]\n",
      " [nan nan nan nan nan nan nan nan nan nan]]\n",
      "[[ 0.  0.  7.  7. nan nan nan  2.  2. nan]\n",
      " [ 9.  8.  8.  8. nan nan nan nan nan  3.]\n",
      " [ 9.  1.  1. nan nan nan nan nan nan  3.]\n",
      " [nan nan nan nan nan nan nan nan nan nan]\n",
      " [nan 10. nan  4.  4.  4. 11. nan nan nan]\n",
      " [nan 10. nan  4. nan  5.  5. nan nan nan]\n",
      " [nan nan nan  6.  6. 12. nan nan nan nan]\n",
      " [nan nan nan nan nan 12. nan nan nan nan]\n",
      " [nan nan nan nan nan 12. nan nan nan nan]\n",
      " [nan nan nan nan nan nan nan nan nan nan]]\n",
      "(10, 10)\n",
      "(10, 10)\n",
      "(10, 10)\n"
     ]
    }
   ],
   "source": [
    "# create test arrays\n",
    "test_class_ID_array = np.random.randint(0, 8, (10, 10))\n",
    "# polygons should be a matrix with groups of pixels with the same ID other is Nan\n",
    "Nan = np.nan\n",
    "test_polygon_ID_array = [[0, 0, 0, Nan, Nan, Nan, Nan, 1, 1, 1],\n",
    "                   [0, 0, 0, Nan, Nan, Nan, Nan, 1, 1, 1],\n",
    "                   [0, 0, 0, Nan, Nan, Nan, Nan, 1, 1, 1],\n",
    "                   [Nan, Nan, Nan, Nan, Nan, Nan, Nan, Nan, Nan, Nan],\n",
    "                   [Nan, Nan, Nan, 2, 2, 2, 2, 2, Nan, Nan],\n",
    "                   [Nan, Nan, Nan, 2, 2, 2, 2, 2, Nan, Nan],\n",
    "                   [Nan, Nan, Nan, 2, 2, 2, 2, 2, Nan, Nan],\n",
    "                   [Nan, Nan, Nan, 2, 2, 2, 2, 2, Nan, Nan],\n",
    "                   [Nan, Nan, Nan, Nan, Nan, Nan, Nan, Nan, Nan, Nan],\n",
    "                   [Nan, Nan, Nan, Nan, Nan, Nan, Nan, Nan, Nan, Nan]]\n",
    "test_polygon_ID_array = np.array(test_polygon_ID_array)\n",
    "\n",
    "test_segment_ID_array = [[0, 0, 7, 7, Nan, Nan, Nan, 2, 2, Nan],\n",
    "                   [9, 8, 8, 8, Nan, Nan, Nan, Nan, Nan, 3],\n",
    "                   [9, 1, 1, Nan, Nan, Nan, Nan, Nan, Nan, 3],\n",
    "                   [Nan, Nan, Nan, Nan, Nan, Nan, Nan, Nan, Nan, Nan],\n",
    "                   [Nan, 10, Nan, 4, 4, 4, 11, Nan, Nan, Nan],\n",
    "                   [Nan, 10, Nan, 4, Nan, 5, 5, Nan, Nan, Nan],\n",
    "                   [Nan, Nan, Nan, 6, 6, 12, Nan, Nan, Nan, Nan],\n",
    "                   [Nan, Nan, Nan, Nan, Nan, 12, Nan, Nan, Nan, Nan],\n",
    "                   [Nan, Nan, Nan, Nan, Nan, 12, Nan, Nan, Nan, Nan],\n",
    "                   [Nan, Nan, Nan, Nan, Nan, Nan, Nan, Nan, Nan, Nan]]\n",
    "test_segment_ID_array = np.array(test_segment_ID_array)\n",
    "\n",
    "print(test_class_ID_array)\n",
    "print(test_polygon_ID_array)\n",
    "print(test_segment_ID_array)\n",
    "# show shape\n",
    "print(test_class_ID_array.shape)\n",
    "print(test_polygon_ID_array.shape)\n",
    "print(test_segment_ID_array.shape)"
   ]
  },
  {
   "cell_type": "code",
   "execution_count": 35,
   "metadata": {},
   "outputs": [
    {
     "name": "stdout",
     "output_type": "stream",
     "text": [
      "Segment ID: 0.0, Polygon ID: 0.0, Pixels: [[0, 0], [0, 1]]\n",
      "Segment ID: 1.0, Polygon ID: 0.0, Pixels: [[2, 1], [2, 2]]\n",
      "Segment ID: 9.0, Polygon ID: 0.0, Pixels: [[1, 0], [2, 0]]\n",
      "Segment ID: 2.0, Polygon ID: 1.0, Pixels: [[0, 7], [0, 8]]\n",
      "Segment ID: 3.0, Polygon ID: 1.0, Pixels: [[1, 9], [2, 9]]\n",
      "Segment ID: 4.0, Polygon ID: 2.0, Pixels: [[4, 3], [4, 4], [4, 5], [5, 3]]\n",
      "Segment ID: 5.0, Polygon ID: 2.0, Pixels: [[5, 5], [5, 6]]\n",
      "Segment ID: 6.0, Polygon ID: 2.0, Pixels: [[6, 3], [6, 4]]\n",
      "Segment ID: 11.0, Polygon ID: 2.0, Pixels: [[4, 6]]\n"
     ]
    }
   ],
   "source": [
    "import numpy as np\n",
    "\n",
    "def find_fully_contained_segments(segment_ID_array, polygon_ID_array):\n",
    "    # Convert the input arrays to NumPy arrays\n",
    "    segment_ID_array = np.array(segment_ID_array)\n",
    "    polygon_ID_array = np.array(polygon_ID_array)\n",
    "\n",
    "    # Get the unique segment IDs and unique polygon IDs\n",
    "    unique_segment_ids = np.unique(segment_ID_array)\n",
    "    unique_polygon_ids = np.unique(polygon_ID_array)\n",
    "\n",
    "    # Create a mask for valid segments (non-NaN)\n",
    "    valid_segments = ~np.isnan(unique_segment_ids)\n",
    "\n",
    "    # Initialize a dictionary to store fully contained segments\n",
    "    fully_contained_segments = {}\n",
    "\n",
    "    # Iterate through each valid segment\n",
    "    for segment_ID in unique_segment_ids[valid_segments]:\n",
    "        # Create a mask for pixels where the segment ID matches\n",
    "        segment_mask = (segment_ID_array == segment_ID)\n",
    "\n",
    "        # Check if the segment is fully contained within any polygon\n",
    "        fully_contained = np.all(polygon_ID_array[segment_mask] == polygon_ID_array[segment_mask][0])\n",
    "\n",
    "        if fully_contained:\n",
    "            # Store the segment ID and its corresponding polygon ID\n",
    "            polygon_ID = polygon_ID_array[segment_mask][0]\n",
    "\n",
    "            if polygon_ID not in fully_contained_segments:\n",
    "                fully_contained_segments[polygon_ID] = []\n",
    "\n",
    "            fully_contained_segments[polygon_ID].append([segment_ID, np.argwhere(segment_mask).tolist()])\n",
    "\n",
    "    return fully_contained_segments\n",
    "\n",
    "# Use the function to find fully contained segments\n",
    "fully_contained_segments = find_fully_contained_segments(test_segment_ID_array, test_polygon_ID_array)\n",
    "\n",
    "# Print the fully contained segments\n",
    "for polygon_ID, segments in fully_contained_segments.items():\n",
    "    for segment in segments:\n",
    "        print(f\"Segment ID: {segment[0]}, Polygon ID: {polygon_ID}, Pixels: {segment[1]}\")\n",
    "        \n"
   ]
  },
  {
   "cell_type": "code",
   "execution_count": 34,
   "metadata": {},
   "outputs": [],
   "source": [
    "# put fully contained segments into a file\n",
    "file_name = \"data/transfer_5943292_files_445176e1/fully_contained_segments.txt\"\n",
    "with open(file_name, 'w') as f:\n",
    "    for polygon_ID, segments in fully_contained_segments.items():\n",
    "        for segment in segments:\n",
    "            f.write(f\"Segment ID: {segment[0]}, Polygon ID: {polygon_ID}, Pixels: {segment[1]}\\n\")"
   ]
  },
  {
   "cell_type": "code",
   "execution_count": null,
   "metadata": {},
   "outputs": [],
   "source": [
    "print()"
   ]
  }
 ],
 "metadata": {
  "kernelspec": {
   "display_name": "Python 3",
   "language": "python",
   "name": "python3"
  },
  "language_info": {
   "codemirror_mode": {
    "name": "ipython",
    "version": 3
   },
   "file_extension": ".py",
   "mimetype": "text/x-python",
   "name": "python",
   "nbconvert_exporter": "python",
   "pygments_lexer": "ipython3",
   "version": "3.8.7"
  },
  "orig_nbformat": 4
 },
 "nbformat": 4,
 "nbformat_minor": 2
}
