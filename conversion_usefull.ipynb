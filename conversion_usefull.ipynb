{
 "cells": [
  {
   "cell_type": "code",
   "execution_count": 1,
   "metadata": {},
   "outputs": [],
   "source": [
    "import rioxarray as rxr\n",
    "import os\n",
    "from rasterio.plot import show\n",
    "from PIL import Image\n",
    "import matplotlib.pyplot as plt\n",
    "import xarray as xr\n",
    "import numpy as np\n",
    "import matplotlib.pyplot as plt\n",
    "import rasterio\n",
    "import geopandas as gpd\n",
    "import rasterio.features\n",
    "from shapely.geometry import shape\n",
    "import pandas as pd\n",
    "import time"
   ]
  },
  {
   "cell_type": "code",
   "execution_count": 2,
   "metadata": {},
   "outputs": [],
   "source": [
    "# retreive some infos on fully contained segments\n",
    "contained_file_50 = 'data/contained_segments_50.txt'\n",
    "contained_file_0001 = 'data/contained_segments_0001.txt'\n",
    "contained_file_100 = 'data/contained_segments_100.txt'"
   ]
  },
  {
   "cell_type": "code",
   "execution_count": 3,
   "metadata": {},
   "outputs": [],
   "source": [
    "folder = \"D:/General/ExaplAInability_Data/transfer_6060512_files_e989f8bb/normalized_output\"\n",
    "\n",
    "list_bands = ['02', '03', '04', '05', '06', '07', '08', '8A', '11', '12']"
   ]
  },
  {
   "cell_type": "markdown",
   "metadata": {},
   "source": [
    "Perform 7310"
   ]
  },
  {
   "cell_type": "markdown",
   "metadata": {},
   "source": [
    "- Satellite raster data (Sentinel 2)\n",
    "\t- 10 spectral bands, one per file (s2_2020_B02.tif, s2_2020_B03.tif, etc...)\n",
    "\t- Each file s2_2020_BXX.tif: contains an array of size (73, 4513, 5183)=(nb. dates, height, width)."
   ]
  },
  {
   "cell_type": "code",
   "execution_count": 9,
   "metadata": {},
   "outputs": [],
   "source": [
    "start = 1 # always 1\n",
    "acquisition = 73 # 73\n",
    "def get_7310(folder, pixel):\n",
    "    x = pixel[0]\n",
    "    y = pixel[1]\n",
    "    pixel_7310 = []\n",
    "    for band in list_bands:\n",
    "        #print(band)\n",
    "        for period in range(start, acquisition+1):\n",
    "            #print(period)\n",
    "            band_file = 's2_2020_B' + band + '.tif'\n",
    "            acquisition_file = os.path.join(folder, f'normalized_{band_file}_Acquisition_{period}.tif')\n",
    "            with rasterio.open(acquisition_file) as src:\n",
    "                value = src.read(1)[x, y]\n",
    "            pixel_7310.append(value)\n",
    "\n",
    "    return '[' + ','.join(map(str, pixel_7310)) + ']'"
   ]
  },
  {
   "cell_type": "code",
   "execution_count": 10,
   "metadata": {},
   "outputs": [
    {
     "name": "stdout",
     "output_type": "stream",
     "text": [
      "Time taken: 9.843824625015259 seconds\n"
     ]
    }
   ],
   "source": [
    "# test the function for a pixel\n",
    "pixel = [100, 100]\n",
    "# compute the time taken\n",
    "start_time = time.time()\n",
    "pixel_7310 = get_7310(folder, pixel)\n",
    "end_time = time.time()\n",
    "print(f\"Time taken: {end_time - start_time} seconds\")"
   ]
  },
  {
   "cell_type": "code",
   "execution_count": null,
   "metadata": {},
   "outputs": [
    {
     "name": "stdout",
     "output_type": "stream",
     "text": [
      "Elapsed time: 805.9083890914917\n"
     ]
    }
   ],
   "source": [
    "# take random pixels\n",
    "number_of_pixels = 2\n",
    "pixels = []\n",
    "for i in range(number_of_pixels = 2):\n",
    "    x = np.random.randint(0, 3000)\n",
    "    y = np.random.randint(0, 3000)\n",
    "    pixels.append([x, y])\n",
    "\n",
    "start_time = time.time()\n",
    "# get the 7310 values for each pixel\n",
    "pixels_7310 = []\n",
    "for pixel in pixels:\n",
    "    pixels_7310.append(get_7310(folder, pixel))\n",
    "end_time = time.time()\n",
    "print(f'Elapsed time for {number_of_pixels} pixels: {end_time - start_time} seconds')"
   ]
  },
  {
   "cell_type": "code",
   "execution_count": null,
   "metadata": {},
   "outputs": [
    {
     "name": "stdout",
     "output_type": "stream",
     "text": [
      "[0.5287162,0.40724948]\n"
     ]
    }
   ],
   "source": [
    "# show type of pixel_7310\n",
    "print((pixel_7310))"
   ]
  },
  {
   "cell_type": "markdown",
   "metadata": {},
   "source": [
    "Iterate through each pixel of each segment, and for each pixel, perform 7310 conversion."
   ]
  },
  {
   "cell_type": "code",
   "execution_count": null,
   "metadata": {},
   "outputs": [],
   "source": [
    "def load_data_from_file(contained_file):\n",
    "    # load the data\n",
    "    with open(contained_file) as f:\n",
    "        lines = f.readlines()\n",
    "        # reteive line infos\n",
    "        segment_id = []\n",
    "        polygon_id = []\n",
    "        class_id = []\n",
    "        pixels = []\n",
    "        for line in lines:\n",
    "            # retrieve segment id\n",
    "            segment_id.append(line.split(',')[0].split(':')[1].strip())\n",
    "            # retrieve polygon id\n",
    "            polygon_id.append(line.split(',')[1].split(':')[1].strip())\n",
    "            # retrieve class id\n",
    "            class_id.append(line.split(',')[2].split(':')[1].strip())\n",
    "            # retrieve pixels\n",
    "            pixel_list_str = line.split(':')[4]\n",
    "            pixel_list_str = pixel_list_str[3:-3]\n",
    "            pixel_list = list(pixel_list_str.split('], ['))\n",
    "            pixel_list = [pixel.split(', ') for pixel in pixel_list]\n",
    "            pixel_list = [[int(pixel[0]), int(pixel[1])] for pixel in pixel_list]\n",
    "            pixels.append(pixel_list)\n",
    "        \n",
    "        # create a dataframe\n",
    "        df = pd.DataFrame()\n",
    "        df['segment_id'] = segment_id\n",
    "        df['polygon_id'] = polygon_id\n",
    "        df['class_id'] = class_id\n",
    "        df['pixels'] = pixels\n",
    "        \n",
    "        return df"
   ]
  },
  {
   "cell_type": "code",
   "execution_count": null,
   "metadata": {},
   "outputs": [],
   "source": [
    "# retreive some infos on fully contained segments\n",
    "contained_file_50 = 'data/contained_segments_50.txt'\n",
    "contained_file_0001 = 'data/contained_segments_0001.txt'\n",
    "contained_file_100 = 'data/contained_segments_100.txt'"
   ]
  },
  {
   "cell_type": "code",
   "execution_count": null,
   "metadata": {},
   "outputs": [],
   "source": [
    "dataframe_segment = load_data_from_file(contained_file_50)"
   ]
  },
  {
   "cell_type": "code",
   "execution_count": null,
   "metadata": {},
   "outputs": [
    {
     "name": "stdout",
     "output_type": "stream",
     "text": [
      "16.178727841501566\n",
      "16\n"
     ]
    }
   ],
   "source": [
    "# show mean number of pixels per segment\n",
    "mean_pixels = np.mean([len(pixels) for pixels in dataframe_segment['pixels']])\n",
    "print(mean_pixels)\n",
    "\n",
    "# show for polygon 0 first segment number of pixels\n",
    "print(len(dataframe_segment['pixels'][0]))"
   ]
  },
  {
   "cell_type": "code",
   "execution_count": null,
   "metadata": {},
   "outputs": [],
   "source": [
    "import csv\n",
    "\n",
    "# group by polygon ID\n",
    "grouped = dataframe_segment.groupby('polygon_id')\n",
    "folder_end = \"D:/General/ExaplAInability_Data/transfer_6060512_files_e989f8bb/processed_Data\"\n",
    "iterations = len(grouped)\n",
    "\n",
    "# for each polygon, create a file from 'folder' path named after the polygon class\n",
    "for name, group in grouped:\n",
    "    # show iteration\n",
    "    print(f\"iteration {name} / {iterations}\")\n",
    "    class_id = group['class_id'].iloc[0]\n",
    "    file_path = os.path.join(folder_end, f'{int(float(class_id))}_{int(float(name))}.txt')\n",
    "\n",
    "    # the polygon file contains as rows as segments contain in the polygon\n",
    "    # each row is a list of the 7310 values of each pixels of the segments\n",
    "    with open(file_path, 'w', newline='\\n') as f:\n",
    "        for index, row in group.iterrows():\n",
    "            pixel_rows = []\n",
    "            for pixel in row['pixels']:\n",
    "                pixel_7310 = get_7310(folder, pixel)\n",
    "                pixel_rows.append((pixel_7310))\n",
    "            f.write(''.join(pixel_rows) + '\\n')\n"
   ]
  }
 ],
 "metadata": {
  "kernelspec": {
   "display_name": "Python 3",
   "language": "python",
   "name": "python3"
  },
  "language_info": {
   "codemirror_mode": {
    "name": "ipython",
    "version": 3
   },
   "file_extension": ".py",
   "mimetype": "text/x-python",
   "name": "python",
   "nbconvert_exporter": "python",
   "pygments_lexer": "ipython3",
   "version": "3.8.7"
  }
 },
 "nbformat": 4,
 "nbformat_minor": 2
}
