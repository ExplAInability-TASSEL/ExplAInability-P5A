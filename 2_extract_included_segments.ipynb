{
 "cells": [
  {
   "cell_type": "markdown",
   "metadata": {},
   "source": [
    "In this notebook, we are going to extract the segments included in polygons based on a percentage of included pixels.  "
   ]
  },
  {
   "cell_type": "markdown",
   "metadata": {},
   "source": [
    "***Import necessary libraries***"
   ]
  },
  {
   "cell_type": "code",
   "execution_count": 1,
   "metadata": {},
   "outputs": [],
   "source": [
    "import rioxarray as rxr\n",
    "from rasterio.plot import show\n",
    "import xarray as xr\n",
    "import rasterio\n",
    "import numpy as np\n",
    "import rasterio as rio"
   ]
  },
  {
   "cell_type": "code",
   "execution_count": 12,
   "metadata": {},
   "outputs": [
    {
     "name": "stdout",
     "output_type": "stream",
     "text": [
      "Looking in indexes: https://pypi.org/simple, https://pypi.apple.com/simple\n",
      "Requirement already satisfied: xarray in /Users/thibaultgillard/miniconda3/envs/tensorflow/lib/python3.10/site-packages (2023.11.0)\n",
      "Requirement already satisfied: numpy>=1.22 in /Users/thibaultgillard/miniconda3/envs/tensorflow/lib/python3.10/site-packages (from xarray) (1.26.0)\n",
      "Requirement already satisfied: packaging>=21.3 in /Users/thibaultgillard/miniconda3/envs/tensorflow/lib/python3.10/site-packages (from xarray) (23.2)\n",
      "Requirement already satisfied: pandas>=1.4 in /Users/thibaultgillard/miniconda3/envs/tensorflow/lib/python3.10/site-packages (from xarray) (2.1.3)\n",
      "Requirement already satisfied: python-dateutil>=2.8.2 in /Users/thibaultgillard/miniconda3/envs/tensorflow/lib/python3.10/site-packages (from pandas>=1.4->xarray) (2.8.2)\n",
      "Requirement already satisfied: pytz>=2020.1 in /Users/thibaultgillard/miniconda3/envs/tensorflow/lib/python3.10/site-packages (from pandas>=1.4->xarray) (2023.3.post1)\n",
      "Requirement already satisfied: tzdata>=2022.1 in /Users/thibaultgillard/miniconda3/envs/tensorflow/lib/python3.10/site-packages (from pandas>=1.4->xarray) (2023.3)\n",
      "Requirement already satisfied: six>=1.5 in /Users/thibaultgillard/miniconda3/envs/tensorflow/lib/python3.10/site-packages (from python-dateutil>=2.8.2->pandas>=1.4->xarray) (1.16.0)\n",
      "Note: you may need to restart the kernel to use updated packages.\n"
     ]
    }
   ],
   "source": [
    "pip install xarray"
   ]
  },
  {
   "cell_type": "markdown",
   "metadata": {},
   "source": [
    "Lets create the files variables"
   ]
  },
  {
   "cell_type": "code",
   "execution_count": 2,
   "metadata": {},
   "outputs": [],
   "source": [
    "class_ID =   \"D:/General/ExaplAInability_Data/transfer_6060512_files_e989f8bb/class_segment_polygon/class_ID_2020.tif\"\n",
    "segment_ID = 'D:/General/ExaplAInability_Data/transfer_6060512_files_e989f8bb/class_segment_polygon/segment_ID_2020.tif'\n",
    "polygon_ID = 'D:/General/ExaplAInability_Data/transfer_6060512_files_e989f8bb/class_segment_polygon/polygon_ID.tif'"
   ]
  },
  {
   "cell_type": "markdown",
   "metadata": {},
   "source": [
    "# Import the files"
   ]
  },
  {
   "cell_type": "markdown",
   "metadata": {},
   "source": [
    "First lets create some usefull functions."
   ]
  },
  {
   "cell_type": "code",
   "execution_count": 3,
   "metadata": {},
   "outputs": [],
   "source": [
    "def open_tif(file, infos=False):\n",
    "    with rxr.open_rasterio(file) as ds:\n",
    "        if infos:\n",
    "            print(ds)\n",
    "            print(ds.rio.crs)\n",
    "            print(ds.rio.bounds())\n",
    "            print(ds.rio.resolution())\n",
    "            print(ds.rio.shape)\n",
    "            print(ds.rio.transform())\n",
    "            print(ds.rio.count)\n",
    "    o_file = rxr.open_rasterio(file)\n",
    "    return o_file\n",
    "\n",
    "def show_file(o_file):\n",
    "    display(o_file)\n",
    "    show(o_file.data)\n",
    "    return"
   ]
  },
  {
   "cell_type": "markdown",
   "metadata": {},
   "source": [
    "Lets load the files we need."
   ]
  },
  {
   "cell_type": "code",
   "execution_count": 10,
   "metadata": {},
   "outputs": [
    {
     "name": "stderr",
     "output_type": "stream",
     "text": [
      "C:\\Users\\antoi\\AppData\\Local\\Temp\\ipykernel_20364\\3002180342.py:2: DeprecationWarning: open_rasterio is Deprecated in favor of rioxarray. For information about transitioning, see: https://corteva.github.io/rioxarray/stable/getting_started/getting_started.html\n",
      "  with xr.open_rasterio(file) as ds:\n",
      "C:\\Users\\antoi\\AppData\\Local\\Temp\\ipykernel_20364\\3002180342.py:2: DeprecationWarning: open_rasterio is Deprecated in favor of rioxarray. For information about transitioning, see: https://corteva.github.io/rioxarray/stable/getting_started/getting_started.html\n",
      "  with xr.open_rasterio(file) as ds:\n",
      "C:\\Users\\antoi\\AppData\\Local\\Temp\\ipykernel_20364\\3002180342.py:2: DeprecationWarning: open_rasterio is Deprecated in favor of rioxarray. For information about transitioning, see: https://corteva.github.io/rioxarray/stable/getting_started/getting_started.html\n",
      "  with xr.open_rasterio(file) as ds:\n"
     ]
    }
   ],
   "source": [
    "class_ID_array = open_tif(class_ID)\n",
    "segment_ID_array = open_tif(segment_ID)\n",
    "polygon_ID_array = open_tif(polygon_ID)"
   ]
  },
  {
   "cell_type": "markdown",
   "metadata": {},
   "source": [
    "Lets make sure all the shapes are the same."
   ]
  },
  {
   "cell_type": "code",
   "execution_count": 4,
   "metadata": {},
   "outputs": [
    {
     "ename": "NameError",
     "evalue": "name 'class_ID_array' is not defined",
     "output_type": "error",
     "traceback": [
      "\u001b[0;31m---------------------------------------------------------------------------\u001b[0m",
      "\u001b[0;31mNameError\u001b[0m                                 Traceback (most recent call last)",
      "\u001b[1;32m/Users/thibaultgillard/Documents/EPF/git/ExplAInability-P5A/2_extract_included_segments.ipynb Cell 13\u001b[0m line \u001b[0;36m2\n\u001b[1;32m      <a href='vscode-notebook-cell:/Users/thibaultgillard/Documents/EPF/git/ExplAInability-P5A/2_extract_included_segments.ipynb#X15sZmlsZQ%3D%3D?line=0'>1</a>\u001b[0m \u001b[39m# print a small part of the array\u001b[39;00m\n\u001b[0;32m----> <a href='vscode-notebook-cell:/Users/thibaultgillard/Documents/EPF/git/ExplAInability-P5A/2_extract_included_segments.ipynb#X15sZmlsZQ%3D%3D?line=1'>2</a>\u001b[0m \u001b[39mprint\u001b[39m(class_ID_array\u001b[39m.\u001b[39mshape)\n\u001b[1;32m      <a href='vscode-notebook-cell:/Users/thibaultgillard/Documents/EPF/git/ExplAInability-P5A/2_extract_included_segments.ipynb#X15sZmlsZQ%3D%3D?line=2'>3</a>\u001b[0m \u001b[39mprint\u001b[39m(polygon_ID_array\u001b[39m.\u001b[39mshape)\n\u001b[1;32m      <a href='vscode-notebook-cell:/Users/thibaultgillard/Documents/EPF/git/ExplAInability-P5A/2_extract_included_segments.ipynb#X15sZmlsZQ%3D%3D?line=3'>4</a>\u001b[0m \u001b[39mprint\u001b[39m(segment_ID_array\u001b[39m.\u001b[39mshape)\n",
      "\u001b[0;31mNameError\u001b[0m: name 'class_ID_array' is not defined"
     ]
    }
   ],
   "source": [
    "# print a small part of the array\n",
    "print(class_ID_array.shape)\n",
    "print(polygon_ID_array.shape)\n",
    "print(segment_ID_array.shape)\n",
    "\n",
    "class_ID_array_full = class_ID_array.data[0]\n",
    "polygon_ID_array_full = polygon_ID_array.data[0]\n",
    "segment_ID_array_full = segment_ID_array.data[0]\n",
    "\n",
    "print(class_ID_array_full.shape)\n",
    "print(polygon_ID_array_full.shape)\n",
    "print(segment_ID_array_full.shape)\n",
    "\n",
    "# show number of unique values\n",
    "unique_class_ID = np.unique(class_ID_array_full)\n",
    "unique_polygon_ID = np.unique(polygon_ID_array_full)\n",
    "unique_segment_ID = np.unique(segment_ID_array_full)\n",
    "\n",
    "print(\"Number of unique values in class_ID_array_full:\", len(unique_class_ID))\n",
    "print(\"Number of unique values in polygon_ID_array_full:\", len(unique_polygon_ID))\n",
    "print(\"Number of unique values in segment_ID_array_full:\", len(unique_segment_ID))"
   ]
  },
  {
   "cell_type": "markdown",
   "metadata": {},
   "source": [
    "# Create test data"
   ]
  },
  {
   "cell_type": "markdown",
   "metadata": {},
   "source": [
    "Skip this part to go to the results.  \n",
    "Here we are creating some test data to test the function.  \n",
    "The data follows the same structure as the real data."
   ]
  },
  {
   "cell_type": "code",
   "execution_count": 5,
   "metadata": {},
   "outputs": [
    {
     "name": "stdout",
     "output_type": "stream",
     "text": [
      "[[3 7 3 6 2 2 2 0 2 2]\n",
      " [0 3 4 2 7 5 2 3 6 3]\n",
      " [7 5 4 6 4 2 0 3 7 5]\n",
      " [5 3 6 0 2 4 1 2 7 7]\n",
      " [1 4 3 4 6 1 0 7 3 1]\n",
      " [5 1 1 6 5 7 7 1 3 3]\n",
      " [2 1 3 2 1 2 3 2 2 4]\n",
      " [1 4 4 3 7 7 7 5 4 6]\n",
      " [4 2 6 2 4 6 4 4 7 4]\n",
      " [1 1 7 3 7 6 1 2 7 5]]\n",
      "[[ 0.  0.  0. nan nan nan nan  1.  1.  1.]\n",
      " [ 0.  0.  0. nan nan nan nan  1.  1.  1.]\n",
      " [ 0.  0.  0. nan nan nan nan  1.  1.  1.]\n",
      " [nan nan nan nan nan nan nan nan nan nan]\n",
      " [nan nan nan  2.  2.  2.  2.  2. nan nan]\n",
      " [nan nan nan  2.  2.  2.  2.  2. nan nan]\n",
      " [nan nan nan  2.  2.  2.  2.  2. nan nan]\n",
      " [nan nan nan  2.  2.  2.  2.  2. nan nan]\n",
      " [nan nan nan nan nan nan nan nan nan nan]\n",
      " [nan nan nan nan nan nan nan nan nan nan]]\n",
      "[[14. 14.  7.  7.  0.  0.  0.  2.  2.  0.]\n",
      " [ 9.  8.  8.  8.  0.  0.  0.  0.  0.  3.]\n",
      " [ 9.  1.  1.  0.  0.  0.  0.  0.  0.  3.]\n",
      " [ 0.  0.  0.  0.  0.  0.  0.  0.  0.  0.]\n",
      " [ 0. 10.  0.  4.  4.  4. 11.  0.  0.  0.]\n",
      " [ 0. 10.  0.  4.  0.  5.  5.  0.  0.  0.]\n",
      " [ 0.  0.  0.  6.  6. 12.  0.  0.  0.  0.]\n",
      " [ 0.  0.  0.  0.  0. 12.  0.  0.  0.  0.]\n",
      " [ 0.  0.  0.  0.  0. 12.  0.  0.  0.  0.]\n",
      " [ 0.  0.  0.  0.  0.  0.  0.  0.  0.  0.]]\n",
      "(10, 10)\n",
      "(10, 10)\n",
      "(10, 10)\n"
     ]
    }
   ],
   "source": [
    "# create test arrays\n",
    "test_class_ID_array = np.random.randint(0, 8, (10, 10))\n",
    "# polygons should be a matrix with groups of pixels with the same ID other is Nan\n",
    "Nan = np.nan\n",
    "test_polygon_ID_array = [[0, 0, 0, Nan, Nan, Nan, Nan, 1, 1, 1],\n",
    "                   [0, 0, 0, Nan, Nan, Nan, Nan, 1, 1, 1],\n",
    "                   [0, 0, 0, Nan, Nan, Nan, Nan, 1, 1, 1],\n",
    "                   [Nan, Nan, Nan, Nan, Nan, Nan, Nan, Nan, Nan, Nan],\n",
    "                   [Nan, Nan, Nan, 2, 2, 2, 2, 2, Nan, Nan],\n",
    "                   [Nan, Nan, Nan, 2, 2, 2, 2, 2, Nan, Nan],\n",
    "                   [Nan, Nan, Nan, 2, 2, 2, 2, 2, Nan, Nan],\n",
    "                   [Nan, Nan, Nan, 2, 2, 2, 2, 2, Nan, Nan],\n",
    "                   [Nan, Nan, Nan, Nan, Nan, Nan, Nan, Nan, Nan, Nan],\n",
    "                   [Nan, Nan, Nan, Nan, Nan, Nan, Nan, Nan, Nan, Nan]]\n",
    "test_polygon_ID_array = np.array(test_polygon_ID_array)\n",
    "\n",
    "test_segment_ID_array = [[14, 14, 7, 7, Nan, Nan, Nan, 2, 2, Nan],\n",
    "                   [9, 8, 8, 8, Nan, Nan, Nan, Nan, Nan, 3],\n",
    "                   [9, 1, 1, Nan, Nan, Nan, Nan, Nan, Nan, 3],\n",
    "                   [Nan, Nan, Nan, Nan, Nan, Nan, Nan, Nan, Nan, Nan],\n",
    "                   [Nan, 10, Nan, 4, 4, 4, 11, Nan, Nan, Nan],\n",
    "                   [Nan, 10, Nan, 4, Nan, 5, 5, Nan, Nan, Nan],\n",
    "                   [Nan, Nan, Nan, 6, 6, 12, Nan, Nan, Nan, Nan],\n",
    "                   [Nan, Nan, Nan, Nan, Nan, 12, Nan, Nan, Nan, Nan],\n",
    "                   [Nan, Nan, Nan, Nan, Nan, 12, Nan, Nan, Nan, Nan],\n",
    "                   [Nan, Nan, Nan, Nan, Nan, Nan, Nan, Nan, Nan, Nan]]\n",
    "test_segment_ID_array = np.array(test_segment_ID_array)\n",
    "\n",
    "# fill segment_ID nan values with 0\n",
    "test_segment_ID_array = np.nan_to_num(test_segment_ID_array, nan=0)\n",
    "\n",
    "print(test_class_ID_array)\n",
    "print(test_polygon_ID_array)\n",
    "print(test_segment_ID_array)\n",
    "# show shape\n",
    "print(test_class_ID_array.shape)\n",
    "print(test_polygon_ID_array.shape)\n",
    "print(test_segment_ID_array.shape)\n"
   ]
  },
  {
   "cell_type": "markdown",
   "metadata": {},
   "source": [
    "Show and analyze the test data."
   ]
  },
  {
   "cell_type": "code",
   "execution_count": 6,
   "metadata": {},
   "outputs": [
    {
     "name": "stdout",
     "output_type": "stream",
     "text": [
      "(10, 10)\n"
     ]
    },
    {
     "ename": "NameError",
     "evalue": "name 'class_ID_array_full' is not defined",
     "output_type": "error",
     "traceback": [
      "\u001b[0;31m---------------------------------------------------------------------------\u001b[0m",
      "\u001b[0;31mNameError\u001b[0m                                 Traceback (most recent call last)",
      "\u001b[1;32m/Users/thibaultgillard/Documents/EPF/git/ExplAInability-P5A/2_extract_included_segments.ipynb Cell 18\u001b[0m line \u001b[0;36m2\n\u001b[1;32m      <a href='vscode-notebook-cell:/Users/thibaultgillard/Documents/EPF/git/ExplAInability-P5A/2_extract_included_segments.ipynb#X23sZmlsZQ%3D%3D?line=0'>1</a>\u001b[0m \u001b[39mprint\u001b[39m(test_class_ID_array\u001b[39m.\u001b[39mshape)\n\u001b[0;32m----> <a href='vscode-notebook-cell:/Users/thibaultgillard/Documents/EPF/git/ExplAInability-P5A/2_extract_included_segments.ipynb#X23sZmlsZQ%3D%3D?line=1'>2</a>\u001b[0m \u001b[39mprint\u001b[39m(class_ID_array_full\u001b[39m.\u001b[39mshape)\n\u001b[1;32m      <a href='vscode-notebook-cell:/Users/thibaultgillard/Documents/EPF/git/ExplAInability-P5A/2_extract_included_segments.ipynb#X23sZmlsZQ%3D%3D?line=2'>3</a>\u001b[0m \u001b[39mprint\u001b[39m(test_polygon_ID_array\u001b[39m.\u001b[39mshape)\n\u001b[1;32m      <a href='vscode-notebook-cell:/Users/thibaultgillard/Documents/EPF/git/ExplAInability-P5A/2_extract_included_segments.ipynb#X23sZmlsZQ%3D%3D?line=3'>4</a>\u001b[0m \u001b[39mprint\u001b[39m(polygon_ID_array_full\u001b[39m.\u001b[39mshape)\n",
      "\u001b[0;31mNameError\u001b[0m: name 'class_ID_array_full' is not defined"
     ]
    }
   ],
   "source": [
    "print(test_class_ID_array.shape)\n",
    "print(class_ID_array_full.shape)\n",
    "print(test_polygon_ID_array.shape)\n",
    "print(polygon_ID_array_full.shape)\n",
    "print(test_segment_ID_array.shape)\n",
    "print(segment_ID_array_full.shape)\n",
    "\n",
    "print(test_class_ID_array[0,0])\n",
    "print(class_ID_array_full[0,0])\n",
    "\n",
    "\n",
    "# reduce the size of the arrays\n",
    "start_x = 0\n",
    "end_x = 2000\n",
    "start_y = 0\n",
    "end_y = 2000\n",
    "class_ID_array_reduced = class_ID_array_full[:end_x, :end_y]\n",
    "polygon_ID_array_reduced = polygon_ID_array_full[:end_x, :end_y]\n",
    "segment_ID_array_reduced = segment_ID_array_full[:end_x, :end_y]\n",
    "\n",
    "print(class_ID_array_reduced.shape)\n",
    "print(polygon_ID_array_reduced.shape)\n",
    "print(segment_ID_array_reduced.shape)\n",
    "\n",
    "print(test_class_ID_array)\n",
    "print(test_polygon_ID_array)\n",
    "print(test_segment_ID_array)"
   ]
  },
  {
   "cell_type": "markdown",
   "metadata": {},
   "source": [
    "# Create the function"
   ]
  },
  {
   "cell_type": "markdown",
   "metadata": {},
   "source": [
    "Here we create th function that will extract the segments from the data.  \n",
    "Based on a parameter, the function should retrieve segments X% included in the polygons.  \n",
    "By default this value is 100, which means fully contained segments, but we will use 50% for the rest of the project.  "
   ]
  },
  {
   "cell_type": "code",
   "execution_count": 9,
   "metadata": {},
   "outputs": [],
   "source": [
    "def find_contained_segments(class_ID, segment_ID, polygon_ID, output_file, included_pixel_percentage=100):\n",
    "    # Retrieve all polygons\n",
    "    polygons = np.unique(polygon_ID)\n",
    "    polygons = polygons[~np.isnan(polygons)]\n",
    "    iterations = len(polygons)\n",
    "\n",
    "    # Iterate through polygons\n",
    "    for i in range(len(polygons)):\n",
    "        print(f\"Iteration {i + 1}/{iterations}\")\n",
    "        # Retrieve pixels of polygon\n",
    "        polygon = polygons[i]\n",
    "        polygon_pixels = np.where(polygon_ID == polygon)\n",
    "        polygon_pixels = np.array(polygon_pixels).T\n",
    "\n",
    "        # Retrieve all segments of polygon\n",
    "        polygon_segments = []\n",
    "        for pixel in polygon_pixels:\n",
    "            polygon_segments.append(segment_ID[pixel[0], pixel[1]])\n",
    "        polygon_segments = np.unique(polygon_segments)\n",
    "\n",
    "        # For each segment, calculate the percentage of included pixels within the polygon\n",
    "        for segment in polygon_segments:\n",
    "            segment_pixels = np.where(segment_ID == segment)\n",
    "            segment_pixels = np.array(segment_pixels).T\n",
    "            total_pixels = len(segment_pixels)\n",
    "            \n",
    "            segment_pixel_polygon = np.where((segment_ID == segment) & (polygon_ID == polygon))\n",
    "            segment_pixel_polygon = np.array(segment_pixel_polygon).T\n",
    "            included_pixels = len(segment_pixel_polygon)\n",
    "\n",
    "            # Calculate the percentage of included pixels\n",
    "            percentage_included = (included_pixels / total_pixels) * 100\n",
    "\n",
    "            if percentage_included >= included_pixel_percentage:\n",
    "                # Retrieve the class of the segment\n",
    "                class_id = class_ID[segment_pixel_polygon[0, 0], segment_pixel_polygon[0, 1]]\n",
    "\n",
    "                # Generate the formatted pixel coordinates as lists\n",
    "                pixel_coords = [list(pixel) for pixel in segment_pixels]\n",
    "\n",
    "                # Write to the file in the desired format\n",
    "                output_file.write(f\"Segment ID: {segment}, Polygon ID: {polygon}, Class ID: {class_id}, Pixels: {pixel_coords}\\n\")\n"
   ]
  },
  {
   "cell_type": "code",
   "execution_count": 11,
   "metadata": {},
   "outputs": [],
   "source": [
    "import time\n",
    "segment_ID = 'data/segment_ID_2020.tif'\n",
    "segment_ID_array = open_tif(segment_ID)\n",
    "segment_ID_array_full = segment_ID_array.data[0]"
   ]
  },
  {
   "cell_type": "code",
   "execution_count": 27,
   "metadata": {},
   "outputs": [],
   "source": [
    "def retrieve_all_segments(segment_ID, output_file):\n",
    "    _, indices = np.unique(segment_ID, return_inverse=True)\n",
    "    unique_segments, segment_counts = np.unique(indices, return_counts=True)\n",
    "    total_pixels = len(segment_ID.flatten())\n",
    "\n",
    "    # Write to the file for each segment\n",
    "    for i, count in zip(unique_segments, segment_counts):\n",
    "        segment_indices = np.argwhere(indices == i).flatten()\n",
    "        pixel_coords = [list(np.unravel_index(idx, segment_ID.shape)) for idx in segment_indices]\n",
    "        output_file.write(f\"Segment ID: {i}, Polygon ID: 0, Class ID: 0, Pixels: {pixel_coords}\\n\")\n",
    "\n",
    "        # Print progress\n",
    "        print(f\"Processed {sum(segment_counts[:i+1])}/{total_pixels} pixels\", end='\\r')\n",
    "\n",
    "    print(\"Processing complete!\")  # To indicate completion after writing segments\n"
   ]
  },
  {
   "cell_type": "markdown",
   "metadata": {},
   "source": [
    "# Interesting test"
   ]
  },
  {
   "cell_type": "markdown",
   "metadata": {},
   "source": [
    "### **Why using the transpose ?**\n",
    "\n",
    "Lets see what happens if we don't use the transpose."
   ]
  },
  {
   "cell_type": "code",
   "execution_count": 12,
   "metadata": {},
   "outputs": [
    {
     "ename": "NameError",
     "evalue": "name 'find_contained_segments' is not defined",
     "output_type": "error",
     "traceback": [
      "\u001b[0;31m---------------------------------------------------------------------------\u001b[0m",
      "\u001b[0;31mNameError\u001b[0m                                 Traceback (most recent call last)",
      "\u001b[1;32m/Users/thibaultgillard/Documents/EPF/git/ExplAInability-P5A/2_extract_included_segments.ipynb Cell 26\u001b[0m line \u001b[0;36m3\n\u001b[1;32m      <a href='vscode-notebook-cell:/Users/thibaultgillard/Documents/EPF/git/ExplAInability-P5A/2_extract_included_segments.ipynb#X34sZmlsZQ%3D%3D?line=0'>1</a>\u001b[0m output_file_name \u001b[39m=\u001b[39m \u001b[39m\"\u001b[39m\u001b[39mdata/test_function_02.txt\u001b[39m\u001b[39m\"\u001b[39m\n\u001b[1;32m      <a href='vscode-notebook-cell:/Users/thibaultgillard/Documents/EPF/git/ExplAInability-P5A/2_extract_included_segments.ipynb#X34sZmlsZQ%3D%3D?line=1'>2</a>\u001b[0m \u001b[39mwith\u001b[39;00m \u001b[39mopen\u001b[39m(output_file_name, \u001b[39m'\u001b[39m\u001b[39mw\u001b[39m\u001b[39m'\u001b[39m) \u001b[39mas\u001b[39;00m output_file:\n\u001b[0;32m----> <a href='vscode-notebook-cell:/Users/thibaultgillard/Documents/EPF/git/ExplAInability-P5A/2_extract_included_segments.ipynb#X34sZmlsZQ%3D%3D?line=2'>3</a>\u001b[0m     find_contained_segments(test_class_ID_array, test_segment_ID_array, test_polygon_ID_array, output_file, included_pixel_percentage\u001b[39m=\u001b[39m\u001b[39m50\u001b[39m)\n",
      "\u001b[0;31mNameError\u001b[0m: name 'find_contained_segments' is not defined"
     ]
    }
   ],
   "source": [
    "output_file_name = \"data/test_function_02.txt\"\n",
    "with open(output_file_name, 'w') as output_file:\n",
    "    find_contained_segments(test_class_ID_array, test_segment_ID_array, test_polygon_ID_array, output_file, included_pixel_percentage=50)"
   ]
  },
  {
   "cell_type": "markdown",
   "metadata": {},
   "source": [
    "As we can see on the results above using the **test data**, using `np.where` returns two arrays, one giving the **row index** and the other the **column index** for the pixels that are included in the **polygon**.  \n",
    "Using `np.array` enables to have **two list**, one for **x** and one for **y** for the pixels.  \n",
    "Since we want to have ***'couple'*** of pixels, we need to **transpose** the array to have the x and y coordinates for **each pixel**.  \n",
    "Doing so we can easily iterate through each pixel and create the **segments**."
   ]
  },
  {
   "cell_type": "markdown",
   "metadata": {},
   "source": [
    "The same principle applies later on for the segments pixels."
   ]
  },
  {
   "cell_type": "markdown",
   "metadata": {},
   "source": [
    "# Extract 50% included segments"
   ]
  },
  {
   "cell_type": "markdown",
   "metadata": {},
   "source": [
    "Now we can call the function to extract the segments.  \n",
    "The segments are directly written to a file.  "
   ]
  },
  {
   "cell_type": "code",
   "execution_count": 18,
   "metadata": {},
   "outputs": [
    {
     "ename": "NameError",
     "evalue": "name 'find_contained_segments' is not defined",
     "output_type": "error",
     "traceback": [
      "\u001b[0;31m---------------------------------------------------------------------------\u001b[0m",
      "\u001b[0;31mNameError\u001b[0m                                 Traceback (most recent call last)",
      "\u001b[1;32m/Users/thibaultgillard/Documents/EPF/git/ExplAInability-P5A/2_extract_included_segments.ipynb Cell 31\u001b[0m line \u001b[0;36m4\n\u001b[1;32m      <a href='vscode-notebook-cell:/Users/thibaultgillard/Documents/EPF/git/ExplAInability-P5A/2_extract_included_segments.ipynb#X42sZmlsZQ%3D%3D?line=0'>1</a>\u001b[0m output_file_name \u001b[39m=\u001b[39m \u001b[39m\"\u001b[39m\u001b[39mdata/contained_segments.txt\u001b[39m\u001b[39m\"\u001b[39m\n\u001b[1;32m      <a href='vscode-notebook-cell:/Users/thibaultgillard/Documents/EPF/git/ExplAInability-P5A/2_extract_included_segments.ipynb#X42sZmlsZQ%3D%3D?line=1'>2</a>\u001b[0m \u001b[39mwith\u001b[39;00m \u001b[39mopen\u001b[39m(output_file_name, \u001b[39m'\u001b[39m\u001b[39mw\u001b[39m\u001b[39m'\u001b[39m) \u001b[39mas\u001b[39;00m output_file:\n\u001b[1;32m      <a href='vscode-notebook-cell:/Users/thibaultgillard/Documents/EPF/git/ExplAInability-P5A/2_extract_included_segments.ipynb#X42sZmlsZQ%3D%3D?line=2'>3</a>\u001b[0m     \u001b[39m# run the function on the full arrays\u001b[39;00m\n\u001b[0;32m----> <a href='vscode-notebook-cell:/Users/thibaultgillard/Documents/EPF/git/ExplAInability-P5A/2_extract_included_segments.ipynb#X42sZmlsZQ%3D%3D?line=3'>4</a>\u001b[0m     find_contained_segments(class_ID_array_full, segment_ID_array_full, polygon_ID_array_full, output_file, included_pixel_percentage\u001b[39m=\u001b[39m\u001b[39m50\u001b[39m)\n\u001b[1;32m      <a href='vscode-notebook-cell:/Users/thibaultgillard/Documents/EPF/git/ExplAInability-P5A/2_extract_included_segments.ipynb#X42sZmlsZQ%3D%3D?line=5'>6</a>\u001b[0m     \u001b[39m# to test the function on reduced arrays\u001b[39;00m\n\u001b[1;32m      <a href='vscode-notebook-cell:/Users/thibaultgillard/Documents/EPF/git/ExplAInability-P5A/2_extract_included_segments.ipynb#X42sZmlsZQ%3D%3D?line=6'>7</a>\u001b[0m     \u001b[39m#find_fully_contained_segments(class_ID_array_reduced, segment_ID_array_reduced, polygon_ID_array_reduced, output_file)\u001b[39;00m\n\u001b[1;32m      <a href='vscode-notebook-cell:/Users/thibaultgillard/Documents/EPF/git/ExplAInability-P5A/2_extract_included_segments.ipynb#X42sZmlsZQ%3D%3D?line=7'>8</a>\u001b[0m     \n\u001b[1;32m      <a href='vscode-notebook-cell:/Users/thibaultgillard/Documents/EPF/git/ExplAInability-P5A/2_extract_included_segments.ipynb#X42sZmlsZQ%3D%3D?line=8'>9</a>\u001b[0m     \u001b[39m# to test the function on test arrays\u001b[39;00m\n\u001b[1;32m     <a href='vscode-notebook-cell:/Users/thibaultgillard/Documents/EPF/git/ExplAInability-P5A/2_extract_included_segments.ipynb#X42sZmlsZQ%3D%3D?line=9'>10</a>\u001b[0m     \u001b[39m#find_fully_contained_segments(test_class_ID_array, test_segment_ID_array, test_polygon_ID_array, output_file)\u001b[39;00m\n",
      "\u001b[0;31mNameError\u001b[0m: name 'find_contained_segments' is not defined"
     ]
    }
   ],
   "source": [
    "output_file_name = \"data/contained_segments.txt\"\n",
    "with open(output_file_name, 'w') as output_file:\n",
    "    # run the function on the full arrays\n",
    "    find_contained_segments(class_ID_array_full, segment_ID_array_full, polygon_ID_array_full, output_file, included_pixel_percentage=50)\n",
    "    \n",
    "    # to test the function on reduced arrays\n",
    "    #find_fully_contained_segments(class_ID_array_reduced, segment_ID_array_reduced, polygon_ID_array_reduced, output_file)\n",
    "    \n",
    "    # to test the function on test arrays\n",
    "    #find_fully_contained_segments(test_class_ID_array, test_segment_ID_array, test_polygon_ID_array, output_file)"
   ]
  },
  {
   "cell_type": "markdown",
   "metadata": {},
   "source": [
    "# Extract all segments"
   ]
  },
  {
   "cell_type": "markdown",
   "metadata": {},
   "source": [
    "We can use the second function to extract all segments in the same format as the first function."
   ]
  },
  {
   "cell_type": "code",
   "execution_count": 29,
   "metadata": {},
   "outputs": [
    {
     "name": "stdout",
     "output_type": "stream",
     "text": [
      "Processing complete!3390879 pixels\n"
     ]
    }
   ],
   "source": [
    "output_file_name = \"data/contained_all_segments.txt\"\n",
    "with open(output_file_name, 'w') as output_file:\n",
    "    # run the function on the full arrays\n",
    "    retrieve_all_segments(segment_ID_array_full, output_file)#segment_ID_array_full test_segment_ID_array"
   ]
  },
  {
   "cell_type": "markdown",
   "metadata": {},
   "source": [
    "# Conclusion"
   ]
  },
  {
   "cell_type": "markdown",
   "metadata": {},
   "source": [
    "We used the function to extract the segments from the data for 0.001% (if one pixel of a segment is included in a polygon then all the segment is retrieve), 50% and 100%.  \n",
    "In the next notebook, we are using the files to gain insights and make a decision on the percentage to use."
   ]
  }
 ],
 "metadata": {
  "kernelspec": {
   "display_name": "Python 3",
   "language": "python",
   "name": "python3"
  },
  "language_info": {
   "codemirror_mode": {
    "name": "ipython",
    "version": 3
   },
   "file_extension": ".py",
   "mimetype": "text/x-python",
   "name": "python",
   "nbconvert_exporter": "python",
   "pygments_lexer": "ipython3",
   "version": "3.8.7"
  },
  "orig_nbformat": 4
 },
 "nbformat": 4,
 "nbformat_minor": 2
}
