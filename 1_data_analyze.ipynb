{
 "cells": [
  {
   "cell_type": "markdown",
   "metadata": {},
   "source": [
    "The objective of this notebook is to analyze the data to gain insights and better understand how the different files could be used."
   ]
  },
  {
   "cell_type": "markdown",
   "metadata": {},
   "source": [
    "***Import necessary libraries***"
   ]
  },
  {
   "cell_type": "code",
   "execution_count": 1,
   "metadata": {},
   "outputs": [],
   "source": [
    "from rasterio.plot import show\n",
    "import numpy as np\n",
    "import matplotlib.pyplot as plt\n",
    "import rasterio\n",
    "import rasterio.features"
   ]
  },
  {
   "cell_type": "markdown",
   "metadata": {},
   "source": [
    "Lets create the files variables"
   ]
  },
  {
   "cell_type": "code",
   "execution_count": 6,
   "metadata": {},
   "outputs": [],
   "source": [
    "class_ID = 'D:/General/ExaplAInability_Data/transfer_6060512_files_e989f8bb/class_segment_polygon/class_ID_2020.tif'\n",
    "segment_ID = 'D:/General/ExaplAInability_Data/transfer_6060512_files_e989f8bb/class_segment_polygon/segment_ID_2020.tif'\n",
    "polygon_ID = 'D:/General/ExaplAInability_Data/transfer_6060512_files_e989f8bb/class_segment_polygon/polygon_ID.tif'"
   ]
  },
  {
   "cell_type": "markdown",
   "metadata": {},
   "source": [
    "# Open the files"
   ]
  },
  {
   "cell_type": "code",
   "execution_count": 7,
   "metadata": {},
   "outputs": [
    {
     "data": {
      "text/plain": [
       "array([   1,    1,    1, ..., 1251, 1251, 1251], dtype=uint32)"
      ]
     },
     "execution_count": 7,
     "metadata": {},
     "output_type": "execute_result"
    }
   ],
   "source": [
    "# lets try with segment_ID\n",
    "with rasterio.open(segment_ID) as dataset:\n",
    "    image = dataset.read(1)\n",
    "image[0]    "
   ]
  },
  {
   "cell_type": "code",
   "execution_count": 8,
   "metadata": {},
   "outputs": [
    {
     "data": {
      "text/plain": [
       "array([[[nan, nan, nan, ..., nan, nan, nan],\n",
       "        [nan, nan, nan, ..., nan, nan, nan],\n",
       "        [nan, nan, nan, ..., nan, nan, nan],\n",
       "        ...,\n",
       "        [nan, nan, nan, ..., nan, nan, nan],\n",
       "        [nan, nan, nan, ..., nan, nan, nan],\n",
       "        [nan, nan, nan, ..., nan, nan, nan]]])"
      ]
     },
     "execution_count": 8,
     "metadata": {},
     "output_type": "execute_result"
    }
   ],
   "source": [
    "# try with polygon_ID\n",
    "with rasterio.open(polygon_ID) as dataset2:\n",
    "    image2 = dataset2.read()  \n",
    "image2"
   ]
  },
  {
   "cell_type": "markdown",
   "metadata": {},
   "source": [
    "# Analyze the files"
   ]
  },
  {
   "cell_type": "markdown",
   "metadata": {},
   "source": [
    "Now lets get a deeper understanding of each file."
   ]
  },
  {
   "cell_type": "code",
   "execution_count": 9,
   "metadata": {},
   "outputs": [],
   "source": [
    "def open_raster(raster_path):\n",
    "    # Open the raster\n",
    "    class_raster = rasterio.open(raster_path)\n",
    "\n",
    "    # Get statistics of the raster\n",
    "    print(class_raster.descriptions)\n",
    "    print(class_raster.bounds)\n",
    "    print(class_raster.crs)\n",
    "    print(class_raster.count)  # Number of bands\n",
    "    print(class_raster.width, class_raster.height)  # Dimensions\n",
    "    print(class_raster.transform)  # Affine transformation matrix\n",
    "    \n",
    "    return class_raster"
   ]
  },
  {
   "cell_type": "code",
   "execution_count": 18,
   "metadata": {},
   "outputs": [
    {
     "name": "stdout",
     "output_type": "stream",
     "text": [
      "('polygon_ID',)\n",
      "BoundingBox(left=402570.0, bottom=1212060.0, right=454400.0, top=1257190.0)\n",
      "EPSG:32630\n",
      "1\n",
      "5183 4513\n",
      "| 10.00, 0.00, 402570.00|\n",
      "| 0.00,-10.00, 1257190.00|\n",
      "| 0.00, 0.00, 1.00|\n"
     ]
    }
   ],
   "source": [
    "class_raster = open_raster(polygon_ID)"
   ]
  },
  {
   "cell_type": "markdown",
   "metadata": {},
   "source": [
    "Lets create a function that gives more insights on data."
   ]
  },
  {
   "cell_type": "code",
   "execution_count": null,
   "metadata": {},
   "outputs": [],
   "source": [
    "def plot_Raster_info(class_raster):\n",
    "    min_value = class_raster.read(1).min()\n",
    "    max_value = class_raster.read(1).max()\n",
    "    print(\"Minimum value:\", min_value)\n",
    "    print(\"Maximum value:\", max_value)\n",
    "    print(\"Mean value:\", class_raster.read(1).mean())\n",
    "    # retreive all nan values\n",
    "    print(\"Number of nan values:\", np.count_nonzero(np.isnan(class_raster.read(1))))\n",
    "    # print percentage of nan values\n",
    "    print(\"Percentage of nan values:\", np.count_nonzero(np.isnan(class_raster.read(1)))/(class_raster.width*class_raster.height)*100)\n",
    "    # print number of unique values\n",
    "    print(\"Number of unique values:\", np.unique(class_raster.read(1)))\n",
    "    # print frequency of unique values\n",
    "    print(\"Frequency of unique values:\", np.unique(class_raster.read(1), return_counts=True))\n",
    "    # count number of not nan values\n",
    "    print(\"Number of not nan values:\", np.count_nonzero(~np.isnan(class_raster.read(1))))\n",
    "    plt.hist(class_raster.read(1).ravel(), bins=100, color='blue', alpha=0.7)\n",
    "    plt.xlabel('Pixel Value')\n",
    "    plt.ylabel('Frequency')\n",
    "    plt.title('Histogram of Pixel Values')\n",
    "    plt.show()"
   ]
  },
  {
   "cell_type": "markdown",
   "metadata": {},
   "source": [
    "The above function gives (amoung others) those information :  \n",
    "\n",
    "* **For the `Class` element**  \n",
    "Percentage of nan values: **99.6**581488023601  \n",
    "Number of unique values: [ 1.  2.  3.  4.  5.  6.  7.  8. nan]\n",
    "\n",
    "* **For the `Segment` element**  \n",
    "Percentage of nan values: **0.0  **\n",
    "Number of unique values: [      1       2       3 ... 1447916 1447917 1447918]\n",
    "\n",
    "* **For the `Polygon` element**  \n",
    "Percentage of nan values: **99.6**581488023601  \n",
    "Number of unique values: [  0.  --> 997. nan ]"
   ]
  },
  {
   "cell_type": "markdown",
   "metadata": {},
   "source": [
    "We also have those distributions :  \n",
    "* **For the `Class` element**  \n",
    "<img src=\"assets\\class_md.png\" width=500>  \n",
    "\n",
    "* **For the `Segment` element**  \n",
    "<img src=\"assets\\segment_md.png\" width=500>\n",
    "\n",
    "* **For the `Polygon` element**  \n",
    "<img src=\"assets\\polygon_md.png\" width=500>"
   ]
  },
  {
   "cell_type": "markdown",
   "metadata": {},
   "source": [
    "# Conclusion on data"
   ]
  },
  {
   "cell_type": "markdown",
   "metadata": {},
   "source": [
    "So as we understood it, each of those file could be interpreted as **filters/layers** to be applied on the **raster images** that we will deal with later on.  \n",
    "THey are giving for each pixel its `class`, its `segment` and its `polygon`.  \n",
    "\n",
    "The segments are **fully connected** on the map, each pixel is part of a segment.  \n",
    "That's not the case with polygons, which are **bigger elements** than segments, belonging to a class.  \n",
    "Those polygons appear to be distributed on the map but **not fully connected**.  \n",
    "\n",
    "Now the `classification` is made on **polygons**, as we want to `segmentize` by **segment**, we need to extract the segments included in polygons (all polygons are classified).  \n",
    "As segments might not be totally included in polygons, we will have to chose a strategy to deal with those cases, in the next notebook."
   ]
  }
 ],
 "metadata": {
  "kernelspec": {
   "display_name": "Python 3",
   "language": "python",
   "name": "python3"
  },
  "language_info": {
   "codemirror_mode": {
    "name": "ipython",
    "version": 3
   },
   "file_extension": ".py",
   "mimetype": "text/x-python",
   "name": "python",
   "nbconvert_exporter": "python",
   "pygments_lexer": "ipython3",
   "version": "3.8.7"
  },
  "orig_nbformat": 4
 },
 "nbformat": 4,
 "nbformat_minor": 2
}
